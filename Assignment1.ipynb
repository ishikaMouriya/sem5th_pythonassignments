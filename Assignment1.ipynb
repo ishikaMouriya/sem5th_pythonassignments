{
 "cells": [
  {
   "cell_type": "code",
   "execution_count": 5,
   "id": "fd12d3f0-0da8-47e3-8f5c-15124aab34fd",
   "metadata": {},
   "outputs": [
    {
     "name": "stdout",
     "output_type": "stream",
     "text": [
      "\"CARRY AN UMBRELLA\"\n"
     ]
    }
   ],
   "source": [
    "#q1\n",
    "a=input(\"enter yes if raining ,no otherwise:\")\n",
    "if(a==\"yes\"):\n",
    " print(\"\\\"CARRY AN UMBRELLA\\\"\")\n",
    "else:\n",
    " print(\"\\\"BYE\\\"\")\n"
   ]
  },
  {
   "cell_type": "code",
   "execution_count": 6,
   "id": "e8f7355a-0e35-41d8-bb62-138d105874df",
   "metadata": {},
   "outputs": [
    {
     "name": "stdout",
     "output_type": "stream",
     "text": [
      "\"BYE\"\n"
     ]
    }
   ],
   "source": [
    "#Q2\n",
    "a=input(\"enter yes if raining ,no otherwise:\")\n",
    "if(a==\"yes\"):\n",
    " print(\"\\\"CARRY AN UMBRELLA\\\"\")\n",
    "elif(a==\"no\"):\n",
    "    print(\"\\\"No need to carry an umbrella\\\"\")\n",
    "else:\n",
    " print(\"\\\"BYE\\\"\")\n",
    "\n"
   ]
  },
  {
   "cell_type": "code",
   "execution_count": 7,
   "id": "bbcc99ff-7f2a-4a5c-8b79-4b2427782d62",
   "metadata": {},
   "outputs": [
    {
     "name": "stdout",
     "output_type": "stream",
     "text": [
      "the grade based on marks input:-> grade 'A'\n",
      "\"Excellent\"\n"
     ]
    }
   ],
   "source": [
    "#q3\n",
    "marks=eval(input(\"enter the marks\"))\n",
    "print(\"the grade based on marks input:\",end=\"-> \")\n",
    "if(marks>=90):\n",
    "  print(\"grade \\'A\\'\")\n",
    "  print(\"\\\"Excellent\\\"\")\n",
    "elif(marks>=80):\n",
    "  print(\"grade \\'B\\'\")\n",
    "  print(\"\\\"Good\\\"\")\n",
    "elif(marks>=70):\n",
    "  print(\"grade \\'c\\':\",\" Average\")\n",
    "elif(marks>=60):\n",
    "  print(\"grade \\'E\\':\",\"Needs improvement\")\n",
    "else:\n",
    "  print(\"grade \\'D\\':\",\"Failing\")"
   ]
  },
  {
   "cell_type": "code",
   "execution_count": 8,
   "id": "68e6bcdc-5507-4730-b245-bfd5e5c6798f",
   "metadata": {},
   "outputs": [
    {
     "name": "stdout",
     "output_type": "stream",
     "text": [
      "number is odd\n"
     ]
    }
   ],
   "source": [
    "#q4\n",
    "a=int(input(\"enter a number\"))\n",
    "if(a%2==0):\n",
    "    print(\"number is even\")\n",
    "else:\n",
    "    print(\"number is odd\")"
   ]
  },
  {
   "cell_type": "code",
   "execution_count": 11,
   "id": "835a5e41-c343-4d74-b9e7-3c214be88e18",
   "metadata": {},
   "outputs": [
    {
     "name": "stdout",
     "output_type": "stream",
     "text": [
      "leap year\n"
     ]
    }
   ],
   "source": [
    "#q5\n",
    "year=int(input(\"enter the year\"))\n",
    "if(year%4==0):\n",
    "    if(year%100==0):\n",
    "       if(year%400==0):\n",
    "          print(\"leap year\")\n",
    "       else:\n",
    "          print(\"not a leap year\")\n",
    "  \n",
    "else:\n",
    "   print(\"not a leap year\")\n",
    "\n",
    "   #i/p:2000"
   ]
  },
  {
   "cell_type": "code",
   "execution_count": 14,
   "id": "262cca89-1a23-41ef-a47b-854c0d03ae6d",
   "metadata": {},
   "outputs": [
    {
     "name": "stdout",
     "output_type": "stream",
     "text": [
      "prime\n"
     ]
    }
   ],
   "source": [
    "#q6\n",
    "a=int(input(\"enter a no\"))\n",
    "q=0\n",
    "for i in range(2,int(a**.5+1)):\n",
    "    if (a%i==0):\n",
    "        print(\"not prime\")\n",
    "        q=1\n",
    "        break\n",
    "\n",
    "if (q==0):\n",
    "    print(\"prime\")\n",
    "\n",
    "#i/p:5"
   ]
  },
  {
   "cell_type": "code",
   "execution_count": 31,
   "id": "dd64f61f-f5f5-4d02-a507-5b80d70efedd",
   "metadata": {},
   "outputs": [
    {
     "name": "stdout",
     "output_type": "stream",
     "text": [
      "enter range 20\n"
     ]
    },
    {
     "name": "stdout",
     "output_type": "stream",
     "text": [
      "1 2 3 5 7 11 13 17 19 "
     ]
    }
   ],
   "source": [
    "#q7\n",
    "n=int(input(\"enter range\"))\n",
    "sum=0\n",
    "q=0\n",
    "for i in range (1,n):\n",
    "     for j in range(2,int(i**.5+1)):\n",
    "         if (i%j==0):\n",
    "           #print(\"not prime\")\n",
    "           q=1\n",
    "           break\n",
    "     if(q==0):\n",
    "       print(i,end=\" \")\n",
    "     q=0\n",
    "         "
   ]
  },
  {
   "cell_type": "code",
   "execution_count": 34,
   "id": "0ed3c51c-b2d9-4560-bdf7-8a6e7d82ed66",
   "metadata": {},
   "outputs": [
    {
     "name": "stdout",
     "output_type": "stream",
     "text": [
      "enter a number: -2\n",
      "enter a number: -3\n",
      "enter a number: 5\n"
     ]
    },
    {
     "name": "stdout",
     "output_type": "stream",
     "text": [
      "ans: 25\n"
     ]
    }
   ],
   "source": [
    "#q8\n",
    "a=int(input(\"enter a number:\"))\n",
    "while(a<0):\n",
    "    a=int(input(\"enter a number:\"))\n",
    "else:\n",
    "    if(a%2==0):\n",
    "        print(\"ans:\",a*2)\n",
    "    else:\n",
    "        print(\"ans:\",a**2)\n",
    "    "
   ]
  },
  {
   "cell_type": "code",
   "execution_count": 8,
   "id": "f12c6036-3c13-48e8-be14-eb47eacc5cb2",
   "metadata": {},
   "outputs": [
    {
     "name": "stdout",
     "output_type": "stream",
     "text": [
      "enter a string: abc\n"
     ]
    },
    {
     "name": "stdout",
     "output_type": "stream",
     "text": [
      "a\n",
      "ab\n",
      "abc\n",
      "b\n",
      "bc\n",
      "c\n"
     ]
    }
   ],
   "source": [
    "#q10\n",
    "s=input(\"enter a string:\")\n",
    "for i in range(0,len(s)):\n",
    "    r=\"\"\n",
    "    for j in range(i,len(s)):\n",
    "        r+=s[j]\n",
    "        print (r)\n",
    "       "
   ]
  },
  {
   "cell_type": "code",
   "execution_count": 8,
   "id": "368e56af-d225-4ce1-b622-271663b84c72",
   "metadata": {},
   "outputs": [
    {
     "name": "stdout",
     "output_type": "stream",
     "text": [
      "enter your choice /\n",
      "enter number a: 9\n",
      "enter number b: 0\n"
     ]
    },
    {
     "name": "stdout",
     "output_type": "stream",
     "text": [
      "cannot divide by zero\n"
     ]
    },
    {
     "name": "stdout",
     "output_type": "stream",
     "text": [
      "enter your choice +\n",
      "enter number a: 2\n",
      "enter number b: 1\n"
     ]
    },
    {
     "name": "stdout",
     "output_type": "stream",
     "text": [
      "sum: 3\n"
     ]
    },
    {
     "name": "stdout",
     "output_type": "stream",
     "text": [
      "enter your choice exit\n"
     ]
    },
    {
     "name": "stdout",
     "output_type": "stream",
     "text": [
      "end of program\n"
     ]
    }
   ],
   "source": [
    "#q11\n",
    "while True:\n",
    "    \n",
    "    choice=input(\"enter your choice\")\n",
    "    if(choice==\"exit\"):\n",
    "      print(\"end of program\")\n",
    "      break\n",
    "    else:\n",
    "       a=int(input(\"enter number a:\"))\n",
    "       b=int(input(\"enter number b:\"))\n",
    "       match(choice):\n",
    "            case \"+\":\n",
    "               print(\"sum:\",a+b)\n",
    "            case \"-\":\n",
    "                print(\"difference:\",a-b)\n",
    "            case \"*\":\n",
    "                print(\"multiply:\",a*b)\n",
    "            case \"/\":\n",
    "                if(b!=0):\n",
    "                  print(\"divide\",a/b)\n",
    "                else:\n",
    "                  print(\"cannot divide by zero\")\n",
    "            case _:\n",
    "                print(\"invalid choice\")\n",
    "\n",
    "    \n",
    "    \n",
    "    "
   ]
  },
  {
   "cell_type": "code",
   "execution_count": 3,
   "id": "73bbe3dc-3a34-4270-8834-e798abadcc40",
   "metadata": {},
   "outputs": [
    {
     "name": "stdout",
     "output_type": "stream",
     "text": [
      "enter the list of numbers: [1,2,3,2,3,4,4,4,5,4,5,6]\n"
     ]
    },
    {
     "name": "stdout",
     "output_type": "stream",
     "text": [
      "3.5833333333333335\n",
      "4.0\n",
      "4\n"
     ]
    }
   ],
   "source": [
    "#q12\n",
    "import statistics as s\n",
    "#from decimal import Decimal, getcontext\n",
    "#getcontext().prec=15\n",
    "items=eval(input(\"enter the list of numbers:\"))\n",
    "#items.sort()\n",
    "#print(items)\n",
    "print(s.mean(items))\n",
    "print(s.median(items))\n",
    "print(s.mode(items))"
   ]
  },
  {
   "cell_type": "code",
   "execution_count": 14,
   "id": "5952abae-ddb5-43fc-81d7-005b048c42cf",
   "metadata": {},
   "outputs": [
    {
     "name": "stdout",
     "output_type": "stream",
     "text": [
      "enter the row number: 8\n",
      "enter the column character: a\n"
     ]
    },
    {
     "name": "stdout",
     "output_type": "stream",
     "text": [
      "the ascii of column is: 97\n",
      "the box is white\n"
     ]
    }
   ],
   "source": [
    "#q13\n",
    "row=int(input(\"enter the row number:\"))\n",
    "column=input(\"enter the column character:\")\n",
    "print(\"the ascii of column is:\",ord(column))\n",
    "if((row+ord(column))%2==0):\n",
    "    print(\"#q13the box is black\")\n",
    "else:\n",
    "    print(\"the box is white\")"
   ]
  },
  {
   "cell_type": "code",
   "execution_count": 28,
   "id": "f3aaa69d-58f4-48c2-9cb2-098794683878",
   "metadata": {},
   "outputs": [
    {
     "name": "stdout",
     "output_type": "stream",
     "text": [
      "enter room choice(Standard,Deluxe,Suite) Standard\n",
      "enter the length of days: 5\n",
      "enter season(peak or off) peak\n",
      "input yes or no yes\n"
     ]
    },
    {
     "name": "stdout",
     "output_type": "stream",
     "text": [
      "the final amount is: 513.0\n"
     ]
    }
   ],
   "source": [
    "#q14\n",
    "'''print(\" rooms are Standard,Deluxe,Suite\\n\",\"the discount as per length of stay are:20%>3 nights,20%>7 nights\")\n",
    "print(\"the additional during peak season are : 20% + peak season,15% - offseason \")\n",
    "print(\"for loyalty:5% discount\\n\")\n",
    "'''\n",
    "#enter choices \n",
    "price=0\n",
    "room=input(\"enter room choice(Standard,Deluxe,Suite)\")\n",
    "days=int(input(\"enter the length of days:\"))\n",
    "season=input(\"enter season(peak or off)\")\n",
    "loyalty=input(\"input yes or no\")\n",
    "if(room==\"Standard\"):\n",
    "    price=100*days\n",
    "elif(room==\"Deluxe\"):\n",
    "    price=150*days\n",
    "elif(room==\"Suite\"):\n",
    "    price=250*days\n",
    "else:\n",
    "    print(\"invalid choice of room\")\n",
    "    price=0\n",
    "\n",
    "if(days>7):\n",
    "      price=price-.2*price\n",
    "if(days>3):\n",
    "      price=price-.1*price\n",
    "\n",
    "if(season==\"peak\"):\n",
    "    price+=.2*price\n",
    "else:\n",
    "    price-=.15*price\n",
    "\n",
    "if(loyalty==\"yes\"):\n",
    "   price-=.05*price\n",
    "\n",
    "print(\"the final amount is:\",price)\n"
   ]
  },
  {
   "cell_type": "code",
   "execution_count": 1,
   "id": "ca9b969a-f20d-4ccf-bce6-dc04b6392255",
   "metadata": {},
   "outputs": [
    {
     "name": "stdout",
     "output_type": "stream",
     "text": [
      "6\n",
      "6\n",
      "perfect number\n"
     ]
    }
   ],
   "source": [
    "#q15\n",
    "a=int(input(\"enter a natural number:\"))\n",
    "while (a<=0):\n",
    "    a=int(input(\"enter a natural number:\"))\n",
    "print(a)\n",
    "sum=0\n",
    "for i in range(1,a):\n",
    "    if(a%i==0):\n",
    "     sum=sum+i\n",
    "        \n",
    "print(sum)       \n",
    "if(sum==a):\n",
    "   print(\"perfect number\")\n",
    "else:\n",
    "    print(\"not perfect number\")\n",
    "\n"
   ]
  },
  {
   "cell_type": "code",
   "execution_count": 27,
   "id": "5e0956d2-9fe6-48db-97c5-fae5c665aaeb",
   "metadata": {},
   "outputs": [
    {
     "name": "stdout",
     "output_type": "stream",
     "text": [
      "sum: 0.540302303791887\n"
     ]
    }
   ],
   "source": [
    "#q16a\n",
    "import math\n",
    "def fact(a):\n",
    "    if(a==1):\n",
    "      return 1\n",
    "    else:\n",
    "      return a*fact(a-1)\n",
    "\n",
    "n=int(input(\"enter the limit of the series:\"))\n",
    "x=int(input(\"enter the alue of x:\"))\n",
    "i=1\n",
    "sum=1\n",
    "while(i<=n):\n",
    "    if(i%2==0):\n",
    "        sum+=math.pow(x,2*i)/fact(2*i)\n",
    "    else:\n",
    "        sum-=math.pow(x,2*i)/fact(2*i)\n",
    "    i+=1\n",
    "\n",
    "print(\"sum:\",sum)"
   ]
  },
  {
   "cell_type": "code",
   "execution_count": 2,
   "id": "0fdf4749",
   "metadata": {},
   "outputs": [
    {
     "name": "stdout",
     "output_type": "stream",
     "text": [
      "sum: 1.0\n"
     ]
    }
   ],
   "source": [
    "#q16b\n",
    "import math\n",
    "def fact(a):\n",
    "    if(a==0):\n",
    "      return 1\n",
    "    else:\n",
    "      return a*fact(a-1)\n",
    "\n",
    "\n",
    "n=int(input(\"enter the limit of the series:\"))\n",
    "x=int(input(\"enter the alue of x:\"))\n",
    "i=0\n",
    "sum=0\n",
    "while(i<n):#as i is starting from 0 therefore<n\n",
    "  \n",
    "    sum+=math.pow(x,i)/fact(i)\n",
    "    i+=1\n",
    "\n",
    "print(\"sum:\",sum)\n",
    "\n",
    "\n",
    "\n"
   ]
  },
  {
   "cell_type": "code",
   "execution_count": 12,
   "id": "17ef0c92",
   "metadata": {},
   "outputs": [
    {
     "name": "stdout",
     "output_type": "stream",
     "text": [
      "sum: 3\n"
     ]
    }
   ],
   "source": [
    "#q16c\n",
    "n=int(input(\"enter the limit of the series:\"))\n",
    "sum=0\n",
    "for i in range(0,n):\n",
    "    if(i%2!=0):\n",
    "        sum-=2*i+1\n",
    "    else:\n",
    "        sum+=2*i+1\n",
    "\n",
    "\n",
    "print(\"sum:\",sum)"
   ]
  },
  {
   "cell_type": "code",
   "execution_count": 20,
   "id": "e616b0b3",
   "metadata": {},
   "outputs": [
    {
     "name": "stdout",
     "output_type": "stream",
     "text": [
      "100 102 105 108 110 114 115 120 125 126 \n",
      "\n",
      "\n",
      "\n",
      "130 132 135 138 140 144 145 150 155 156 \n",
      "\n",
      "\n",
      "\n",
      "160 162 165 168 170 174 175 180 185 186 \n",
      "\n",
      "\n",
      "\n",
      "190 192 195 198 200 204 205 210 215 216 \n",
      "\n",
      "\n",
      "\n",
      "220 222 225 228 230 234 235 240 245 246 \n",
      "\n",
      "\n",
      "\n",
      "250 252 255 258 260 264 265 270 275 276 \n",
      "\n",
      "\n",
      "\n",
      "280 282 285 288 290 294 295 300 "
     ]
    }
   ],
   "source": [
    "#q17\n",
    "c=0\n",
    "for i in range(100,1001):\n",
    "    if(i%5==0) or (i%6==0):\n",
    "        print(i,end=\" \")\n",
    "        c+=1\n",
    "    if(c%10==0):\n",
    "        print()\n",
    "        c=0"
   ]
  },
  {
   "cell_type": "code",
   "execution_count": 22,
   "id": "143ee8f5",
   "metadata": {},
   "outputs": [
    {
     "name": "stdout",
     "output_type": "stream",
     "text": [
      "1 2 3 4 5 6 8 9 10 11 12 13 15 16 17 18 19 20 22 23 24 25 26 27 29 30 31 32 33 34 36 37 38 39 40 41 43 44 45 46 47 48 50 51 52 53 54 55 57 58 59 60 61 62 64 65 66 67 68 69 71 72 73 74 75 76 78 79 80 81 82 83 85 86 87 88 89 90 92 93 94 95 96 97 99 100 "
     ]
    }
   ],
   "source": [
    "#q18\n",
    "for i in range(1,101):\n",
    "    if(i%7==0):\n",
    "        continue\n",
    "    print(i,end=\" \")"
   ]
  },
  {
   "cell_type": "code",
   "execution_count": 47,
   "id": "e2518f8b",
   "metadata": {},
   "outputs": [
    {
     "name": "stdout",
     "output_type": "stream",
     "text": [
      "4321\n",
      "rev: 4321\n"
     ]
    }
   ],
   "source": [
    "#q19\n",
    "#way1:\n",
    "a=int(input(\"enter a number:\"))\n",
    "a1=str(a)\n",
    "print(a1[len(a1)::-1])\n",
    "\n",
    "#way2\n",
    "\n",
    "rev=0\n",
    "while(a!=0):\n",
    "    rev=rev*10+a%10\n",
    "    a=a//10\n",
    "\n",
    "print(\"rev:\",rev)"
   ]
  },
  {
   "cell_type": "code",
   "execution_count": 30,
   "id": "c353ff86",
   "metadata": {},
   "outputs": [
    {
     "name": "stdout",
     "output_type": "stream",
     "text": [
      "2\n",
      "n: 120\n",
      "2\n",
      "n: 60\n",
      "2\n",
      "n: 30\n",
      "3\n",
      "n: 15\n",
      "5\n",
      "n: 5\n",
      "[2, 2, 2, 3, 5]\n"
     ]
    }
   ],
   "source": [
    "#q20\n",
    "n=int(input(\"enter:\"))\n",
    "l1=[]\n",
    "while n!=1:\n",
    "     for i in range(2,n+1):\n",
    "          if(n%i==0):\n",
    "               break\n",
    "     print(i)\n",
    "     print(\"n:\",n)\n",
    "     l1.append(i)\n",
    "     n=n//i\n",
    "     \n",
    "\n",
    "l1.sort()\n",
    "print (l1)\n",
    "       \n",
    "\n"
   ]
  },
  {
   "cell_type": "code",
   "execution_count": 39,
   "id": "08e759a4",
   "metadata": {},
   "outputs": [
    {
     "name": "stdout",
     "output_type": "stream",
     "text": [
      "5 ! = 120\n"
     ]
    }
   ],
   "source": [
    "#q21\n",
    "n=int(input(\"enter:\"))\n",
    "fact=1\n",
    "i=1\n",
    "while(fact<=n):\n",
    "    fact=fact*i\n",
    "    if(fact==n):\n",
    "        print(i,\"! =\",n)\n",
    "        break\n",
    "    i+=1\n",
    "if(fact>n):\n",
    "    print(\"not\",i)\n",
    "\n"
   ]
  },
  {
   "cell_type": "code",
   "execution_count": 1,
   "id": "1d483cd6",
   "metadata": {},
   "outputs": [
    {
     "name": "stdout",
     "output_type": "stream",
     "text": [
      "11\n"
     ]
    }
   ],
   "source": [
    "#q22\n",
    "n=int(input(\"enter:\"))\n",
    "sum=0\n",
    "tsum=0\n",
    "while(n>9):\n",
    "    #sum of digits\n",
    "    n1=n\n",
    "    while(n1!=0):\n",
    "        sum+=n1%10\n",
    "        n1=n1//10\n",
    "\n",
    "    tsum+=sum\n",
    "    n=sum\n",
    "    sum=0\n",
    "\n",
    "print(tsum)\n",
    "    \n",
    "\n"
   ]
  },
  {
   "cell_type": "code",
   "execution_count": 6,
   "id": "229f5d17",
   "metadata": {},
   "outputs": [
    {
     "name": "stdout",
     "output_type": "stream",
     "text": [
      "no of  100  notes: 13\n",
      "no of  20  notes: 2\n"
     ]
    }
   ],
   "source": [
    "#q23\n",
    "wamt=int(input(\"enter amt to withdraw:\"))\n",
    "ATMamt=int(input(\"enter amt in atm:\"))\n",
    "l1=[100,50,20,10]\n",
    "if(wamt<ATMamt and wamt%10==0):\n",
    "    for i in l1:\n",
    "      if(wamt>0 and wamt//i>0):\n",
    "        print(\"no of \",i,\" notes:\",wamt//i)\n",
    "        wamt=wamt%i\n",
    "else:\n",
    "   print(\"invalid input\")\n",
    "\n",
    "\n"
   ]
  },
  {
   "cell_type": "code",
   "execution_count": 4,
   "id": "282f3304",
   "metadata": {},
   "outputs": [
    {
     "name": "stdout",
     "output_type": "stream",
     "text": [
      "FIVE "
     ]
    }
   ],
   "source": [
    "#q24\n",
    "n=int(input(\"enter a number:\"))\n",
    "dictionary={1:\"ONE\",2:\"TWO\",3:\"THREE\",4:\"FOUR\",5:\"FIVE\",6:\"SIX\",7:\"SEVEN\",8:\"EIGHT\",9:\"NINE\"}\n",
    "while(n!=0):\n",
    "    print(dictionary[n//10**(len(str(n))-1)],end=\" \")\n",
    "    n=n%10**(len(str(n))-1)\n",
    "\n"
   ]
  },
  {
   "cell_type": "code",
   "execution_count": 3,
   "id": "5e6cfa51",
   "metadata": {},
   "outputs": [
    {
     "name": "stdout",
     "output_type": "stream",
     "text": [
      "*\n",
      "**\n",
      "***\n",
      "****\n",
      "*****\n",
      "******\n",
      "*******\n",
      "********\n",
      "\n",
      "        *\n",
      "       **\n",
      "      ***\n",
      "     ****\n",
      "    *****\n",
      "   ******\n",
      "  *******\n",
      " ********\n",
      "\n",
      "********\n",
      " *******\n",
      "  ******\n",
      "   *****\n",
      "    ****\n",
      "     ***\n",
      "      **\n",
      "       *\n",
      "\n",
      "********\n",
      "*******\n",
      "******\n",
      "*****\n",
      "****\n",
      "***\n",
      "**\n",
      "*\n",
      "\n",
      "* * * * * * * * \n",
      " * * * * * * * \n",
      "  * * * * * * \n",
      "   * * * * * \n",
      "    * * * * \n",
      "     * * * \n",
      "      * * \n",
      "       * \n"
     ]
    }
   ],
   "source": [
    "#q25 \n",
    "\n",
    "# a\n",
    "n=int(input(\"enter limit:\"))\n",
    "for  i in range(0,n):\n",
    "    print(\"*\"*(i+1))\n",
    "\n",
    "#b\n",
    "print()\n",
    "for i in range(0,n):\n",
    "    for j in range(0,n-i):\n",
    "        print(\" \",end=\"\")\n",
    "    print(\"*\"*(i+1))\n",
    "\n",
    "#c\n",
    "print()\n",
    "for i in range(0,n):\n",
    "    for j in range(0,i):\n",
    "        print(\" \",end=\"\")\n",
    "    print(\"*\"*(n-i))\n",
    "\n",
    "#d\n",
    "print()\n",
    "for i in range(0,n):\n",
    "    print(\"*\"*(n-i))\n",
    "\n",
    "#e\n",
    "print()\n",
    "for i in range(0,n):\n",
    "    print(\" \"*i,end=\"\")\n",
    "    print(\"* \"*(n-i))\n",
    "\n",
    "\n",
    "\n"
   ]
  },
  {
   "cell_type": "code",
   "execution_count": 2,
   "id": "48f05347",
   "metadata": {},
   "outputs": [
    {
     "name": "stdout",
     "output_type": "stream",
     "text": [
      "     *\n",
      "    * *\n",
      "   *   *\n",
      "  *     *\n",
      " *       *\n",
      "***********\n",
      "\n",
      "0 1 2 3 4 5 \n",
      "0 1 2 3 4 \n",
      "0 1 2 3 \n",
      "0 1 2 \n",
      "0 1 \n",
      "0 \n",
      "\n",
      "1 \n",
      "3 3 \n",
      "5 5 5 \n",
      "7 7 7 7 \n",
      "9 9 9 9 9 \n",
      "\n",
      "1 \n",
      "2 1 \n",
      "3 2 1 \n",
      "4 3 2 1 \n",
      "5 4 3 2 1 \n",
      "\n",
      "1 \n",
      "2 4 \n",
      "3 6 9 \n",
      "4 8 12 16 \n",
      "5 10 15 20 25 \n",
      "A\n",
      "BC\n",
      "DEF\n",
      "GHIJ\n",
      "KLMNO\n",
      "PQRSTU\n",
      "VWXYZ[\\\n",
      "        1 \n",
      "      2 1 2 \n",
      "    3 2 1 2 3 \n",
      "  4 3 2 1 2 3 4 \n",
      "5 4 3 2 1 2 3 4 5 \n"
     ]
    }
   ],
   "source": [
    "n=int(input(\"enter n:\"))\n",
    "#f\n",
    "\n",
    "'''\n",
    "for i in range(6):\n",
    "  if(i<4):\n",
    "     print(\" \"*(3-i),end=\"\")\n",
    "  else:\n",
    "     print(\" \"*(i-3),end=\"\")\n",
    "  if(i<=3):\n",
    "   print(\"* \",(2*i+1))\n",
    "  else:\n",
    "    print(\"* \",(6-i)+1)\n",
    " '''   \n",
    "\n",
    "#g\n",
    "for i in range(1,n+1):\n",
    "  \n",
    "    for k in range(0,n-i):\n",
    "        print(\" \",end=\"\")\n",
    "    for j in range(1,2*(i-1)+1):\n",
    "        if(j==1):\n",
    "            print(\"*\",end=\"\")\n",
    "        elif(i==n):\n",
    "            print(\"*\",end=\"\")\n",
    "        else:\n",
    "            print(\" \",end=\"\")\n",
    "    print(\"*\")\n",
    "\n",
    "#h\n",
    "\n",
    "#i\n",
    "\n",
    "print()\n",
    "#j\n",
    "for i in range(0,6):\n",
    "    for j in range(0,6-i):\n",
    "        print(j,end=\" \")\n",
    "    print()\n",
    "\n",
    "print()\n",
    "#k\n",
    "for i in range(0,5):\n",
    "    for j in range(0,i+1):\n",
    "     print(2*i+1,end=\" \")\n",
    "    print()\n",
    "\n",
    "\n",
    "print()\n",
    "#l\n",
    "for i in range(1,6):\n",
    "    for j in range(i,0,-1):\n",
    "        print(j,end=\" \")\n",
    "    print()\n",
    "\n",
    "print()\n",
    "#m\n",
    "for i in range(1,6):\n",
    "    for j in range(1,i+1):\n",
    "        print(i*j,end=\" \")\n",
    "    print()\n",
    "\n",
    "#n\n",
    "c=65\n",
    "for i in range(1,8):\n",
    "    for j in range(1,i+1):\n",
    "        print(chr(c),end=\"\")\n",
    "        c+=1\n",
    "    print()\n",
    "\n",
    "#o\n",
    "n=5\n",
    "for i in range(1,n+1):\n",
    "    print(\"  \"*(n-i),end=\"\")\n",
    "    for j in range(i,0,-1):\n",
    "        print(j,end=\" \")\n",
    "    for k in range(2,i+1):\n",
    "        print(k,end=\" \")\n",
    "    print()\n",
    "    \n",
    "\n"
   ]
  }
 ],
 "metadata": {
  "kernelspec": {
   "display_name": ".venv",
   "language": "python",
   "name": "python3"
  },
  "language_info": {
   "codemirror_mode": {
    "name": "ipython",
    "version": 3
   },
   "file_extension": ".py",
   "mimetype": "text/x-python",
   "name": "python",
   "nbconvert_exporter": "python",
   "pygments_lexer": "ipython3",
   "version": "3.12.6"
  }
 },
 "nbformat": 4,
 "nbformat_minor": 5
}
