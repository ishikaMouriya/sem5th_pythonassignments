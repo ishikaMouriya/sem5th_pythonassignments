{
 "cells": [
  {
   "cell_type": "code",
   "execution_count": 5,
   "metadata": {},
   "outputs": [
    {
     "name": "stdout",
     "output_type": "stream",
     "text": [
      "1660.0\n"
     ]
    }
   ],
   "source": [
    "#q1\n",
    "def overtime_salary(hourly_rate,extra_hours):\n",
    "    return 1.5*hourly_rate*extra_hours*4\n",
    "\n",
    "def basic_salary(hourly_rate,hours_worked_per_week):\n",
    "    return hourly_rate*hours_worked_per_week*4\n",
    "\n",
    "def total_salary(hourly_rate,hours_worked_per_week):\n",
    "    if(hours_worked_per_week>40):\n",
    "        BS=basic_salary(hourly_rate,40)+overtime_salary(hourly_rate,hours_worked_per_week-40)\n",
    "    else:\n",
    "        BS=basic_salary(hourly_rate,hours_worked_per_week)\n",
    "    return BS\n",
    "\n",
    "h_rate=int(input(\"enter hourly_rate\"))\n",
    "h_worked=int(input(\"enter hours worked\"))\n",
    "print(total_salary(h_rate,h_worked))\n",
    "       \n",
    "    \n",
    "#i/p:-h_rate=10  ; h_worked=41\n",
    "\n"
   ]
  },
  {
   "cell_type": "code",
   "execution_count": 8,
   "metadata": {},
   "outputs": [
    {
     "name": "stdout",
     "output_type": "stream",
     "text": [
      "500.0\n"
     ]
    }
   ],
   "source": [
    "def tax_amount(basic_salary):\n",
    "    if(basic_salary<=60000):\n",
    "        tax=.10*basic_salary\n",
    "    if(basic_salary>60000 and basic_salary<85000):\n",
    "        tax=.15*basic_salary\n",
    "    if(basic_salary>85000):\n",
    "        tax=.20*basic_salary\n",
    "    return tax\n",
    "  \n",
    "    \n",
    "basic_salary=int(input(\"enter basic salary\"))\n",
    "print(tax_amount(basic_salary))\n",
    "\n",
    "#i/p:5000"
   ]
  },
  {
   "cell_type": "code",
   "execution_count": null,
   "metadata": {},
   "outputs": [],
   "source": []
  }
 ],
 "metadata": {
  "kernelspec": {
   "display_name": ".venv",
   "language": "python",
   "name": "python3"
  },
  "language_info": {
   "codemirror_mode": {
    "name": "ipython",
    "version": 3
   },
   "file_extension": ".py",
   "mimetype": "text/x-python",
   "name": "python",
   "nbconvert_exporter": "python",
   "pygments_lexer": "ipython3",
   "version": "3.12.6"
  }
 },
 "nbformat": 4,
 "nbformat_minor": 2
}
