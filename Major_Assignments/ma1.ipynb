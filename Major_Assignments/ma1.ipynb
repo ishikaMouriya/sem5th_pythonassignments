{
 "cells": [
  {
   "cell_type": "code",
   "execution_count": 16,
   "metadata": {},
   "outputs": [
    {
     "name": "stdout",
     "output_type": "stream",
     "text": [
      "1600\n",
      "60.0\n",
      "Total_salary: 1660.0\n",
      "Basic Salary: 1600\n",
      "Tax: 160.0\n"
     ]
    }
   ],
   "source": [
    "#q1\n",
    "def overtime_salary(hourly_rate,hours_worked_per_week):\n",
    "    if(hours_worked_per_week>40):\n",
    "     return 1.5*hourly_rate*(hours_worked_per_week-40)*4\n",
    "    return 0\n",
    "\n",
    "def basic_salary(hourly_rate,hours_worked_per_week):\n",
    "    if(hours_worked_per_week>40):\n",
    "     return hourly_rate*40*4\n",
    "    else:\n",
    "        return hourly_rate*hours_worked_per_week*4\n",
    "\n",
    "\n",
    "def total_salary(hourly_rate,hours_worked_per_week):\n",
    "   print( basic_salary(hourly_rate,hours_worked_per_week))\n",
    "   print(overtime_salary(hourly_rate,hours_worked_per_week))\n",
    "   return  basic_salary(hourly_rate,hours_worked_per_week)+overtime_salary(hourly_rate,hours_worked_per_week)\n",
    "\n",
    "def tax_amount(basic_sal):\n",
    "    if(basic_sal<=60000):\n",
    "        tax=.10*basic_sal\n",
    "    if(basic_sal>60000 and basic_sal<=85000):\n",
    "        tax=.15*basic_sal\n",
    "    if(basic_salary>85000):\n",
    "        tax=.20*basic_sal\n",
    "    return tax\n",
    "  \n",
    "\n",
    "h_rate=int(input(\"enter hourly_rate\"))\n",
    "h_worked=int(input(\"enter hours worked\"))\n",
    "Total_Salary=total_salary(h_rate,h_worked)\n",
    "print(\"Total_salary:\",Total_Salary)\n",
    "basic_salary=basic_salary(h_rate,h_worked)\n",
    "print(\"Basic Salary:\",basic_salary)\n",
    "tax=tax_amount(basic_salary)\n",
    "print(\"Tax:\",tax)\n",
    "\n",
    "\n",
    "\n",
    "\n",
    "\n",
    "       \n",
    "    \n",
    "#i/p:-h_rate=10  ; h_worked=41\n",
    "\n"
   ]
  },
  {
   "cell_type": "code",
   "execution_count": 8,
   "metadata": {},
   "outputs": [
    {
     "name": "stdout",
     "output_type": "stream",
     "text": [
      "500.0\n"
     ]
    }
   ],
   "source": []
  },
  {
   "cell_type": "code",
   "execution_count": null,
   "metadata": {},
   "outputs": [],
   "source": []
  }
 ],
 "metadata": {
  "kernelspec": {
   "display_name": ".venv",
   "language": "python",
   "name": "python3"
  },
  "language_info": {
   "codemirror_mode": {
    "name": "ipython",
    "version": 3
   },
   "file_extension": ".py",
   "mimetype": "text/x-python",
   "name": "python",
   "nbconvert_exporter": "python",
   "pygments_lexer": "ipython3",
   "version": "3.12.6"
  }
 },
 "nbformat": 4,
 "nbformat_minor": 2
}
