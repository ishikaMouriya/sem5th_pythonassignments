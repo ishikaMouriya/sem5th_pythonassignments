{
 "cells": [
  {
   "cell_type": "code",
   "execution_count": 3,
   "metadata": {},
   "outputs": [
    {
     "name": "stdout",
     "output_type": "stream",
     "text": [
      "['Dnipro', 'Kharkiv', 'Kyiv', 'Lviv', 'Odessa']\n"
     ]
    }
   ],
   "source": [
    "cities=eval(input(\"enter a list\"))\n",
    "cleaned_cities=list()\n",
    "for i in l:\n",
    "    i=i.capitalize()\n",
    "    if i not in cleaned_cities:\n",
    "        cleaned_cities.append(i)\n",
    "\n",
    "cleaned_cities.sort()\n",
    "print(cleaned_cities)\n",
    "\n",
    "#i/p:-['Kyiv', 'Kharkiv', 'Odessa', 'Kyiv', 'Lviv', 'Kharkiv', 'Dnipro']"
   ]
  },
  {
   "cell_type": "code",
   "execution_count": 11,
   "metadata": {},
   "outputs": [
    {
     "name": "stdout",
     "output_type": "stream",
     "text": [
      "{'Dnipro', 'Donetsk', 'Lviv', 'Odessa', 'Mariupol', 'Kharkiv', 'Kyiv'}\n",
      "{'Dnipro', 'Donetsk', 'Mariupol', 'Kharkiv', 'Odessa'}\n",
      "{'Lviv', 'Kyiv'}\n"
     ]
    }
   ],
   "source": [
    " #mission2:\n",
    "cleaned_citiess=set(cleaned_cities)\n",
    "#print(cleaned_citiess)\n",
    "previous_intel=eval(input(\"enter previous intel\"))\n",
    "print(cleaned_citiess.union(previous_intel))\n",
    "print(previous_intel.symmetric_difference(cleaned_citiess))\n",
    "high_alert_cities=cleaned_citiess.intersection(previous_intel)\n",
    "print(high_alert_cities)\n",
    "\n",
    "#i/p:- {'Kyiv', 'Mariupol', 'Lviv', 'Donetsk'}"
   ]
  },
  {
   "cell_type": "code",
   "execution_count": 17,
   "metadata": {},
   "outputs": [
    {
     "name": "stdout",
     "output_type": "stream",
     "text": [
      "{'Kyiv': ('Kyiv', 2800000, 250), 'Lviv': ('Lviv', 721301, 90)}\n",
      "population sum: 3521301\n",
      "total aid number: 340\n"
     ]
    }
   ],
   "source": [
    "city_data=eval(input(\"enter city data in a tuple inside list form:\"))\n",
    "high_alert_cities_info=dict()\n",
    "population=0\n",
    "aid_request=0\n",
    "for  i in city_data:\n",
    "    if i[0] in high_alert_cities:\n",
    "       high_alert_cities_info[i[0]]=i\n",
    "       population+=i[1]\n",
    "       aid_request+=i[2]\n",
    "\n",
    "print(high_alert_cities_info)\n",
    "print(\"population sum:\",population)\n",
    "print(\"total aid number:\",aid_request)\n",
    "\n",
    "#i/p:-[('Kyiv', 2800000, 250), ('Kharkiv', 1431000, 180), ('Lviv',721301, 90), ('Odessa', 1029049, 120)]"
   ]
  },
  {
   "cell_type": "code",
   "execution_count": 20,
   "metadata": {},
   "outputs": [
    {
     "name": "stdout",
     "output_type": "stream",
     "text": [
      "{'Kyiv': {'Food': 500}, 'Moscow': {'Medicines': 200}, 'Lviv': {'Water': 300}, 'Saint Petersburg': {'Blankets': 100}, 'Kharkiv': {'Food': 150}}\n"
     ]
    }
   ],
   "source": [
    "#mission4:\n",
    "supplies=eval(input(\"enter supplies\"))\n",
    "dsupplies=dict()\n",
    "for i in supplies:\n",
    "    dsupplies[i[0]]=dict({i[1]:i[2]})\n",
    "\n",
    "print(dsupplies)\n",
    "\n",
    "#i/p:- [('Kyiv', 'Food', 500), ('Moscow', 'Medicines', 200), ('Lviv', 'Water', 300), ('Saint Petersburg', 'Blankets', 100), ('Kharkiv', 'Food', 150)]\n"
   ]
  }
 ],
 "metadata": {
  "kernelspec": {
   "display_name": ".venv",
   "language": "python",
   "name": "python3"
  },
  "language_info": {
   "codemirror_mode": {
    "name": "ipython",
    "version": 3
   },
   "file_extension": ".py",
   "mimetype": "text/x-python",
   "name": "python",
   "nbconvert_exporter": "python",
   "pygments_lexer": "ipython3",
   "version": "3.12.6"
  }
 },
 "nbformat": 4,
 "nbformat_minor": 2
}
