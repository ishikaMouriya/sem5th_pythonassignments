{
 "cells": [
  {
   "cell_type": "code",
   "execution_count": 5,
   "metadata": {},
   "outputs": [
    {
     "name": "stdout",
     "output_type": "stream",
     "text": [
      "{'pritvi': 100}\n",
      "100\n"
     ]
    }
   ],
   "source": [
    "#q1\n",
    "name=input(\"enter student name\")\n",
    "marks=int(input(\"student marks\"))\n",
    "#t=dict({name:marks})\n",
    "t=dict()\n",
    "#t.update({name:marks})\n",
    "t[name]=marks\n",
    "print(t)\n",
    "n=input(\"enter name\")\n",
    "print(t[n])"
   ]
  },
  {
   "cell_type": "code",
   "execution_count": 6,
   "metadata": {},
   "outputs": [
    {
     "name": "stdout",
     "output_type": "stream",
     "text": [
      "{'ishika': 23, 'mini': 100, 'rishi': 98}\n",
      "ishika  :  23\n",
      "mini  :  100\n",
      "rishi  :  98\n"
     ]
    }
   ],
   "source": [
    "#q2\n",
    "d=eval(input(\"enter names:marks\"))\n",
    "print(d)\n",
    "for i in d:\n",
    "    print(i,\" : \",d[i])\n",
    "    \n"
   ]
  },
  {
   "cell_type": "code",
   "execution_count": 7,
   "metadata": {},
   "outputs": [
    {
     "name": "stdout",
     "output_type": "stream",
     "text": [
      "{'qiowdj': 278, 'sd': 89}\n",
      "367\n"
     ]
    }
   ],
   "source": [
    "#q3\n",
    "d=eval(input(\"enter names:marks\"))\n",
    "print(d)\n",
    "print(sum(d.values()))"
   ]
  },
  {
   "cell_type": "code",
   "execution_count": 9,
   "metadata": {},
   "outputs": [
    {
     "name": "stdout",
     "output_type": "stream",
     "text": [
      "{'dog': 'chien', 'cat': 'chat', 'walrus': 'morse'}\n",
      "dog is chien\n",
      "cat is chat\n",
      "walrus is morse\n"
     ]
    }
   ],
   "source": [
    "#q4\n",
    "e2f=eval(input(\"enter names:marks\"))\n",
    "print(e2f)\n",
    "for i in e2f:\n",
    "    print(i,\"is\",e2f[i])\n",
    "    \n"
   ]
  },
  {
   "cell_type": "code",
   "execution_count": 16,
   "metadata": {},
   "outputs": [
    {
     "name": "stdout",
     "output_type": "stream",
     "text": [
      "True\n",
      "False\n",
      "Canada   ca\n",
      "United States   us\n",
      "Mexico   mx\n",
      "\n",
      "{'Canada': 'ca', 'United States': 'us', 'Mexico': 'mx', 'Sweden': 'sw'}\n",
      "{'Canada': 'ca', 'United States': 'us', 'Mexico': 'mx', 'Sweden': 'se'}\n",
      "{'ca': 'Canada', 'us': 'United States', 'mx': 'Mexico', 'se': 'Sweden'}\n",
      "{'ca': 'Canada', 'us': 'United States', 'mx': 'Mexico', 'se': 'Sweden'}\n"
     ]
    }
   ],
   "source": [
    "#q5\n",
    "tlds = {\"Canada\": \"ca\", \"United States\": \"us\", \"Mexico\": \"mx\"}\n",
    "print(\"Canada\" in tlds)\n",
    "print(\"France\" in tlds)\n",
    "for i in tlds:\n",
    "    print(i,\" \",tlds[i])\n",
    "tlds[\"Sweden\"]=\"sw\"#or update\n",
    "print()\n",
    "print(tlds)\n",
    "tlds.update({\"Sweden\":\"se\"})#do not use setdfault coz \"Sweden is alredy in the list and value will not be added\"\n",
    "print(tlds)\n",
    "\n",
    "tlds2=dict()\n",
    "for i in tlds:\n",
    "    tlds2[tlds[i]]=i\n",
    "\n",
    "#or\n",
    "tlds3=dict()\n",
    "for x,y in tlds.items():\n",
    "    tlds3[y]=x\n",
    "    \n",
    "\n",
    "print(tlds2)\n",
    "print(tlds3)\n"
   ]
  },
  {
   "cell_type": "code",
   "execution_count": 17,
   "metadata": {},
   "outputs": [
    {
     "name": "stdout",
     "output_type": "stream",
     "text": [
      "[1, 2, 3, 5]\n",
      "['I', 'II', 'III', 'V']\n",
      "[('I', 1), ('II', 2), ('III', 3), ('V', 5)]\n"
     ]
    }
   ],
   "source": [
    "#q6\n",
    "roman_numerals = {'I': 1, 'II': 2, 'III': 3, 'V': 5}\n",
    "print(list(roman_numerals.values()))\n",
    "print(list(roman_numerals.keys()))\n",
    "print(list(roman_numerals.items()))\n"
   ]
  },
  {
   "cell_type": "code",
   "execution_count": null,
   "metadata": {},
   "outputs": [
    {
     "name": "stdout",
     "output_type": "stream",
     "text": [
      "{1: 1, 2: 8, 3: 27, 4: 64, 5: 125}\n"
     ]
    }
   ],
   "source": [
    "#q7\n",
    "d={i:i**3 for i in range(1,6) }#use curly brackets in dict domprehension\n",
    "print(d)\n"
   ]
  },
  {
   "cell_type": "code",
   "execution_count": 22,
   "metadata": {},
   "outputs": [
    {
     "name": "stdout",
     "output_type": "stream",
     "text": [
      "{'animals': {'cats': 'Henri', 'octopi': 'Grumpy', 'emus': 'Lucy'}, 'plants': {}, 'other': {}}\n"
     ]
    }
   ],
   "source": [
    "#q8\n",
    "life={\n",
    "    \"animals\":{\n",
    "        \"cats\":\"Henri\",\n",
    "        \"octopi\":\"Grumpy\",\n",
    "        \"emus\":\"Lucy\"\n",
    "    },\n",
    "    \"plants\":{},\n",
    "    \"other\":{}\n",
    "}\n",
    "print(life)"
   ]
  },
  {
   "cell_type": "code",
   "execution_count": 25,
   "metadata": {},
   "outputs": [
    {
     "name": "stdout",
     "output_type": "stream",
     "text": [
      "{'m': 1, 'i': 4, 's': 4, 'p': 2}\n"
     ]
    }
   ],
   "source": [
    "#q9\n",
    "str=input(\"enter a string\")\n",
    "d=dict()\n",
    "for i in str:\n",
    "    if i not in d:\n",
    "        d[i]=str.count(i)\n",
    "\n",
    "print(d)"
   ]
  },
  {
   "cell_type": "code",
   "execution_count": null,
   "metadata": {},
   "outputs": [
    {
     "name": "stdout",
     "output_type": "stream",
     "text": [
      "{'i': 2, 'a': 1}\n"
     ]
    }
   ],
   "source": [
    "#q10\n",
    "str=input(\"enter a string\")\n",
    "d=dict()\n",
    "for i in str:\n",
    "      i=i.lower()\n",
    "      if (i=='a' or i=='e' or i=='i' or i=='o' or i=='u') and (i not in d):\n",
    "            d[i]=str.count(i)\n",
    "print(d)\n",
    "#i/p=\"ishika\"          "
   ]
  },
  {
   "cell_type": "code",
   "execution_count": 1,
   "metadata": {},
   "outputs": [
    {
     "name": "stdout",
     "output_type": "stream",
     "text": [
      "four five three "
     ]
    }
   ],
   "source": [
    "#q11\n",
    "def num_to_name(a):\n",
    "    match(a):\n",
    "        case 1:\n",
    "            return \"one\"\n",
    "        case 2:\n",
    "            return \"two\"\n",
    "        case 3:\n",
    "            return \"three\"\n",
    "        case 4:\n",
    "            return \"four\"\n",
    "        case 5:\n",
    "            return \"five\"\n",
    "        case 6:\n",
    "            return \"six\"\n",
    "        case 7:\n",
    "            return \"seven\"\n",
    "        case 8:\n",
    "            return \"eight\"\n",
    "        case 9:\n",
    "            return \"nine\"\n",
    "        \n",
    "n=(input(\"enter integer\"))\n",
    "\n",
    "''' i in range(l-1,-1):\n",
    "     print(num_to_name(n/(10**i)))\n",
    "     n=n%(10**i)'''\n",
    "     \n",
    "for i in n:\n",
    "    print(num_to_name(int(i)),end=\" \")\n",
    "    #i/p:-452"
   ]
  },
  {
   "cell_type": "code",
   "execution_count": null,
   "metadata": {},
   "outputs": [
    {
     "name": "stdout",
     "output_type": "stream",
     "text": [
      "{'cat': 2, 'is': 1}\n"
     ]
    }
   ],
   "source": [
    "#q12\n",
    "s=input(\"enter a sentence\")\n",
    "s=s.lower()+\" \"\n",
    "d=dict()\n",
    "i=0\n",
    "while i<len(s):\n",
    "    ind=s.index(\" \",i)#index(\" \")\n",
    "    #print(ind)\n",
    "    word=s[i:ind]\n",
    "    if word not in d:\n",
    "      d[s[i:ind]]=s.split().count(s[i:ind])\n",
    "    i=ind+1\n",
    "print(d)\n",
    "\n",
    "#i/p cat is cat"
   ]
  },
  {
   "cell_type": "code",
   "execution_count": null,
   "metadata": {},
   "outputs": [
    {
     "ename": "TypeError",
     "evalue": "unbound method list.sort() needs an argument",
     "output_type": "error",
     "traceback": [
      "\u001b[1;31m---------------------------------------------------------------------------\u001b[0m",
      "\u001b[1;31mTypeError\u001b[0m                                 Traceback (most recent call last)",
      "Cell \u001b[1;32mIn[6], line 13\u001b[0m\n\u001b[0;32m     10\u001b[0m     \u001b[38;5;28mprint\u001b[39m(se)\n\u001b[0;32m     12\u001b[0m l\u001b[38;5;241m=\u001b[39m\u001b[38;5;28meval\u001b[39m(\u001b[38;5;28minput\u001b[39m(\u001b[38;5;124m\"\u001b[39m\u001b[38;5;124menter list of words\u001b[39m\u001b[38;5;124m\"\u001b[39m))\n\u001b[1;32m---> 13\u001b[0m \u001b[43munique\u001b[49m\u001b[43m(\u001b[49m\u001b[43ml\u001b[49m\u001b[43m)\u001b[49m\n",
      "Cell \u001b[1;32mIn[6], line 3\u001b[0m, in \u001b[0;36munique\u001b[1;34m(l)\u001b[0m\n\u001b[0;32m      2\u001b[0m \u001b[38;5;28;01mdef\u001b[39;00m \u001b[38;5;21munique\u001b[39m(l):\n\u001b[1;32m----> 3\u001b[0m     \u001b[38;5;28;43mlist\u001b[39;49m\u001b[38;5;241;43m.\u001b[39;49m\u001b[43msort\u001b[49m\u001b[43m(\u001b[49m\u001b[43m)\u001b[49m\n\u001b[0;32m      4\u001b[0m     se\u001b[38;5;241m=\u001b[39m\u001b[38;5;28mset\u001b[39m()\n\u001b[0;32m      5\u001b[0m     \u001b[38;5;28;01mfor\u001b[39;00m i \u001b[38;5;129;01min\u001b[39;00m l:\n",
      "\u001b[1;31mTypeError\u001b[0m: unbound method list.sort() needs an argument"
     ]
    }
   ],
   "source": [
    "#q13\n",
    "def unique(l):\n",
    "    l.sort()\n",
    "    se=set()\n",
    "    for i in l:\n",
    "        s=i.lower()\n",
    "        se.add(s)\n",
    "        if i in se:\n",
    "            se.discard(s)\n",
    "    print(se)\n",
    "\n",
    "l=eval(input(\"enter list of words\"))\n",
    "unique(l)\n",
    "\n",
    "#i/p:-[\"is\",\"are\",\"is\",\"car\",\"car\",\"tree\"]\n",
    "\n",
    "\n",
    "\n"
   ]
  },
  {
   "cell_type": "code",
   "execution_count": null,
   "metadata": {},
   "outputs": [],
   "source": []
  }
 ],
 "metadata": {
  "kernelspec": {
   "display_name": ".venv",
   "language": "python",
   "name": "python3"
  },
  "language_info": {
   "codemirror_mode": {
    "name": "ipython",
    "version": 3
   },
   "file_extension": ".py",
   "mimetype": "text/x-python",
   "name": "python",
   "nbconvert_exporter": "python",
   "pygments_lexer": "ipython3",
   "version": "3.12.6"
  }
 },
 "nbformat": 4,
 "nbformat_minor": 2
}
