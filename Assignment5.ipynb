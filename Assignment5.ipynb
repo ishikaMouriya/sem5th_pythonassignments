{
 "cells": [
  {
   "cell_type": "code",
   "execution_count": 5,
   "metadata": {},
   "outputs": [
    {
     "name": "stdout",
     "output_type": "stream",
     "text": [
      "{'pritvi': 100}\n",
      "100\n"
     ]
    }
   ],
   "source": [
    "#q1\n",
    "name=input(\"enter student name\")\n",
    "marks=int(input(\"student marks\"))\n",
    "#t=dict({name:marks})\n",
    "t=dict()\n",
    "#t.update({name:marks})\n",
    "t[name]=marks\n",
    "print(t)\n",
    "n=input(\"enter name\")\n",
    "print(t[n])"
   ]
  },
  {
   "cell_type": "code",
   "execution_count": 6,
   "metadata": {},
   "outputs": [
    {
     "name": "stdout",
     "output_type": "stream",
     "text": [
      "{'ishika': 23, 'mini': 100, 'rishi': 98}\n",
      "ishika  :  23\n",
      "mini  :  100\n",
      "rishi  :  98\n"
     ]
    }
   ],
   "source": [
    "#q2\n",
    "d=eval(input(\"enter names:marks\"))\n",
    "print(d)\n",
    "for i in d:\n",
    "    print(i,\" : \",d[i])\n",
    "    \n"
   ]
  },
  {
   "cell_type": "code",
   "execution_count": 7,
   "metadata": {},
   "outputs": [
    {
     "name": "stdout",
     "output_type": "stream",
     "text": [
      "{'qiowdj': 278, 'sd': 89}\n",
      "367\n"
     ]
    }
   ],
   "source": [
    "#q3\n",
    "d=eval(input(\"enter names:marks\"))\n",
    "print(d)\n",
    "print(sum(d.values()))"
   ]
  },
  {
   "cell_type": "code",
   "execution_count": 9,
   "metadata": {},
   "outputs": [
    {
     "name": "stdout",
     "output_type": "stream",
     "text": [
      "{'dog': 'chien', 'cat': 'chat', 'walrus': 'morse'}\n",
      "dog is chien\n",
      "cat is chat\n",
      "walrus is morse\n"
     ]
    }
   ],
   "source": [
    "#q4\n",
    "e2f=eval(input(\"enter names:marks\"))\n",
    "print(e2f)\n",
    "for i in e2f:\n",
    "    print(i,\"is\",e2f[i])\n",
    "    \n"
   ]
  },
  {
   "cell_type": "code",
   "execution_count": 16,
   "metadata": {},
   "outputs": [
    {
     "name": "stdout",
     "output_type": "stream",
     "text": [
      "True\n",
      "False\n",
      "Canada   ca\n",
      "United States   us\n",
      "Mexico   mx\n",
      "\n",
      "{'Canada': 'ca', 'United States': 'us', 'Mexico': 'mx', 'Sweden': 'sw'}\n",
      "{'Canada': 'ca', 'United States': 'us', 'Mexico': 'mx', 'Sweden': 'se'}\n",
      "{'ca': 'Canada', 'us': 'United States', 'mx': 'Mexico', 'se': 'Sweden'}\n",
      "{'ca': 'Canada', 'us': 'United States', 'mx': 'Mexico', 'se': 'Sweden'}\n"
     ]
    }
   ],
   "source": [
    "#q5\n",
    "tlds = {\"Canada\": \"ca\", \"United States\": \"us\", \"Mexico\": \"mx\"}\n",
    "print(\"Canada\" in tlds)\n",
    "print(\"France\" in tlds)\n",
    "for i in tlds:\n",
    "    print(i,\" \",tlds[i])\n",
    "tlds[\"Sweden\"]=\"sw\"#or update\n",
    "print()\n",
    "print(tlds)\n",
    "tlds.update({\"Sweden\":\"se\"})#do not use setdfault coz \"Sweden is alredy in the list and value will not be added\"\n",
    "print(tlds)\n",
    "\n",
    "tlds2=dict()\n",
    "for i in tlds:\n",
    "    tlds2[tlds[i]]=i\n",
    "\n",
    "#or\n",
    "tlds3=dict()\n",
    "for x,y in tlds.items():\n",
    "    tlds3[y]=x\n",
    "    \n",
    "\n",
    "print(tlds2)\n",
    "print(tlds3)\n"
   ]
  },
  {
   "cell_type": "code",
   "execution_count": 17,
   "metadata": {},
   "outputs": [
    {
     "name": "stdout",
     "output_type": "stream",
     "text": [
      "[1, 2, 3, 5]\n",
      "['I', 'II', 'III', 'V']\n",
      "[('I', 1), ('II', 2), ('III', 3), ('V', 5)]\n"
     ]
    }
   ],
   "source": [
    "#q6\n",
    "roman_numerals = {'I': 1, 'II': 2, 'III': 3, 'V': 5}\n",
    "print(list(roman_numerals.values()))\n",
    "print(list(roman_numerals.keys()))\n",
    "print(list(roman_numerals.items()))\n"
   ]
  },
  {
   "cell_type": "code",
   "execution_count": null,
   "metadata": {},
   "outputs": [
    {
     "name": "stdout",
     "output_type": "stream",
     "text": [
      "{1: 1, 2: 8, 3: 27, 4: 64, 5: 125}\n"
     ]
    }
   ],
   "source": [
    "#q7\n",
    "d={i:i**3 for i in range(1,6) }#use curly brackets in dict domprehension\n",
    "print(d)\n"
   ]
  },
  {
   "cell_type": "code",
   "execution_count": 22,
   "metadata": {},
   "outputs": [
    {
     "name": "stdout",
     "output_type": "stream",
     "text": [
      "{'animals': {'cats': 'Henri', 'octopi': 'Grumpy', 'emus': 'Lucy'}, 'plants': {}, 'other': {}}\n"
     ]
    }
   ],
   "source": [
    "#q8\n",
    "life={\n",
    "    \"animals\":{\n",
    "        \"cats\":\"Henri\",\n",
    "        \"octopi\":\"Grumpy\",\n",
    "        \"emus\":\"Lucy\"\n",
    "    },\n",
    "    \"plants\":{},\n",
    "    \"other\":{}\n",
    "}\n",
    "print(life)"
   ]
  },
  {
   "cell_type": "code",
   "execution_count": 25,
   "metadata": {},
   "outputs": [
    {
     "name": "stdout",
     "output_type": "stream",
     "text": [
      "{'m': 1, 'i': 4, 's': 4, 'p': 2}\n"
     ]
    }
   ],
   "source": [
    "#q9\n",
    "str=input(\"enter a string\")\n",
    "d=dict()\n",
    "for i in str:\n",
    "    if i not in d:\n",
    "        d[i]=str.count(i)\n",
    "\n",
    "print(d)"
   ]
  },
  {
   "cell_type": "code",
   "execution_count": null,
   "metadata": {},
   "outputs": [
    {
     "name": "stdout",
     "output_type": "stream",
     "text": [
      "{'i': 2, 'a': 1}\n"
     ]
    }
   ],
   "source": [
    "#q10\n",
    "str=input(\"enter a string\")\n",
    "d=dict()\n",
    "for i in str:\n",
    "      i=i.lower()\n",
    "      if (i=='a' or i=='e' or i=='i' or i=='o' or i=='u') and (i not in d):\n",
    "            d[i]=str.count(i)\n",
    "print(d)\n",
    "#i/p=\"ishika\"          "
   ]
  },
  {
   "cell_type": "code",
   "execution_count": 1,
   "metadata": {},
   "outputs": [
    {
     "name": "stdout",
     "output_type": "stream",
     "text": [
      "four five three "
     ]
    }
   ],
   "source": [
    "#q11\n",
    "def num_to_name(a):\n",
    "    match(a):\n",
    "        case 1:\n",
    "            return \"one\"\n",
    "        case 2:\n",
    "            return \"two\"\n",
    "        case 3:\n",
    "            return \"three\"\n",
    "        case 4:\n",
    "            return \"four\"\n",
    "        case 5:\n",
    "            return \"five\"\n",
    "        case 6:\n",
    "            return \"six\"\n",
    "        case 7:\n",
    "            return \"seven\"\n",
    "        case 8:\n",
    "            return \"eight\"\n",
    "        case 9:\n",
    "            return \"nine\"\n",
    "        \n",
    "n=(input(\"enter integer\"))\n",
    "\n",
    "''' i in range(l-1,-1):\n",
    "     print(num_to_name(n/(10**i)))\n",
    "     n=n%(10**i)'''\n",
    "     \n",
    "for i in n:\n",
    "    print(num_to_name(int(i)),end=\" \")\n",
    "    #i/p:-452"
   ]
  },
  {
   "cell_type": "code",
   "execution_count": null,
   "metadata": {},
   "outputs": [
    {
     "name": "stdout",
     "output_type": "stream",
     "text": [
      "{'cat': 2, 'is': 1}\n"
     ]
    }
   ],
   "source": [
    "#q12\n",
    "s=input(\"enter a sentence\")\n",
    "s=s.lower()+\" \"\n",
    "d=dict()\n",
    "i=0\n",
    "while i<len(s):\n",
    "    ind=s.index(\" \",i)#index(\" \")\n",
    "    #print(ind)\n",
    "    word=s[i:ind]\n",
    "    if word not in d:\n",
    "      d[s[i:ind]]=s.split().count(s[i:ind])\n",
    "    i=ind+1\n",
    "print(d)\n",
    "\n",
    "#i/p cat is cat"
   ]
  },
  {
   "cell_type": "code",
   "execution_count": 10,
   "metadata": {},
   "outputs": [
    {
     "name": "stdout",
     "output_type": "stream",
     "text": [
      "['are', 'area', 'tree']\n"
     ]
    }
   ],
   "source": [
    "#q13\n",
    "def unique(l):\n",
    "    l.sort()\n",
    "    se=set()\n",
    "    for i in l:\n",
    "        s=i.lower()\n",
    "        if i not in se:\n",
    "         se.add(s)\n",
    "        else:\n",
    "            se.discard(s)\n",
    "    print(sorted(se))\n",
    "\n",
    "l=eval(input(\"enter list of words\"))\n",
    "unique(l)\n",
    "\n",
    "#i/p:-[\"is\",\"tree\",\"area\",\"are\",\"is\",\"car\",\"car\"]\n",
    "\n",
    "\n",
    "\n"
   ]
  },
  {
   "cell_type": "code",
   "execution_count": 12,
   "metadata": {},
   "outputs": [
    {
     "name": "stdout",
     "output_type": "stream",
     "text": [
      "{'z'}\n",
      "1\n"
     ]
    }
   ],
   "source": [
    "#q14\n",
    "s=input(\"enter a string\")\n",
    "se=set()\n",
    "for i in s:\n",
    "        se.add(i)\n",
    "print(se)\n",
    "print(len(se))"
   ]
  },
  {
   "cell_type": "code",
   "execution_count": null,
   "metadata": {},
   "outputs": [],
   "source": [
    "#q15\n",
    "import random\n",
    "\n",
    "def roll_dice():\n",
    "    \"\"\"Simulate rolling two six-sided dice.\"\"\"\n",
    "    return random.randint(1, 6) + random.randint(1, 6)\n",
    "\n",
    "# Initialize dictionaries\n",
    "wins = {}\n",
    "losses = {}\n",
    "\n",
    "# Total number of games\n",
    "total_games = 1_000_000\n",
    "\n",
    "# Simulate games\n",
    "for _ in range(total_games):\n",
    "    roll_count = 1\n",
    "    point = roll_dice()\n",
    "    \n",
    "    # Determine initial roll outcome\n",
    "    if point in {7, 11}:  # Win on first roll\n",
    "        wins[roll_count] = wins.get(roll_count, 0) + 1\n",
    "    elif point in {2, 3, 12}:  # Lose on first roll\n",
    "        losses[roll_count] = losses.get(roll_count, 0) + 1\n",
    "    else:\n",
    "        # Continue rolling until point or 7 is rolled\n",
    "        while True:\n",
    "            roll_count += 1\n",
    "            roll = roll_dice()\n",
    "            if roll == point:  # Win\n",
    "                wins[roll_count] = wins.get(roll_count, 0) + 1\n",
    "                break\n",
    "            elif roll == 7:  # Loss\n",
    "                losses[roll_count] = losses.get(roll_count, 0) + 1\n",
    "                break\n",
    "\n",
    "# Calculate total wins and losses\n",
    "total_wins = sum(wins.values())\n",
    "total_losses = sum(losses.values())\n",
    "\n",
    "# Display results\n",
    "print(f\"Total games won: {total_wins}\")\n",
    "print(f\"Total games lost: {total_losses}\")\n",
    "print(f\"Percentage of games won: {total_wins / total_games * 100:.2f}%\")\n",
    "print(f\"Percentage of games lost: {total_losses / total_games * 100:.2f}%\\n\")\n",
    "\n",
    "# Calculate and display roll-specific statistics\n",
    "resolved_games = {roll: wins.get(roll, 0) + losses.get(roll, 0) for roll in range(1, max(max(wins, default=0), max(losses, default=0)) + 1)}\n",
    "cumulative_resolved = 0\n",
    "\n",
    "print(\"Roll | Resolved (%) | Cumulative Resolved (%)\")\n",
    "for roll in sorted(resolved_games):\n",
    "    resolved_percentage = resolved_games[roll] / total_games * 100\n",
    "    cumulative_resolved += resolved_games[roll]\n",
    "    cumulative_percentage = cumulative_resolved / total_games * 100\n",
    "    print(f\"{roll:4} | {resolved_percentage:13.2f} | {cumulative_percentage:22.2f}\")\n"
   ]
  },
  {
   "cell_type": "code",
   "execution_count": 17,
   "metadata": {},
   "outputs": [
    {
     "name": "stdout",
     "output_type": "stream",
     "text": [
      "{30}\n",
      "{5, 30, 15}\n",
      "{5, 30, 15}\n",
      "{20, 5, 10, 30, 15}\n",
      "{10, 20}\n"
     ]
    }
   ],
   "source": [
    "#q16\n",
    "s1={10,20,30}\n",
    "s2={5,10,15,20}\n",
    "print(s1.difference(s2))#s1-s2\n",
    "print(s1^s2)#or\n",
    "print(s1.symmetric_difference(s2))\n",
    "print(s1.union(s2))\n",
    "print(s1.intersection(s2))#(s2&s2)"
   ]
  },
  {
   "cell_type": "code",
   "execution_count": null,
   "metadata": {},
   "outputs": [],
   "source": [
    "#q17\n"
   ]
  },
  {
   "cell_type": "code",
   "execution_count": null,
   "metadata": {},
   "outputs": [],
   "source": []
  },
  {
   "cell_type": "code",
   "execution_count": null,
   "metadata": {},
   "outputs": [],
   "source": []
  }
 ],
 "metadata": {
  "kernelspec": {
   "display_name": ".venv",
   "language": "python",
   "name": "python3"
  },
  "language_info": {
   "codemirror_mode": {
    "name": "ipython",
    "version": 3
   },
   "file_extension": ".py",
   "mimetype": "text/x-python",
   "name": "python",
   "nbconvert_exporter": "python",
   "pygments_lexer": "ipython3",
   "version": "3.12.6"
  }
 },
 "nbformat": 4,
 "nbformat_minor": 2
}
