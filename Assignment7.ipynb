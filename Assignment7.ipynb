{
 "cells": [
  {
   "cell_type": "code",
   "execution_count": null,
   "metadata": {},
   "outputs": [],
   "source": [
    "read=used to read whole characters from where the cursor is present\n",
    "readlines=return a list list where each element os a line(contain s\\n or any other character)"
   ]
  },
  {
   "cell_type": "code",
   "execution_count": null,
   "metadata": {},
   "outputs": [],
   "source": [
    "r=read\n",
    "w=write\n"
   ]
  },
  {
   "cell_type": "code",
   "execution_count": 5,
   "metadata": {},
   "outputs": [
    {
     "name": "stdout",
     "output_type": "stream",
     "text": [
      "90,99,100,60\n",
      "['90', '99', '100', '60']\n",
      "sum: 349\n",
      "average 87.25\n"
     ]
    }
   ],
   "source": [
    "#q5\n",
    "def sumgrade(grades):\n",
    "   g=grades.split(\",\")\n",
    "   print(g)\n",
    "   sum=0\n",
    "   for i in g:\n",
    "     sum+=int(i)\n",
    "   return sum\n",
    "\n",
    "\n",
    "\n",
    "with open(\"grades.txt\",'w') as f:\n",
    "    f.write(\"90,99,100,60\")\n",
    "\n",
    "with open(\"grades.txt\",'r') as f:\n",
    "    grades=f.read()\n",
    "    print(grades)\n",
    "    sum=sumgrade(grades)\n",
    "    print(\"sum:\",sum)\n",
    "\n",
    "    print(\"average\",sum/(grades.count(',')+1))\n"
   ]
  },
  {
   "cell_type": "code",
   "execution_count": 10,
   "metadata": {},
   "outputs": [
    {
     "name": "stdout",
     "output_type": "stream",
     "text": [
      "['ishika', 'mouriya', '83', '95', '99']\n",
      "[]\n",
      "['rishika', 'mini', '45', '90', '89']\n",
      "[]\n",
      "    ishika mouriya  83  95  99\n",
      "0  rishika    mini  45  90  89\n"
     ]
    }
   ],
   "source": [
    "#q6\n",
    "import csv\n",
    "data=[\n",
    "    [\"ishika\",\"mouriya\",83,95,99],\n",
    "      [\"rishika\",\"mini\",45,90,89]\n",
    "      ]\n",
    "\n",
    "with open(\"record.csv\",\"w\") as file:\n",
    "    writer=csv.writer(file)\n",
    "    writer.writerows(data)  #writerow for a single row\n",
    "\n",
    "with open(\"record.csv\",'r') as file:\n",
    "    reader=csv.reader(file)\n",
    "    for r in reader:\n",
    "        print(r)\n",
    "\n",
    "import pandas as pd\n",
    "d=pd.read_csv(\"record.csv\")\n",
    "print(d)"
   ]
  },
  {
   "cell_type": "code",
   "execution_count": 27,
   "metadata": {},
   "outputs": [
    {
     "name": "stdout",
     "output_type": "stream",
     "text": [
      "16\n"
     ]
    }
   ],
   "source": [
    "#q7\n",
    "lines=[\"Python is a versatile programming language.\\n\",\"It is widely used in data science, web development, and automation\"]\n",
    "\n",
    "with open(\"f.txt\",\"w\") as f:\n",
    "    f.writelines(lines)#taakes a list or tuples with \\n\n",
    "\n",
    "\n",
    "with open(\"f.txt\",\"r\") as f:\n",
    "    r=f.read()#file is read as a string\n",
    "    k=r.split(\" \")\n",
    "    print(len(k))\n",
    "    \n",
    "        \n",
    " \n",
    "\n",
    "\n"
   ]
  },
  {
   "cell_type": "code",
   "execution_count": 28,
   "metadata": {},
   "outputs": [
    {
     "name": "stdout",
     "output_type": "stream",
     "text": [
      "Testing with a valid JSON file:\n",
      "Error: The file 'data_valid.json' was not found.\n",
      "\n",
      "Testing with an invalid JSON file:\n",
      "Error: The file 'data_invalid.json' was not found.\n"
     ]
    }
   ],
   "source": [
    "#q8\n",
    "import json\n",
    "\n",
    "def safely_deserialize_json(filename):\n",
    "    try:\n",
    "        # Open and read the JSON file\n",
    "        with open(filename, 'r') as file:\n",
    "            data = json.load(file)\n",
    "            print(\"JSON data successfully loaded.\")\n",
    "            print(\"Deserialized Data:\", data)\n",
    "    except json.JSONDecodeError as e:\n",
    "        print(f\"Error: Invalid JSON data in the file '{filename}'.\")\n",
    "        print(f\"Details: {e}\")\n",
    "    except FileNotFoundError:\n",
    "        print(f\"Error: The file '{filename}' was not found.\")\n",
    "    except Exception as e:\n",
    "        print(f\"An unexpected error occurred: {e}\")\n",
    "\n",
    "# Test with a valid JSON file\n",
    "print(\"Testing with a valid JSON file:\")\n",
    "safely_deserialize_json('data_valid.json')\n",
    "\n",
    "# Test with an invalid JSON file\n",
    "print(\"\\nTesting with an invalid JSON file:\")\n",
    "safely_deserialize_json('data_invalid.json')\n",
    "\n"
   ]
  },
  {
   "cell_type": "code",
   "execution_count": null,
   "metadata": {},
   "outputs": [
    {
     "name": "stdout",
     "output_type": "stream",
     "text": [
      "error  invalid literal for int() with base 10: 'e'\n"
     ]
    }
   ],
   "source": [
    "#q9\n",
    "try:\n",
    "    a =int(input(\"enter a number:numerator\"))\n",
    "    b=int(input(\"enter a number:deno\"))\n",
    "    result=a/b\n",
    "except (ValueError,ZeroDivisionError) as e:\n",
    "    print(\"error \",e)\n",
    "\n",
    "\n",
    "\n",
    "#i/p:a=10,b=e"
   ]
  },
  {
   "cell_type": "code",
   "execution_count": 43,
   "metadata": {},
   "outputs": [
    {
     "name": "stdout",
     "output_type": "stream",
     "text": [
      "number of words: 21\n",
      "total count of vowels in the file1.txt is: 31\n"
     ]
    }
   ],
   "source": [
    "#q10\n",
    "import re\n",
    "with open(\"file1.txt\",'w') as file:\n",
    "    file.write(\"hello , my name is mini googles . I am a resdident of ohio \\n and is very enthusisstic about rhymnes\")\n",
    "\n",
    "with open(\"file1.txt\",'r') as file:\n",
    "    r=file.read()\n",
    "   # r1=re.sub(r\"/w+\",\"qq\",r)\n",
    "   # print(r1)\n",
    "    k=r.split(\" \")\n",
    "    \n",
    "\n",
    "    print(\"number of words:\",len(k))#r.count(\"qq\")\n",
    "    c=0\n",
    "    for i in r:\n",
    "        i=i.lower()\n",
    "        if i=='a' or i=='e' or i=='i' or i=='o' or i=='u':\n",
    "            c+=1\n",
    "    print(\"total count of vowels in the file1.txt is:\",c)"
   ]
  },
  {
   "cell_type": "code",
   "execution_count": 55,
   "metadata": {},
   "outputs": [
    {
     "name": "stdout",
     "output_type": "stream",
     "text": [
      "12\t 23.6\n",
      "11\t 45\n",
      "34\t 67.9\n",
      "5\t 62\n",
      "65\t 90\n"
     ]
    }
   ],
   "source": [
    "#q11\n",
    "with open('weight.txt','w') as f:\n",
    "    f.write(\"12\\n11\\n34\\n5\\n65\")\n",
    "with open(\"prices.txt\",\"w\") as f:\n",
    "    f.write(\"23.6\\n45\\n67.9\\n62\\n90\")\n",
    "'''\n",
    "with open(\"price_per_weight.txt\",\"w+\") as f:\n",
    "    f1=open(\"weight.txt\",'r')\n",
    "    f2=open(\"prices.txt\",'r')\n",
    "    col1=f1.readline()\n",
    "    col2=f2.readline()\n",
    "    while(col1):\n",
    "        f.write(col1+\" \"+col2+'\\n')\n",
    " '''\n",
    "\n",
    "with open(\"price_per_weight.txt\", \"w\") as f_out:\n",
    "    with open(\"weight.txt\", 'r') as f1, open(\"prices.txt\", 'r') as f2:\n",
    "        for col1, col2 in zip(f1, f2):  # Read both files line by line simultaneously\n",
    "            f_out.write(col1.strip() + \"\\t \" + col2.strip() + '\\n')\n",
    "\n",
    "\n",
    "\n",
    "with open(\"price_per_weight.txt\",\"r+\") as f:\n",
    "    for i in f:\n",
    "        print(i.strip())\n",
    "\n",
    "\n",
    "        '''Used zip():\n",
    "\n",
    "The zip() function reads lines from both files in parallel, ensuring that lines are correctly paired.'''"
   ]
  },
  {
   "cell_type": "code",
   "execution_count": null,
   "metadata": {},
   "outputs": [
    {
     "name": "stdout",
     "output_type": "stream",
     "text": [
      "\n"
     ]
    }
   ],
   "source": [
    "#q12222\n",
    "email_pattern = r'^[a-zA-Z0-9._%+-]+@[a-zA-Z0-9.-]+\\.[a-zA-Z]{2,}$'\n",
    "with open(\"sample.txt\",\"w\")as f:\n",
    "    f.write('''Hello, contact me at example1@example.com for more info. You can also reach me at test email@example.org\n",
    "or example1@example.com. Spam emails: spam@spammer.com, info@spammer.com, spam@spammer.com''')\n",
    "\n",
    "with open(\"sample.txt\",\"r\")as f:\n",
    "    with open(\"output.txt\",\"w\")as o1:\n",
    "        k=f.read()\n",
    "        for i in re.finditer(email_pattern,k):\n",
    "            print(i)\n",
    "            o1.write(i.group())\n",
    "\n",
    "with open(\"output.txt\") as o1:\n",
    "    print(o1.read())\n"
   ]
  },
  {
   "cell_type": "code",
   "execution_count": 63,
   "metadata": {},
   "outputs": [
    {
     "name": "stdout",
     "output_type": "stream",
     "text": [
      "Extracted Emails from output.txt:\n",
      "example1@example.com\n",
      "email@example.org\n",
      "example1@example.com\n",
      "spam@spammer.com\n",
      "info@spammer.com\n",
      "spam@spammer.com\n",
      "\n"
     ]
    }
   ],
   "source": [
    "import re\n",
    "#q12\n",
    "email_pattern = r'[a-zA-Z0-9._%+-]+@[a-zA-Z0-9.-]+\\.[a-zA-Z]{2,}'\n",
    "\n",
    "# Create and write to sample.txt\n",
    "with open(\"sample.txt\", \"w\") as f:\n",
    "    f.write('''Hello, contact me at example1@example.com for more info. \n",
    "You can also reach me at test email@example.org or example1@example.com. \n",
    "Spam emails: spam@spammer.com, info@spammer.com, spam@spammer.com''')\n",
    "\n",
    "# Extract emails and write to output.txt\n",
    "with open(\"sample.txt\", \"r\") as f:\n",
    "    with open(\"output.txt\", \"w\") as o1:\n",
    "        k = f.read()\n",
    "        for i in re.finditer(email_pattern, k):\n",
    "            o1.write(i.group() + '\\n')  # Write each email on a new line\n",
    "\n",
    "# Read and display output.txt content\n",
    "with open(\"output.txt\") as o1:\n",
    "    print(\"Extracted Emails from output.txt:\")\n",
    "    print(o1.read())  # Now this will show the contents of output.txt\n",
    "\n"
   ]
  },
  {
   "cell_type": "code",
   "execution_count": null,
   "metadata": {},
   "outputs": [],
   "source": [
    "#q13\n",
    "try:\n",
    "    result = a + b\n",
    "except TypeError as e:\n",
    "    print(f\"TypeError: {e}\")\n",
    "except NameError as e:\n",
    "    print(f\"NameError: {e}\")\n",
    "\n",
    "\n",
    "\n",
    "'''The statement result = a + b may raise two common exceptions in Python:\n",
    "\n",
    "1. TypeError\n",
    "Cause: This exception occurs when you try to perform the addition operation (+) between incompatible data types.\n",
    "\n",
    "Example:\n",
    "\n",
    "python\n",
    "\n",
    "a = \"Hello\"\n",
    "b = 5\n",
    "result = a + b  # This will raise TypeError because you can't add a string and an integer.\n",
    "Message:\n",
    "\n",
    "python\n",
    "\n",
    "TypeError: can only concatenate str (not \"int\") to str\n",
    "2. NameError\n",
    "Cause: This exception occurs when one or both of the variables (a or b) used in the expression are not defined or not in the current scope.\n",
    "\n",
    "Example:\n",
    "\n",
    "python\n",
    "Copy code\n",
    "result = a + b  # This will raise NameError if 'a' and 'b' are not defined before this statement.\n",
    "Message:\n",
    "\n",
    "csharp\n",
    "Copy code\n",
    "NameError: name 'a' is not defined'''"
   ]
  },
  {
   "cell_type": "code",
   "execution_count": null,
   "metadata": {},
   "outputs": [
    {
     "name": "stdout",
     "output_type": "stream",
     "text": [
      "ValueError: Invalid input, not a number.\n",
      "Function inverse completed.\n"
     ]
    },
    {
     "data": {
      "text/plain": [
       "'\\n#i/p:-5:Inverse: 0.3333333333333333\\nFunction inverse completed.\\n\\n0:ZeroDivisionError: Division by zero is not allowed.\\nFunction inverse completed.\\n\\n0.5:Inverse: 0.5\\nFunction inverse completed.\\n\\nx:ValueError: Invalid input, not a number.\\nFunction inverse completed.\\n\\n\\n'"
      ]
     },
     "execution_count": 82,
     "metadata": {},
     "output_type": "execute_result"
    }
   ],
   "source": [
    "#q14\n",
    "def inverse1():\n",
    "    try:\n",
    "        num = float(input(\"Enter the number: \"))\n",
    "       \n",
    "        inverse = 1.0 / num  # Calculate the inverse\n",
    "    except ValueError:\n",
    "        print(\"ValueError: Invalid input, not a number.\")\n",
    "    except TypeError:\n",
    "        print(\"TypeError: Invalid type for operation.\")\n",
    "    except ZeroDivisionError:\n",
    "        print(\"ZeroDivisionError: Division by zero is not allowed.\")\n",
    "    except Exception as e:\n",
    "        print(f\"Unexpected error: {e}\")\n",
    "    else:\n",
    "        print(f\"Inverse: {inverse}\")\n",
    "    finally:\n",
    "        print(\"Function inverse completed.\")\n",
    "\n",
    "inverse1()\n",
    "\n",
    "'''\n",
    "#i/p:-5:Inverse: 0.3333333333333333\n",
    "Function inverse completed.\n",
    "\n",
    "0:ZeroDivisionError: Division by zero is not allowed.\n",
    "Function inverse completed.\n",
    "\n",
    "0.5:Inverse: 0.5\n",
    "Function inverse completed.\n",
    "\n",
    "x:ValueError: Invalid input, not a number.\n",
    "Function inverse completed.\n",
    "\n",
    "none:ValueError: Invalid input, not a number.\n",
    "Function inverse completed.\n",
    "'''"
   ]
  },
  {
   "cell_type": "code",
   "execution_count": 130,
   "metadata": {},
   "outputs": [
    {
     "name": "stdout",
     "output_type": "stream",
     "text": [
      "    ishika mouriya  83  95  99\n",
      "0  rishika    mini  45  90  89\n"
     ]
    }
   ],
   "source": [
    "#q16////note errer\n",
    "import csv\n",
    "import pandas as pd\n",
    "\n",
    "with open(\"pqe.txt\",'w') as f:\n",
    "    f.write('''Name,Age,Email\n",
    "Alice,30,alice@example.com\n",
    "Bob,25,bob@example.com\n",
    "Charlie,35,charlie@example.com''')\n",
    "    \n",
    "\n",
    "#data=pd.read_csv(\"sample.txt\")\n",
    "#print(data)\n",
    "\n",
    "\n",
    "# Open the file in read mode\n",
    "with open(\"pqe.txt\", 'r') as file:\n",
    "    \n",
    "    csv_reader = csv.DictReader(file)\n",
    "    # = list(csv_reader)\n",
    "    print(d)"
   ]
  },
  {
   "cell_type": "code",
   "execution_count": 132,
   "metadata": {},
   "outputs": [
    {
     "name": "stdout",
     "output_type": "stream",
     "text": [
      "Input cannot be empty. Please try again.\n",
      "Data written successfully.\n"
     ]
    }
   ],
   "source": [
    "#q17\n",
    "filename = \"user_input.txt\"\n",
    "\n",
    "while True:\n",
    "    user_input = input(\"Enter something to write into the file: \").strip()\n",
    "\n",
    "    if user_input:\n",
    "        try:\n",
    "            with open(filename, 'a') as file:\n",
    "                file.write(user_input + \"\\n\")\n",
    "            print(\"Data written successfully.\")\n",
    "            break  # Exit the loop after writing the input\n",
    "        except Exception as e:\n",
    "            print(f\"Error writing to file: {e}\")\n",
    "    else:\n",
    "        print(\"Input cannot be empty. Please try again.\")\n",
    "\n",
    "#i/p:-\"here is a holiday\""
   ]
  },
  {
   "cell_type": "code",
   "execution_count": 134,
   "metadata": {},
   "outputs": [
    {
     "name": "stdout",
     "output_type": "stream",
     "text": [
      "Data written to titanic1.csv and titanic2.csv.\n",
      "   PassengerId  Survived  Pclass                    Name     Sex  Age\n",
      "0            1         1       1  Allen, Miss. Elisabeth  female   29\n",
      "1            2         0       3        Moran, Mr. James    male   25\n",
      "2            3         1       2        Brown, Mrs. Mary  female   35\n",
      "3            4         0       3         Smith, Mr. John    male   40\n"
     ]
    }
   ],
   "source": [
    "#q18\n",
    "import pandas as pd\n",
    "\n",
    "# Initial data for titanic1.csv\n",
    "titanic1_data = '''PassengerId,Survived,Pclass,Name,Sex,Age\n",
    "1,1,1,\"Allen, Miss. Elisabeth\",female,29\n",
    "2,0,3,\"Moran, Mr. James\",male,25\n",
    "'''\n",
    "\n",
    "# Write the data into titanic1.csv\n",
    "with open(\"titanic1.csv\", \"w\") as f1:\n",
    "    f1.write(titanic1_data)\n",
    "\n",
    "# Initial data for titanic2.csv\n",
    "titanic2_data = '''PassengerId,Survived,Pclass,Name,Sex,Age\n",
    "3,1,2,\"Brown, Mrs. Mary\",female,35\n",
    "4,0,3,\"Smith, Mr. John\",male,40\n",
    "'''\n",
    "\n",
    "# Write the data into titanic2.csv\n",
    "with open(\"titanic2.csv\", \"w\") as f2:\n",
    "    f2.write(titanic2_data)\n",
    "\n",
    "print(\"Data written to titanic1.csv and titanic2.csv.\")\n",
    "\n",
    "\n",
    "# Load the first CSV file\n",
    "titanic1 = pd.read_csv('titanic1.csv')\n",
    "\n",
    "# Load the second CSV file\n",
    "titanic2 = pd.read_csv('titanic2.csv')\n",
    "\n",
    "# Merge the two datasets\n",
    "combined_data = pd.concat([titanic1, titanic2], ignore_index=True)\n",
    "\n",
    "# Print the combined dataset\n",
    "print(combined_data)\n",
    "\n",
    "\n"
   ]
  },
  {
   "cell_type": "code",
   "execution_count": 136,
   "metadata": {},
   "outputs": [
    {
     "name": "stdout",
     "output_type": "stream",
     "text": [
      "Allen, Miss. Elisabeth\n"
     ]
    }
   ],
   "source": [
    "#q19\n",
    "\n",
    "data=pd.read_csv(\"titanic1.csv\")\n",
    "max=\"\"\n",
    "for i in data[\"Name\"]:\n",
    "    if len(i)>len(max):\n",
    "        max=i\n",
    "\n",
    "print(max)"
   ]
  },
  {
   "cell_type": "code",
   "execution_count": null,
   "metadata": {},
   "outputs": [],
   "source": [
    "#Q20\n",
    "import pandas as pd\n",
    "\n",
    "# Load the Titanic dataset\n",
    "data = pd.read_csv(\"titanic.csv\")\n",
    "\n",
    "# 1. Analyze the distribution of ticket prices (Fare)\n",
    "print(\"Distribution of ticket prices (Fare):\")\n",
    "print(data[\"Fare\"].describe())\n",
    "\n",
    "# 2. Filter and display the names of passengers under 18 years old\n",
    "under_18 = data[data[\"Age\"] < 18]\n",
    "\n",
    "print(\"\\nPassengers under 18 years old:\")\n",
    "for name in under_18[\"Name\"]:\n",
    "    print(name)\n"
   ]
  },
  {
   "cell_type": "code",
   "execution_count": null,
   "metadata": {},
   "outputs": [],
   "source": []
  }
 ],
 "metadata": {
  "kernelspec": {
   "display_name": ".venv",
   "language": "python",
   "name": "python3"
  },
  "language_info": {
   "codemirror_mode": {
    "name": "ipython",
    "version": 3
   },
   "file_extension": ".py",
   "mimetype": "text/x-python",
   "name": "python",
   "nbconvert_exporter": "python",
   "pygments_lexer": "ipython3",
   "version": "3.12.6"
  }
 },
 "nbformat": 4,
 "nbformat_minor": 2
}
