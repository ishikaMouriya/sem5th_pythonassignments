{
 "cells": [
  {
   "cell_type": "code",
   "execution_count": 17,
   "metadata": {},
   "outputs": [
    {
     "name": "stdout",
     "output_type": "stream",
     "text": [
      "[0.9801280931288819, 0.3238402423520038, 0.12588070224936765]\n",
      "sum: 1.4298490377302535\n",
      "average 0.4766163459100845\n"
     ]
    },
    {
     "data": {
      "text/plain": [
       "'Decimal(random.random()): Ensures the random numbers are converted to Decimal objects with the specified precision.\\nfloat(): Converts the Decimal back to a float for consistent list formatting.'"
      ]
     },
     "execution_count": 17,
     "metadata": {},
     "output_type": "execute_result"
    }
   ],
   "source": [
    "#q1\n",
    "from decimal import Decimal, getcontext,ROUND_UP,ROUND_DOWN\n",
    "import random\n",
    "#getcontext().prec=3\n",
    "\n",
    "n=int(input(\"enter size\"))\n",
    "l1=[random.random() for i in range(n) ]\n",
    "print(l1)\n",
    "print(\"sum:\",sum(l1))\n",
    "print(\"average\",sum(l1)/n)\n",
    "\n",
    "'''Decimal(random.random()): Ensures the random numbers are converted to Decimal objects with the specified precision.\n",
    "float(): Converts the Decimal back to a float for consistent list formatting.'''"
   ]
  },
  {
   "cell_type": "code",
   "execution_count": null,
   "metadata": {},
   "outputs": [
    {
     "name": "stdout",
     "output_type": "stream",
     "text": [
      "('Doug', 22, 1984)\n"
     ]
    }
   ],
   "source": [
    "#q2\n",
    "def k(*arg):\n",
    "    y=tuple((arg[0],arg[1],arg[2]))#don't forget (())\n",
    "    return y\n",
    "\n",
    "print(k(\"Doug\",22,1984))\n"
   ]
  },
  {
   "cell_type": "code",
   "execution_count": 7,
   "metadata": {},
   "outputs": [
    {
     "name": "stdout",
     "output_type": "stream",
     "text": [
      "choice: a\n",
      "choice: b\n",
      "[1, 2, 3]\n",
      "choice: c\n",
      "choice: b\n",
      "[1, 2, 15, 3]\n",
      "choice: d\n",
      "[1, 15, 3]\n",
      "choice: b\n",
      "[1, 15, 3]\n"
     ]
    }
   ],
   "source": [
    "#Q3\n",
    "l=list()\n",
    "def f(ch):\n",
    "    match (ch):\n",
    "        case \"a\":\n",
    "            n=int(input(\"enter limit\"))\n",
    "            for i in range(n):\n",
    "                el=int(input(\"enter lement of list l\"))\n",
    "                l.append(el)\n",
    "        case \"b\":\n",
    "             #for i in l:\n",
    "                # print (i,end=\",\")\n",
    "             print(l)\n",
    "        case \"c\":\n",
    "              a=int(input(\"enter a number at a specified position\"))\n",
    "              pos=int(input(\"enter pos < length\"))\n",
    "              l.insert(pos,a)\n",
    "        case \"d\":\n",
    "              n=int(input(\"enter element to be deleted\"))\n",
    "              l.remove(n) \n",
    "              print(l)\n",
    "        case 'e':\n",
    "              SystemExit\n",
    "i=0   \n",
    "while(i<6):\n",
    "   n=input(\"\"\"enter ur choice:\n",
    "         a. Create a list of N integers\n",
    " b. Display the list elements\n",
    " c. Insert an element at a specific position\n",
    " d. Delete an element at a given position\n",
    " e. Exit\"\"\")\n",
    "   print(\"choice:\",n)\n",
    "   f(n)\n",
    "   #print(l)\n",
    "   i+=1\n",
    "\n",
    "\n"
   ]
  },
  {
   "cell_type": "code",
   "execution_count": 13,
   "metadata": {},
   "outputs": [
    {
     "name": "stdout",
     "output_type": "stream",
     "text": [
      "list: [1, 3, 1, 23, 4, 1]\n",
      "[3, 23, 4]\n"
     ]
    }
   ],
   "source": [
    "#q4\n",
    "l1=eval(input(\"enter list\"))\n",
    "n=int(input(\"enter ele to be removed\"))\n",
    "print(\"list:\",l1)\n",
    "if n in l1:\n",
    " for t in l1:\n",
    "   if t==n:\n",
    "      l1.remove(t)\n",
    "else:\n",
    " print(\"element is not present\")\n",
    "print(l1)"
   ]
  },
  {
   "cell_type": "code",
   "execution_count": 18,
   "metadata": {},
   "outputs": [
    {
     "name": "stdout",
     "output_type": "stream",
     "text": [
      "Monday [87, 65]\n"
     ]
    },
    {
     "ename": "IndexError",
     "evalue": "list index out of range",
     "output_type": "error",
     "traceback": [
      "\u001b[1;31m---------------------------------------------------------------------------\u001b[0m",
      "\u001b[1;31mIndexError\u001b[0m                                Traceback (most recent call last)",
      "Cell \u001b[1;32mIn[18], line 7\u001b[0m\n\u001b[0;32m      4\u001b[0m \u001b[38;5;66;03m#take star\u001b[39;00m\n\u001b[0;32m      6\u001b[0m numbers \u001b[38;5;241m=\u001b[39m [\u001b[38;5;241m1\u001b[39m, \u001b[38;5;241m2\u001b[39m, \u001b[38;5;241m3\u001b[39m, \u001b[38;5;241m4\u001b[39m, \u001b[38;5;241m5\u001b[39m]\n\u001b[1;32m----> 7\u001b[0m \u001b[43mnumbers\u001b[49m\u001b[43m[\u001b[49m\u001b[38;5;241;43m10\u001b[39;49m\u001b[43m]\u001b[49m\n",
      "\u001b[1;31mIndexError\u001b[0m: list index out of range"
     ]
    }
   ],
   "source": [
    "#q5\n",
    "day, *hightemperature = ('Monday', 87, 65)\n",
    "print(day,hightemperature)\n",
    "#take star\n",
    "\n",
    "numbers = [1, 2, 3, 4, 5]\n",
    "numbers[10]"
   ]
  },
  {
   "cell_type": "code",
   "execution_count": 19,
   "metadata": {},
   "outputs": [
    {
     "ename": "TypeError",
     "evalue": "'str' object does not support item assignment",
     "output_type": "error",
     "traceback": [
      "\u001b[1;31m---------------------------------------------------------------------------\u001b[0m",
      "\u001b[1;31mTypeError\u001b[0m                                 Traceback (most recent call last)",
      "Cell \u001b[1;32mIn[19], line 2\u001b[0m\n\u001b[0;32m      1\u001b[0m name \u001b[38;5;241m=\u001b[39m \u001b[38;5;124m'\u001b[39m\u001b[38;5;124mamanda\u001b[39m\u001b[38;5;124m'\u001b[39m\n\u001b[1;32m----> 2\u001b[0m \u001b[43mname\u001b[49m\u001b[43m[\u001b[49m\u001b[38;5;241;43m0\u001b[39;49m\u001b[43m]\u001b[49m \u001b[38;5;241m=\u001b[39m \u001b[38;5;124m'\u001b[39m\u001b[38;5;124mA\u001b[39m\u001b[38;5;124m'\u001b[39m\n",
      "\u001b[1;31mTypeError\u001b[0m: 'str' object does not support item assignment"
     ]
    }
   ],
   "source": [
    "name = 'amanda'\n",
    "name[0] = 'A'"
   ]
  },
  {
   "cell_type": "code",
   "execution_count": 20,
   "metadata": {},
   "outputs": [
    {
     "ename": "TypeError",
     "evalue": "list indices must be integers or slices, not float",
     "output_type": "error",
     "traceback": [
      "\u001b[1;31m---------------------------------------------------------------------------\u001b[0m",
      "\u001b[1;31mTypeError\u001b[0m                                 Traceback (most recent call last)",
      "Cell \u001b[1;32mIn[20], line 2\u001b[0m\n\u001b[0;32m      1\u001b[0m numbers \u001b[38;5;241m=\u001b[39m [\u001b[38;5;241m1\u001b[39m, \u001b[38;5;241m2\u001b[39m, \u001b[38;5;241m3\u001b[39m, \u001b[38;5;241m4\u001b[39m, \u001b[38;5;241m5\u001b[39m]\n\u001b[1;32m----> 2\u001b[0m \u001b[43mnumbers\u001b[49m\u001b[43m[\u001b[49m\u001b[38;5;241;43m3.4\u001b[39;49m\u001b[43m]\u001b[49m\n",
      "\u001b[1;31mTypeError\u001b[0m: list indices must be integers or slices, not float"
     ]
    }
   ],
   "source": [
    "numbers = [1, 2, 3, 4, 5]\n",
    "numbers[3.4]"
   ]
  },
  {
   "cell_type": "code",
   "execution_count": 21,
   "metadata": {},
   "outputs": [
    {
     "ename": "TypeError",
     "evalue": "'tuple' object does not support item assignment",
     "output_type": "error",
     "traceback": [
      "\u001b[1;31m---------------------------------------------------------------------------\u001b[0m",
      "\u001b[1;31mTypeError\u001b[0m                                 Traceback (most recent call last)",
      "Cell \u001b[1;32mIn[21], line 2\u001b[0m\n\u001b[0;32m      1\u001b[0m studenttuple \u001b[38;5;241m=\u001b[39m(\u001b[38;5;124m'\u001b[39m\u001b[38;5;124mAmanda\u001b[39m\u001b[38;5;124m'\u001b[39m, \u001b[38;5;124m'\u001b[39m\u001b[38;5;124mBlue\u001b[39m\u001b[38;5;124m'\u001b[39m, [\u001b[38;5;241m98\u001b[39m, \u001b[38;5;241m75\u001b[39m, \u001b[38;5;241m87\u001b[39m])\n\u001b[1;32m----> 2\u001b[0m \u001b[43mstudenttuple\u001b[49m\u001b[43m[\u001b[49m\u001b[38;5;241;43m0\u001b[39;49m\u001b[43m]\u001b[49m \u001b[38;5;241m=\u001b[39m \u001b[38;5;124m'\u001b[39m\u001b[38;5;124mAriana\u001b[39m\u001b[38;5;124m'\u001b[39m\n",
      "\u001b[1;31mTypeError\u001b[0m: 'tuple' object does not support item assignment"
     ]
    }
   ],
   "source": [
    "studenttuple =('Amanda', 'Blue', [98, 75, 87])\n",
    "studenttuple[0] = 'Ariana'"
   ]
  },
  {
   "cell_type": "code",
   "execution_count": null,
   "metadata": {},
   "outputs": [
    {
     "ename": "TypeError",
     "evalue": "can only concatenate tuple (not \"str\") to tuple",
     "output_type": "error",
     "traceback": [
      "\u001b[1;31m---------------------------------------------------------------------------\u001b[0m",
      "\u001b[1;31mTypeError\u001b[0m                                 Traceback (most recent call last)",
      "Cell \u001b[1;32mIn[22], line 1\u001b[0m\n\u001b[1;32m----> 1\u001b[0m \u001b[43m(\u001b[49m\u001b[38;5;124;43m'\u001b[39;49m\u001b[38;5;124;43mMonday\u001b[39;49m\u001b[38;5;124;43m'\u001b[39;49m\u001b[43m,\u001b[49m\u001b[43m \u001b[49m\u001b[38;5;241;43m87\u001b[39;49m\u001b[43m,\u001b[49m\u001b[43m \u001b[49m\u001b[38;5;241;43m65\u001b[39;49m\u001b[43m)\u001b[49m\u001b[43m \u001b[49m\u001b[38;5;241;43m+\u001b[39;49m\u001b[43m \u001b[49m\u001b[38;5;124;43m'\u001b[39;49m\u001b[38;5;124;43mTuesday\u001b[39;49m\u001b[38;5;124;43m'\u001b[39;49m\n",
      "\u001b[1;31mTypeError\u001b[0m: can only concatenate tuple (not \"str\") to tuple"
     ]
    }
   ],
   "source": [
    "#f\n",
    "('Monday', 87, 65) + 'Tuesday'"
   ]
  },
  {
   "cell_type": "code",
   "execution_count": 23,
   "metadata": {},
   "outputs": [
    {
     "ename": "SyntaxError",
     "evalue": "'literal' is an illegal expression for augmented assignment (3424998416.py, line 2)",
     "output_type": "error",
     "traceback": [
      "\u001b[1;36m  Cell \u001b[1;32mIn[23], line 2\u001b[1;36m\u001b[0m\n\u001b[1;33m    'A'+= ('B', 'C')\u001b[0m\n\u001b[1;37m    ^\u001b[0m\n\u001b[1;31mSyntaxError\u001b[0m\u001b[1;31m:\u001b[0m 'literal' is an illegal expression for augmented assignment\n"
     ]
    }
   ],
   "source": [
    "#g\n",
    "'A'+= ('B', 'C')"
   ]
  },
  {
   "cell_type": "code",
   "execution_count": 24,
   "metadata": {},
   "outputs": [
    {
     "ename": "NameError",
     "evalue": "name 'x' is not defined",
     "output_type": "error",
     "traceback": [
      "\u001b[1;31m---------------------------------------------------------------------------\u001b[0m",
      "\u001b[1;31mNameError\u001b[0m                                 Traceback (most recent call last)",
      "Cell \u001b[1;32mIn[24], line 3\u001b[0m\n\u001b[0;32m      1\u001b[0m x \u001b[38;5;241m=\u001b[39m \u001b[38;5;241m7\u001b[39m\n\u001b[0;32m      2\u001b[0m \u001b[38;5;28;01mdel\u001b[39;00m x\n\u001b[1;32m----> 3\u001b[0m \u001b[38;5;28mprint\u001b[39m(\u001b[43mx\u001b[49m)\n",
      "\u001b[1;31mNameError\u001b[0m: name 'x' is not defined"
     ]
    }
   ],
   "source": [
    "x = 7\n",
    "del x\n",
    "print(x)"
   ]
  },
  {
   "cell_type": "code",
   "execution_count": 25,
   "metadata": {},
   "outputs": [
    {
     "ename": "ValueError",
     "evalue": "10 is not in list",
     "output_type": "error",
     "traceback": [
      "\u001b[1;31m---------------------------------------------------------------------------\u001b[0m",
      "\u001b[1;31mValueError\u001b[0m                                Traceback (most recent call last)",
      "Cell \u001b[1;32mIn[25], line 2\u001b[0m\n\u001b[0;32m      1\u001b[0m numbers \u001b[38;5;241m=\u001b[39m [\u001b[38;5;241m1\u001b[39m, \u001b[38;5;241m2\u001b[39m, \u001b[38;5;241m3\u001b[39m, \u001b[38;5;241m4\u001b[39m, \u001b[38;5;241m5\u001b[39m]\n\u001b[1;32m----> 2\u001b[0m \u001b[43mnumbers\u001b[49m\u001b[38;5;241;43m.\u001b[39;49m\u001b[43mindex\u001b[49m\u001b[43m(\u001b[49m\u001b[38;5;241;43m10\u001b[39;49m\u001b[43m)\u001b[49m\n",
      "\u001b[1;31mValueError\u001b[0m: 10 is not in list"
     ]
    }
   ],
   "source": [
    "numbers = [1, 2, 3, 4, 5]\n",
    "numbers.index(10)"
   ]
  },
  {
   "cell_type": "code",
   "execution_count": 26,
   "metadata": {},
   "outputs": [
    {
     "ename": "TypeError",
     "evalue": "list.extend() takes exactly one argument (3 given)",
     "output_type": "error",
     "traceback": [
      "\u001b[1;31m---------------------------------------------------------------------------\u001b[0m",
      "\u001b[1;31mTypeError\u001b[0m                                 Traceback (most recent call last)",
      "Cell \u001b[1;32mIn[26], line 2\u001b[0m\n\u001b[0;32m      1\u001b[0m numbers \u001b[38;5;241m=\u001b[39m [\u001b[38;5;241m1\u001b[39m, \u001b[38;5;241m2\u001b[39m, \u001b[38;5;241m3\u001b[39m, \u001b[38;5;241m4\u001b[39m, \u001b[38;5;241m5\u001b[39m]\n\u001b[1;32m----> 2\u001b[0m \u001b[43mnumbers\u001b[49m\u001b[38;5;241;43m.\u001b[39;49m\u001b[43mextend\u001b[49m\u001b[43m(\u001b[49m\u001b[38;5;241;43m6\u001b[39;49m\u001b[43m,\u001b[49m\u001b[43m \u001b[49m\u001b[38;5;241;43m7\u001b[39;49m\u001b[43m,\u001b[49m\u001b[43m \u001b[49m\u001b[38;5;241;43m8\u001b[39;49m\u001b[43m)\u001b[49m\n\u001b[0;32m      3\u001b[0m \u001b[38;5;28mprint\u001b[39m(numbers)\n",
      "\u001b[1;31mTypeError\u001b[0m: list.extend() takes exactly one argument (3 given)"
     ]
    }
   ],
   "source": [
    "numbers = [1, 2, 3, 4, 5]\n",
    "numbers.extend(6, 7, 8)\n",
    "print(numbers)"
   ]
  },
  {
   "cell_type": "code",
   "execution_count": 27,
   "metadata": {},
   "outputs": [
    {
     "ename": "ValueError",
     "evalue": "list.remove(x): x not in list",
     "output_type": "error",
     "traceback": [
      "\u001b[1;31m---------------------------------------------------------------------------\u001b[0m",
      "\u001b[1;31mValueError\u001b[0m                                Traceback (most recent call last)",
      "Cell \u001b[1;32mIn[27], line 3\u001b[0m\n\u001b[0;32m      1\u001b[0m \u001b[38;5;66;03m#k\u001b[39;00m\n\u001b[0;32m      2\u001b[0m numbers \u001b[38;5;241m=\u001b[39m [\u001b[38;5;241m1\u001b[39m, \u001b[38;5;241m2\u001b[39m, \u001b[38;5;241m3\u001b[39m, \u001b[38;5;241m4\u001b[39m, \u001b[38;5;241m5\u001b[39m]\n\u001b[1;32m----> 3\u001b[0m \u001b[43mnumbers\u001b[49m\u001b[38;5;241;43m.\u001b[39;49m\u001b[43mremove\u001b[49m\u001b[43m(\u001b[49m\u001b[38;5;241;43m10\u001b[39;49m\u001b[43m)\u001b[49m\n",
      "\u001b[1;31mValueError\u001b[0m: list.remove(x): x not in list"
     ]
    }
   ],
   "source": [
    "#k\n",
    "numbers = [1, 2, 3, 4, 5]\n",
    "numbers.remove(10)"
   ]
  },
  {
   "cell_type": "code",
   "execution_count": 28,
   "metadata": {},
   "outputs": [
    {
     "ename": "IndexError",
     "evalue": "pop from empty list",
     "output_type": "error",
     "traceback": [
      "\u001b[1;31m---------------------------------------------------------------------------\u001b[0m",
      "\u001b[1;31mIndexError\u001b[0m                                Traceback (most recent call last)",
      "Cell \u001b[1;32mIn[28], line 2\u001b[0m\n\u001b[0;32m      1\u001b[0m values \u001b[38;5;241m=\u001b[39m []\n\u001b[1;32m----> 2\u001b[0m \u001b[43mvalues\u001b[49m\u001b[38;5;241;43m.\u001b[39;49m\u001b[43mpop\u001b[49m\u001b[43m(\u001b[49m\u001b[43m)\u001b[49m\n",
      "\u001b[1;31mIndexError\u001b[0m: pop from empty list"
     ]
    }
   ],
   "source": [
    " values = []\n",
    " values.pop()"
   ]
  },
  {
   "cell_type": "code",
   "execution_count": 30,
   "metadata": {},
   "outputs": [
    {
     "name": "stdout",
     "output_type": "stream",
     "text": [
      "yes present: 5\n",
      "2\n"
     ]
    }
   ],
   "source": [
    "#q6\n",
    "\n",
    "l1=eval(input(\"enter a list of 10 numbers\"))\n",
    "a=int(input(\"enter a number\"))\n",
    "if a in l1:\n",
    "    print(\"yes present:\",a)\n",
    "    print(l1.count(a))\n",
    "\n"
   ]
  },
  {
   "cell_type": "code",
   "execution_count": 1,
   "metadata": {},
   "outputs": [
    {
     "name": "stdout",
     "output_type": "stream",
     "text": [
      "['1', '4', '10']\n"
     ]
    }
   ],
   "source": [
    "#q7\n",
    "l1=eval(input(\"enter a list of numbers\"))\n",
    "l2=[str(sum(l1[:i+1])) for i in range(len(l1)) ]\n",
    "print(l2)"
   ]
  },
  {
   "cell_type": "code",
   "execution_count": 7,
   "metadata": {},
   "outputs": [
    {
     "name": "stdout",
     "output_type": "stream",
     "text": [
      "[[0, 0, 0, 0, 0], [1, 2, 3, 4, 5], [2, 4, 6, 8, 10], [3, 6, 9, 12, 15], [4, 8, 12, 16, 20]]\n"
     ]
    }
   ],
   "source": [
    "#q8\n",
    "def f(i):\n",
    "    l3=list()\n",
    "    for k in range(5):\n",
    "        l3.append(i*(k+1))\n",
    "    return l3\n",
    "n=int(input(\"enter limit of final list\"))\n",
    "res=list()\n",
    "for i in range(n):\n",
    "    l1=f(i)#i+1 if dont wnat tp print 0th\n",
    "    res.append(l1)\n",
    "\n",
    "print(res)\n",
    "\n"
   ]
  },
  {
   "cell_type": "code",
   "execution_count": 14,
   "metadata": {},
   "outputs": [
    {
     "ename": "IndexError",
     "evalue": "list assignment index out of range",
     "output_type": "error",
     "traceback": [
      "\u001b[1;31m---------------------------------------------------------------------------\u001b[0m",
      "\u001b[1;31mIndexError\u001b[0m                                Traceback (most recent call last)",
      "Cell \u001b[1;32mIn[14], line 7\u001b[0m\n\u001b[0;32m      5\u001b[0m tuple1\u001b[38;5;241m=\u001b[39m(\u001b[38;5;124m'\u001b[39m\u001b[38;5;124ma\u001b[39m\u001b[38;5;124m'\u001b[39m,\u001b[38;5;124m'\u001b[39m\u001b[38;5;124me\u001b[39m\u001b[38;5;124m'\u001b[39m,\u001b[38;5;124m'\u001b[39m\u001b[38;5;124mi\u001b[39m\u001b[38;5;124m'\u001b[39m,\u001b[38;5;124m'\u001b[39m\u001b[38;5;124mo\u001b[39m\u001b[38;5;124m'\u001b[39m,\u001b[38;5;124m'\u001b[39m\u001b[38;5;124mu\u001b[39m\u001b[38;5;124m'\u001b[39m)\n\u001b[0;32m      6\u001b[0m tuple2\u001b[38;5;241m=\u001b[39m\u001b[38;5;28mtuple\u001b[39m(([\u001b[38;5;241m2\u001b[39m,\u001b[38;5;241m4\u001b[39m,\u001b[38;5;241m6\u001b[39m,\u001b[38;5;241m8\u001b[39m],[\u001b[38;5;241m3\u001b[39m,\u001b[38;5;241m6\u001b[39m,\u001b[38;5;241m9\u001b[39m],[\u001b[38;5;241m4\u001b[39m,\u001b[38;5;241m8\u001b[39m],\u001b[38;5;241m5\u001b[39m))\n\u001b[1;32m----> 7\u001b[0m \u001b[43mlist1\u001b[49m\u001b[43m[\u001b[49m\u001b[38;5;241;43m3\u001b[39;49m\u001b[43m]\u001b[49m\u001b[38;5;241m=\u001b[39m\u001b[38;5;241m4\u001b[39m\n",
      "\u001b[1;31mIndexError\u001b[0m: list assignment index out of range"
     ]
    }
   ],
   "source": [
    "#q9\n",
    "address='B-6,Lodhiroad,Delhi'\n",
    "list1=[1,2,3]\n",
    "list2=['a',1,'z',26,'d',4]\n",
    "tuple1=('a','e','i','o','u')\n",
    "tuple2=tuple(([2,4,6,8],[3,6,9],[4,8],5))\n",
    "list1[3]=4"
   ]
  },
  {
   "cell_type": "code",
   "execution_count": null,
   "metadata": {},
   "outputs": [
    {
     "name": "stdout",
     "output_type": "stream",
     "text": [
      "[1, 2, 3, 1, 2, 3]\n"
     ]
    },
    {
     "ename": "TypeError",
     "evalue": "'<' not supported between instances of 'int' and 'str'",
     "output_type": "error",
     "traceback": [
      "\u001b[1;31m---------------------------------------------------------------------------\u001b[0m",
      "\u001b[1;31mTypeError\u001b[0m                                 Traceback (most recent call last)",
      "Cell \u001b[1;32mIn[11], line 2\u001b[0m\n\u001b[0;32m      1\u001b[0m \u001b[38;5;28mprint\u001b[39m(list1\u001b[38;5;241m*\u001b[39m\u001b[38;5;241m2\u001b[39m)\n\u001b[1;32m----> 2\u001b[0m \u001b[38;5;28mprint\u001b[39m(\u001b[38;5;28;43mmin\u001b[39;49m\u001b[43m(\u001b[49m\u001b[43mlist2\u001b[49m\u001b[43m)\u001b[49m)\n",
      "\u001b[1;31mTypeError\u001b[0m: '<' not supported between instances of 'int' and 'str'"
     ]
    }
   ],
   "source": [
    "print(list1*2)\n",
    "\n",
    "\n",
    "print(min(list2))"
   ]
  },
  {
   "cell_type": "code",
   "execution_count": 15,
   "metadata": {},
   "outputs": [
    {
     "name": "stdout",
     "output_type": "stream",
     "text": [
      "3\n",
      "['B', '-', '6', ',', 'L', 'o', 'd', 'h', 'i', 'r', 'o', 'a', 'd', ',', 'D', 'e', 'l', 'h', 'i']\n"
     ]
    }
   ],
   "source": [
    "#9_4\n",
    "print(max(list1))\n",
    "print(list(address))"
   ]
  },
  {
   "cell_type": "code",
   "execution_count": 16,
   "metadata": {},
   "outputs": [
    {
     "name": "stdout",
     "output_type": "stream",
     "text": [
      "['a', 1, 'z', 26, 'd', 4, 'e', 5]\n"
     ]
    }
   ],
   "source": [
    "#\n",
    "list2.extend(['e',5])\n",
    "print(list2)"
   ]
  },
  {
   "cell_type": "code",
   "execution_count": 17,
   "metadata": {},
   "outputs": [
    {
     "name": "stdout",
     "output_type": "stream",
     "text": [
      "['a', 1, 'z', 26, 'd', 4, 'e', 5, ['e', 5]]\n"
     ]
    }
   ],
   "source": [
    "list2.append(['e',5])\n",
    "print(list2)"
   ]
  },
  {
   "cell_type": "code",
   "execution_count": 19,
   "metadata": {},
   "outputs": [
    {
     "name": "stdout",
     "output_type": "stream",
     "text": [
      "['gita', 'rohan', 'mohan']\n"
     ]
    }
   ],
   "source": [
    "names=['rohan','mohan','gita']\n",
    "names.sort(key=len)\n",
    "print(names)"
   ]
  },
  {
   "cell_type": "code",
   "execution_count": 20,
   "metadata": {},
   "outputs": [
    {
     "name": "stdout",
     "output_type": "stream",
     "text": [
      "[2, 4, 6, 8, 10, 12, 14, 16, 18, 20]\n"
     ]
    }
   ],
   "source": [
    "list3=[(x*2) for x in range(1,11)]\n",
    "print(list3)"
   ]
  },
  {
   "cell_type": "code",
   "execution_count": 21,
   "metadata": {},
   "outputs": [
    {
     "name": "stdout",
     "output_type": "stream",
     "text": [
      "[2]\n"
     ]
    }
   ],
   "source": [
    "del list3[1:]\n",
    "print(list3)"
   ]
  },
  {
   "cell_type": "code",
   "execution_count": 23,
   "metadata": {},
   "outputs": [
    {
     "name": "stdout",
     "output_type": "stream",
     "text": [
      "[2, 3, 4, 5, 3, 4, 5, 6, 4, 5, 6, 7, 5, 6, 7, 8]\n"
     ]
    }
   ],
   "source": [
    "list4=[x+y for x in range(1,5) for y in range(1,5)]\n",
    "print(list4)"
   ]
  },
  {
   "cell_type": "code",
   "execution_count": 24,
   "metadata": {},
   "outputs": [
    {
     "ename": "TypeError",
     "evalue": "'tuple' object does not support item assignment",
     "output_type": "error",
     "traceback": [
      "\u001b[1;31m---------------------------------------------------------------------------\u001b[0m",
      "\u001b[1;31mTypeError\u001b[0m                                 Traceback (most recent call last)",
      "Cell \u001b[1;32mIn[24], line 1\u001b[0m\n\u001b[1;32m----> 1\u001b[0m \u001b[43mtuple2\u001b[49m\u001b[43m[\u001b[49m\u001b[38;5;241;43m3\u001b[39;49m\u001b[43m]\u001b[49m\u001b[38;5;241m=\u001b[39m\u001b[38;5;241m6\u001b[39m\u001b[38;5;66;03m#error\u001b[39;00m\n",
      "\u001b[1;31mTypeError\u001b[0m: 'tuple' object does not support item assignment"
     ]
    }
   ],
   "source": [
    "tuple2[3]=6#error"
   ]
  },
  {
   "cell_type": "code",
   "execution_count": 25,
   "metadata": {},
   "outputs": [
    {
     "ename": "AttributeError",
     "evalue": "'tuple' object has no attribute 'append'",
     "output_type": "error",
     "traceback": [
      "\u001b[1;31m---------------------------------------------------------------------------\u001b[0m",
      "\u001b[1;31mAttributeError\u001b[0m                            Traceback (most recent call last)",
      "Cell \u001b[1;32mIn[25], line 1\u001b[0m\n\u001b[1;32m----> 1\u001b[0m \u001b[43mtuple2\u001b[49m\u001b[38;5;241;43m.\u001b[39;49m\u001b[43mappend\u001b[49m(\u001b[38;5;241m5\u001b[39m)\n",
      "\u001b[1;31mAttributeError\u001b[0m: 'tuple' object has no attribute 'append'"
     ]
    }
   ],
   "source": [
    "tuple2.append(5)"
   ]
  },
  {
   "cell_type": "code",
   "execution_count": 38,
   "metadata": {},
   "outputs": [
    {
     "name": "stdout",
     "output_type": "stream",
     "text": [
      "([2, 4, 6, 8], [3, 6, 9], [4, 8], 5, 5)\n"
     ]
    }
   ],
   "source": [
    "\n",
    "t1=tuple2+(5,)\n",
    "print(t1)"
   ]
  },
  {
   "cell_type": "code",
   "execution_count": null,
   "metadata": {},
   "outputs": [],
   "source": [
    "#but\n",
    "tuple2=([2,4,6,8],[3,6,9],[4,8],5)\n",
    "t1=tuple()\n",
    "t1=tuple2+(5,)\n",
    "t5=tuple2+tuple((5,))##<-------"
   ]
  },
  {
   "cell_type": "code",
   "execution_count": 39,
   "metadata": {},
   "outputs": [
    {
     "data": {
      "text/plain": [
       "[('apple', 'red'), ('orange', 'orange')]"
      ]
     },
     "execution_count": 39,
     "metadata": {},
     "output_type": "execute_result"
    }
   ],
   "source": [
    "list(zip(['apple','orange'],('red','orange')))"
   ]
  },
  {
   "cell_type": "code",
   "execution_count": 49,
   "metadata": {},
   "outputs": [
    {
     "name": "stdout",
     "output_type": "stream",
     "text": [
      "sum: 16\n",
      "((1, 2, 3), (2, 3, 4, 1))\n",
      "(6, 10)\n"
     ]
    }
   ],
   "source": [
    "#q10\n",
    "tup1=eval(input(\"enter a tuple\"))\n",
    "ans_sum=0\n",
    "t1=tuple()\n",
    "for i in range(len(tup1)):\n",
    "    ans_sum=ans_sum+sum(tup1[i])\n",
    "    t1=t1+(sum(tup1[i]),)\n",
    "print(\"sum:\",ans_sum)\n",
    "print(tup1)\n",
    "print(t1)\n"
   ]
  },
  {
   "cell_type": "code",
   "execution_count": null,
   "metadata": {},
   "outputs": [
    {
     "name": "stdout",
     "output_type": "stream",
     "text": [
      "[[1, 2], [3, 4], [5, 6]]\n",
      "[1, 2]\n",
      "[3, 4]\n",
      "[5, 6]\n"
     ]
    }
   ],
   "source": [
    "#WriteaPythonprogramtoprintM-by-Nlistinthetabularformat.q11\n",
    "M=int(input(\"enter M\"))\n",
    "N=int(input(\"enter N\"))\n",
    "#n=eval(input(\"enter a M by N list\"))\n",
    "res=list()\n",
    "innerl=list()\n",
    "for i in range(M):\n",
    "    \n",
    "    for j in range(N):\n",
    "        a=int(input(\"enter a number\"))\n",
    "        innerl.append(a)\n",
    "    innerl2=innerl.copy()#list(inner1);inner[:]    <--as innerl is mutable there =fire create copy before deleting enlse res will be nothing\n",
    "    res.append(innerl2)\n",
    "    innerl.clear()\n",
    "    \n",
    "\n",
    "print(res)\n",
    "for i in range(M):\n",
    "    print(res[i])\n"
   ]
  },
  {
   "cell_type": "code",
   "execution_count": null,
   "metadata": {},
   "outputs": [
    {
     "name": "stdout",
     "output_type": "stream",
     "text": [
      "sum of 0 row: 10.5\n",
      "sum of 1 row: 26.5\n",
      "sum of 2 row: 14.5\n",
      "[1.5, 2, 3, 4]\n",
      "[5.5, 6, 7, 8]\n",
      "[9.5, 1, 3, 1]\n"
     ]
    }
   ],
   "source": [
    "#q12\n",
    "M=int(input(\"enter M\"))\n",
    "N=int(input(\"enter N\"))\n",
    "res=list()\n",
    "innerl=list()\n",
    "for i in range(M):\n",
    "    \n",
    "    for j in range(N):\n",
    "        a=eval(input(\"enter a number\"))\n",
    "        innerl.append(a)\n",
    "    innerl2=innerl.copy()#list(inner1);inner[:]    <--as innerl is mutable there =fire create copy before deleting enlse res will be nothing\n",
    "    res.append(innerl2)\n",
    "    innerl.clear()\n",
    "\n",
    "for i in range(M):\n",
    "\n",
    "    print(\"sum of\",i,\"row:\",sum(res[i]))\n",
    "\n",
    "for i in range(M):\n",
    "    print(res[i])"
   ]
  },
  {
   "cell_type": "code",
   "execution_count": 68,
   "metadata": {},
   "outputs": [
    {
     "name": "stdout",
     "output_type": "stream",
     "text": [
      "[(1, -2, 8), (1, 0, 3), (1, 2, 3)]\n"
     ]
    }
   ],
   "source": [
    "#13\n",
    "l1=eval(input(\"enter list of tuples\"))\n",
    "l1.sort(key=lambda x:x[1])\n",
    "print(l1)"
   ]
  },
  {
   "cell_type": "code",
   "execution_count": 69,
   "metadata": {},
   "outputs": [
    {
     "name": "stdout",
     "output_type": "stream",
     "text": [
      "(1, 4, 9, 16, 25, 36, 49, 64, 81, 100)\n"
     ]
    }
   ],
   "source": [
    "#q14\n",
    "a=[i**2 for i in range(1,11)]\n",
    "r=tuple(a)\n",
    "print(r)"
   ]
  },
  {
   "cell_type": "code",
   "execution_count": null,
   "metadata": {},
   "outputs": [
    {
     "name": "stdout",
     "output_type": "stream",
     "text": [
      "[0, 1, 1, 0]\n",
      "[1, 0, 1, 1]\n",
      "[1, 0, 0, 1]\n",
      "1\n"
     ]
    }
   ],
   "source": [
    "#q15\n",
    "import random\n",
    "\n",
    "res=list()\n",
    "innerl=list()\n",
    "for i in range(M):\n",
    "    \n",
    "    for j in range(N):\n",
    "        a=random.choice([0,1])\n",
    "        innerl.append(a)\n",
    "    innerl2=innerl.copy()#list(inner1);inner[:]    <--as innerl is mutable there =fire create copy before deleting enlse res will be nothing\n",
    "    res.append(innerl2)\n",
    "    innerl.clear()\n",
    "\n",
    "mr=0\n",
    "mc=0\n",
    "r,c=0,0\n",
    "for i in range(M):\n",
    "    print(res[i])\n",
    "for i in range(M):\n",
    "    if(res[i].count(1)>mr):\n",
    "        r=i\n",
    "        mr=res[i].count(1)\n",
    "    #row sum\n",
    "'''for i in range(N):\n",
    "    if \n",
    "print(r)'''\n",
    "\n",
    "           "
   ]
  },
  {
   "cell_type": "code",
   "execution_count": null,
   "metadata": {},
   "outputs": [
    {
     "name": "stdout",
     "output_type": "stream",
     "text": [
      "[5]\n",
      "[1, 2, 3, 4, 5]\n",
      "[1, 2, 3, 4]\n",
      "YES\n"
     ]
    }
   ],
   "source": [
    "#q17\n",
    "n=int(input(\"enter element\"))\n",
    "#l1=list((n,))#<--\n",
    "l1=[n,]\n",
    "print(l1)\n",
    "for i in range(l1[0]):\n",
    "    a=int(input(\"enter a number\"))\n",
    "    l1.append(a)\n",
    "l2=sorted(l1[1:])\n",
    "print(l1[1:])\n",
    "print(l2[:len(l2)-1])\n",
    "if l2==l1[1:]:\n",
    "    print(\"YES\")\n",
    "else:\n",
    "    print(\"No\")\n",
    "\n",
    "\n"
   ]
  },
  {
   "cell_type": "code",
   "execution_count": null,
   "metadata": {},
   "outputs": [],
   "source": [
    "#q16\n"
   ]
  },
  {
   "cell_type": "code",
   "execution_count": 107,
   "metadata": {},
   "outputs": [
    {
     "name": "stdout",
     "output_type": "stream",
     "text": [
      "3.11\n",
      "standard deviation is 1.55738\n"
     ]
    }
   ],
   "source": [
    "#q18\n",
    "import statistics as s\n",
    "x=eval(input(\"enter list\"))\n",
    "print(s.mean(x))\n",
    "#print(s.variance(x))\n",
    "sig=s.stdev(x)\n",
    "\n",
    "print(f\"standard deviation is {sig:.5f}\")\n",
    "#i/p:[1.9,2.5,3.7,2,1,6,3,4,5,2]"
   ]
  },
  {
   "cell_type": "code",
   "execution_count": null,
   "metadata": {},
   "outputs": [],
   "source": [
    "#q19\n",
    "import statistics as s\n",
    "x=[1,4,7,2,7]\n",
    "print(s.pvariance(x))\n",
    "sig=s.pstdev(x)\n",
    "print(sig)"
   ]
  },
  {
   "cell_type": "code",
   "execution_count": 111,
   "metadata": {},
   "outputs": [
    {
     "name": "stdout",
     "output_type": "stream",
     "text": [
      "[1, 2, 5, 2, 89, 55]\n",
      "55\n"
     ]
    }
   ],
   "source": [
    "#q19\n",
    "x=eval(input(\"enter list\"))\n",
    "print(x)\n",
    "x.sort(reverse=True)\n",
    "print(x[1])"
   ]
  },
  {
   "cell_type": "code",
   "execution_count": 120,
   "metadata": {},
   "outputs": [
    {
     "name": "stdout",
     "output_type": "stream",
     "text": [
      "l  [['mini', 2, 3], [4, 5, 6]] 2230353759104\n",
      "l2 [['mini', 2, 3], [4, 5, 6]] 2230353704832\n",
      "l  [['ishika', 2, 3], [4, 5, 6]] 2230353759104\n",
      "l3 [['Shallow', 2, 3], [4, 5, 6]] 2230353704576\n"
     ]
    }
   ],
   "source": [
    "#q21\n",
    "import copy\n",
    "l=[['Shallow', 2, 3], [4, 5, 6]]\n",
    "l2=copy.copy(l)\n",
    "l3=copy.deepcopy(l)\n",
    "l2[0][0]=\"mini\"\n",
    "print(\"l \",l,id(l))\n",
    "print(\"l2\",l2,id(l2))\n",
    "\n",
    "l2[0][0]=\"ishika\"\n",
    "print(\"l \",l,id(l))\n",
    "print(\"l3\",l3,id(l3))\n"
   ]
  },
  {
   "cell_type": "code",
   "execution_count": null,
   "metadata": {},
   "outputs": [],
   "source": [
    "#q23\n",
    "'''\n",
    "a)\n",
    "'''"
   ]
  }
 ],
 "metadata": {
  "kernelspec": {
   "display_name": ".venv",
   "language": "python",
   "name": "python3"
  },
  "language_info": {
   "codemirror_mode": {
    "name": "ipython",
    "version": 3
   },
   "file_extension": ".py",
   "mimetype": "text/x-python",
   "name": "python",
   "nbconvert_exporter": "python",
   "pygments_lexer": "ipython3",
   "version": "3.12.6"
  }
 },
 "nbformat": 4,
 "nbformat_minor": 2
}
