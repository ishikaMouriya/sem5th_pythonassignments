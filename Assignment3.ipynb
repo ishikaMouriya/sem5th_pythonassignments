{
 "cells": [
  {
   "cell_type": "code",
   "execution_count": 1,
   "metadata": {},
   "outputs": [
    {
     "name": "stdout",
     "output_type": "stream",
     "text": [
      "max: 8 Smax: 6 Tmax: 3\n"
     ]
    }
   ],
   "source": [
    "n=int(input(\"enter a  number\"))\n",
    "Tmax,Smax,max=0,0,0\n",
    "while(n!=0):\n",
    "    el=n%10\n",
    "    if (max<el):\n",
    "        Tmax=Smax\n",
    "        Smax=max\n",
    "        max=el\n",
    "    elif(el>Smax):\n",
    "        Tmax=Smax\n",
    "        Smax=el\n",
    "    elif(el>Tmax):\n",
    "        Tmax=el\n",
    "    else:\n",
    "        pass\n",
    "    n=n//10\n",
    "print(\"max:\",max,\"Smax:\",Smax,\"Tmax:\",Tmax)"
   ]
  },
  {
   "cell_type": "code",
   "execution_count": 5,
   "metadata": {},
   "outputs": [
    {
     "name": "stdout",
     "output_type": "stream",
     "text": [
      "divisible by three and five: 105\n",
      "divisible by three and five: 110\n",
      "divisible by three and five: 115\n",
      "divisible by three and five: 120\n",
      "divisible by three and five: 125\n"
     ]
    }
   ],
   "source": [
    "#q2\n",
    "def divans(a):\n",
    "    if(a %3 ==0 ) and  (a%5 == 0):\n",
    "        return True\n",
    "    return False\n",
    "\n",
    "\n",
    "\n",
    "for i in range(101,130):\n",
    "    if(divfive(i)):\n",
    "     print(\"divisible by three and five:\",i)"
   ]
  },
  {
   "cell_type": "code",
   "execution_count": 8,
   "metadata": {},
   "outputs": [
    {
     "name": "stdout",
     "output_type": "stream",
     "text": [
      "the sum of squares if even numbers between 1-50 is: 20\n"
     ]
    }
   ],
   "source": [
    "#q3\n",
    "def addsquares(i):\n",
    "    if i==5:\n",
    "        return 0\n",
    "    if(i%2 ==0):\n",
    "        return i**2+addsquares(i+1)\n",
    "    return addsquares(i+1)\n",
    "\n",
    "print(\"the sum of squares if even numbers between 1-50 is:\", addsquares(1))\n"
   ]
  },
  {
   "cell_type": "code",
   "execution_count": 9,
   "metadata": {},
   "outputs": [
    {
     "name": "stdout",
     "output_type": "stream",
     "text": [
      "ahsi\n"
     ]
    }
   ],
   "source": [
    "#q4\n",
    "def reverse(a):\n",
    "    return a[::-1]\n",
    "\n",
    "print(reverse(\"isha\"))\n",
    "\n"
   ]
  },
  {
   "cell_type": "code",
   "execution_count": 11,
   "metadata": {},
   "outputs": [
    {
     "name": "stdout",
     "output_type": "stream",
     "text": [
      "ahsi\n"
     ]
    }
   ],
   "source": [
    "#or q4\n",
    "def reverse(a):\n",
    "    if(a==\"\"):\n",
    "     return \"\"\n",
    "    return reverse(a[1:])+a[0]\n",
    "\n",
    "print(reverse(\"isha\"))"
   ]
  },
  {
   "cell_type": "code",
   "execution_count": 13,
   "metadata": {},
   "outputs": [
    {
     "name": "stdout",
     "output_type": "stream",
     "text": [
      "5\n"
     ]
    }
   ],
   "source": [
    "#q5\n",
    "def digit_no(a):\n",
    "    return len(str(a))\n",
    "\n",
    "print(digit_no(34533))"
   ]
  },
  {
   "cell_type": "code",
   "execution_count": 16,
   "metadata": {},
   "outputs": [
    {
     "name": "stdout",
     "output_type": "stream",
     "text": [
      "True : madam\n"
     ]
    }
   ],
   "source": [
    "#q6\n",
    "def reverse(a):\n",
    "    return a[::-1]\n",
    "\n",
    "a=input(\"enter a string:\")\n",
    "print(reverse(a) == a,\":\",a)"
   ]
  },
  {
   "cell_type": "code",
   "execution_count": 20,
   "metadata": {},
   "outputs": [
    {
     "name": "stdout",
     "output_type": "stream",
     "text": [
      "the character is vowel: A\n"
     ]
    }
   ],
   "source": [
    "#q7\n",
    "def vowel(a):\n",
    "    a=a.lower()\n",
    "    \n",
    "    if(a ==\"a\" or a==\"e\" or a ==\"i\" or a==\"i\" or a==\"o\" or a==\"u\"):\n",
    "        return True\n",
    "    return False\n",
    "\n",
    "n=input(\"enter a letter\")\n",
    "if vowel(n):\n",
    "    print(\"the character is vowel:\",n)\n",
    "else:\n",
    "    print(\"the character is consonent:\",n)\n",
    "    \n"
   ]
  },
  {
   "cell_type": "code",
   "execution_count": 26,
   "metadata": {},
   "outputs": [
    {
     "name": "stdout",
     "output_type": "stream",
     "text": [
      "30\n"
     ]
    }
   ],
   "source": [
    "#q8\n",
    "def days_in_mon(a):\n",
    "    a=a.lower()\n",
    "    match(a):\n",
    "        case \"january\" | \"march\" | \"may\" | \"june\" | \"july\" | \"august\" | \"october\" | \"december\" :\n",
    "            return \"31\"\n",
    "        case \"february\":\n",
    "            return \"28/29\"\n",
    "        case _:\n",
    "            return \"30\"\n",
    "        \n",
    "n=input(\"enter the month name\")        \n",
    "print(days_in_mon(n))\n"
   ]
  },
  {
   "cell_type": "code",
   "execution_count": 31,
   "metadata": {},
   "outputs": [
    {
     "data": {
      "text/plain": [
       "6"
      ]
     },
     "execution_count": 31,
     "metadata": {},
     "output_type": "execute_result"
    }
   ],
   "source": [
    "#q9\n",
    "def dec_bin(n,c):\n",
    "    if(n==0):\n",
    "     return 0\n",
    "    else:\n",
    "       return (n%2)* 10**c +dec_bin(n//2,c+1)\n",
    "    #(a%2,end=\"\")\n",
    "\n",
    "\n",
    "    \n",
    "\n",
    "def bin_dec(n,c):\n",
    "   if(n==0):\n",
    "    return 0\n",
    "   return n%10 * 2**c +bin_dec(n//10,c+1)\n",
    "\n",
    "dec_bin(6,0)\n",
    "bin_dec(110,0)\n",
    "   \n"
   ]
  },
  {
   "cell_type": "code",
   "execution_count": null,
   "metadata": {},
   "outputs": [],
   "source": [
    "#q10\n",
    "from itertools import permutations\n",
    "\n",
    "def unique_permutations(string):\n",
    "    # Generate all permutations and store them in a set to ensure uniqueness\n",
    "    unique_perms = set(''.join(p) for p in permutations(string))\n",
    "    return list(unique_perms)  # Convert the set back to a list\n",
    "\n",
    "# Example usage\n",
    "string = \"AAB\"\n",
    "result = unique_permutations(string)\n",
    "print(result)\n",
    "'''The expression ''.join(p) for p in permutations(string) is a generator expression that creates strings from tuples generated by permutations(string).\n",
    "\n",
    "Here's how it works:\n",
    "\n",
    "permutations(string):\n",
    "\n",
    "The itertools.permutations function generates all possible orderings (permutations) of the characters in string.\n",
    "Each permutation is a tuple of characters. For example, if string = \"ABC\", then permutations(string) would produce:\n",
    "python\n",
    "Copy code\n",
    "[('A', 'B', 'C'), ('A', 'C', 'B'), ('B', 'A', 'C'), ('B', 'C', 'A'), ('C', 'A', 'B'), ('C', 'B', 'A')]\n",
    "''.join(p):\n",
    "\n",
    "For each tuple p from permutations(string), ''.join(p) combines the characters in p into a single string.\n",
    "For example, ''.join(('A', 'B', 'C')) results in \"ABC\".\n",
    "for p in permutations(string):\n",
    "\n",
    "This part iterates over each tuple p generated by permutations(string).\n",
    "Putting it all together:\n",
    "\n",
    "python\n",
    "Copy code\n",
    "(''.join(p) for p in permutations(string))\n",
    "produces a generator that yields each permutation of string as a single, concatenated string, like \"ABC\", \"ACB\", etc.\n",
    "\n",
    "Example\n",
    "python\n",
    "Copy code\n",
    "from itertools import permutations\n",
    "\n",
    "string = \"ABC\"\n",
    "result = (''.join(p) for p in permutations(string))\n",
    "print(list(result))\n",
    "Output:\n",
    "\n",
    "css\n",
    "Copy code\n",
    "['ABC', 'ACB', 'BAC', 'BCA', 'CAB', 'CBA']\n",
    "Each item in the output list is a unique ordering of characters in the input string.\n",
    "\n",
    "def unique_permutations(string):\n",
    "    # Base case: if the string is empty, return an empty set\n",
    "    if len(string) == 0:\n",
    "        return set([\"\"])\n",
    "\n",
    "    # Take the first character and get permutations of the rest\n",
    "    first_char = string[0]\n",
    "    rest_permutations = unique_permutations(string[1:])\n",
    "\n",
    "    # Generate new permutations by inserting the first character\n",
    "    # into each possible position in each of the rest permutations\n",
    "    unique_perms = set()\n",
    "    for perm in rest_permutations:\n",
    "        for i in range(len(perm) + 1):\n",
    "            new_perm = perm[:i] + first_char + perm[i:]\n",
    "            unique_perms.add(new_perm)\n",
    "\n",
    "    return unique_perms\n",
    "\n",
    "# Example usage\n",
    "string = \"AAB\"\n",
    "result = unique_permutations(string)\n",
    "print(result)\n",
    "'''"
   ]
  },
  {
   "cell_type": "code",
   "execution_count": null,
   "metadata": {},
   "outputs": [],
   "source": [
    "#q"
   ]
  }
 ],
 "metadata": {
  "kernelspec": {
   "display_name": ".venv",
   "language": "python",
   "name": "python3"
  },
  "language_info": {
   "codemirror_mode": {
    "name": "ipython",
    "version": 3
   },
   "file_extension": ".py",
   "mimetype": "text/x-python",
   "name": "python",
   "nbconvert_exporter": "python",
   "pygments_lexer": "ipython3",
   "version": "3.12.6"
  }
 },
 "nbformat": 4,
 "nbformat_minor": 2
}
