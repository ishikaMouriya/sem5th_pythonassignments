{
 "cells": [
  {
   "cell_type": "code",
   "execution_count": 1,
   "metadata": {},
   "outputs": [
    {
     "name": "stdout",
     "output_type": "stream",
     "text": [
      "max: 8 Smax: 6 Tmax: 3\n"
     ]
    }
   ],
   "source": [
    "n=int(input(\"enter a  number\"))\n",
    "Tmax,Smax,max=0,0,0\n",
    "while(n!=0):\n",
    "    el=n%10\n",
    "    if (max<el):\n",
    "        Tmax=Smax\n",
    "        Smax=max\n",
    "        max=el\n",
    "    elif(el>Smax):\n",
    "        Tmax=Smax\n",
    "        Smax=el\n",
    "    elif(el>Tmax):\n",
    "        Tmax=el\n",
    "    else:\n",
    "        pass\n",
    "    n=n//10\n",
    "print(\"max:\",max,\"Smax:\",Smax,\"Tmax:\",Tmax)"
   ]
  },
  {
   "cell_type": "code",
   "execution_count": 5,
   "metadata": {},
   "outputs": [
    {
     "name": "stdout",
     "output_type": "stream",
     "text": [
      "divisible by three and five: 105\n",
      "divisible by three and five: 110\n",
      "divisible by three and five: 115\n",
      "divisible by three and five: 120\n",
      "divisible by three and five: 125\n"
     ]
    }
   ],
   "source": [
    "#q2\n",
    "def divans(a):\n",
    "    if(a %3 ==0 ) and  (a%5 == 0):\n",
    "        return True\n",
    "    return False\n",
    "\n",
    "\n",
    "\n",
    "for i in range(101,130):\n",
    "    if(divfive(i)):\n",
    "     print(\"divisible by three and five:\",i)"
   ]
  },
  {
   "cell_type": "code",
   "execution_count": 8,
   "metadata": {},
   "outputs": [
    {
     "name": "stdout",
     "output_type": "stream",
     "text": [
      "the sum of squares if even numbers between 1-50 is: 20\n"
     ]
    }
   ],
   "source": [
    "#q3\n",
    "def addsquares(i):\n",
    "    if i==5:\n",
    "        return 0\n",
    "    if(i%2 ==0):\n",
    "        return i**2+addsquares(i+1)\n",
    "    return addsquares(i+1)\n",
    "\n",
    "print(\"the sum of squares if even numbers between 1-50 is:\", addsquares(1))\n"
   ]
  },
  {
   "cell_type": "code",
   "execution_count": 9,
   "metadata": {},
   "outputs": [
    {
     "name": "stdout",
     "output_type": "stream",
     "text": [
      "ahsi\n"
     ]
    }
   ],
   "source": [
    "#q4\n",
    "def reverse(a):\n",
    "    return a[::-1]\n",
    "\n",
    "print(reverse(\"isha\"))\n",
    "\n"
   ]
  },
  {
   "cell_type": "code",
   "execution_count": 11,
   "metadata": {},
   "outputs": [
    {
     "name": "stdout",
     "output_type": "stream",
     "text": [
      "ahsi\n"
     ]
    }
   ],
   "source": [
    "#or q4\n",
    "def reverse(a):\n",
    "    if(a==\"\"):\n",
    "     return \"\"\n",
    "    return reverse(a[1:])+a[0]\n",
    "\n",
    "print(reverse(\"isha\"))"
   ]
  },
  {
   "cell_type": "code",
   "execution_count": 13,
   "metadata": {},
   "outputs": [
    {
     "name": "stdout",
     "output_type": "stream",
     "text": [
      "5\n"
     ]
    }
   ],
   "source": [
    "#q5\n",
    "def digit_no(a):\n",
    "    return len(str(a))\n",
    "\n",
    "print(digit_no(34533))"
   ]
  },
  {
   "cell_type": "code",
   "execution_count": 16,
   "metadata": {},
   "outputs": [
    {
     "name": "stdout",
     "output_type": "stream",
     "text": [
      "True : madam\n"
     ]
    }
   ],
   "source": [
    "#q6\n",
    "def reverse(a):\n",
    "    return a[::-1]\n",
    "\n",
    "a=input(\"enter a string:\")\n",
    "print(reverse(a) == a,\":\",a)"
   ]
  },
  {
   "cell_type": "code",
   "execution_count": 20,
   "metadata": {},
   "outputs": [
    {
     "name": "stdout",
     "output_type": "stream",
     "text": [
      "the character is vowel: A\n"
     ]
    }
   ],
   "source": [
    "#q7\n",
    "def vowel(a):\n",
    "    a=a.lower()\n",
    "    \n",
    "    if(a ==\"a\" or a==\"e\" or a ==\"i\" or a==\"i\" or a==\"o\" or a==\"u\"):\n",
    "        return True\n",
    "    return False\n",
    "\n",
    "n=input(\"enter a letter\")\n",
    "if vowel(n):\n",
    "    print(\"the character is vowel:\",n)\n",
    "else:\n",
    "    print(\"the character is consonent:\",n)\n",
    "    \n"
   ]
  },
  {
   "cell_type": "code",
   "execution_count": 26,
   "metadata": {},
   "outputs": [
    {
     "name": "stdout",
     "output_type": "stream",
     "text": [
      "30\n"
     ]
    }
   ],
   "source": [
    "#q8\n",
    "def days_in_mon(a):\n",
    "    a=a.lower()\n",
    "    match(a):\n",
    "        case \"january\" | \"march\" | \"may\" | \"june\" | \"july\" | \"august\" | \"october\" | \"december\" :\n",
    "            return \"31\"\n",
    "        case \"february\":\n",
    "            return \"28/29\"\n",
    "        case _:\n",
    "            return \"30\"\n",
    "        \n",
    "n=input(\"enter the month name\")        \n",
    "print(days_in_mon(n))\n"
   ]
  },
  {
   "cell_type": "code",
   "execution_count": 30,
   "metadata": {},
   "outputs": [
    {
     "data": {
      "text/plain": [
       "110"
      ]
     },
     "execution_count": 30,
     "metadata": {},
     "output_type": "execute_result"
    }
   ],
   "source": [
    "#q9\n",
    "def dec_bin(n,c):\n",
    "    if(n==0):\n",
    "     return 0\n",
    "    else:\n",
    "       return (n%2)* 10**c +dec_bin(n//2,c+1)\n",
    "    #(a%2,end=\"\")\n",
    "\n",
    "\n",
    "    \n",
    "\n",
    "def bin_dec(n,c):\n",
    "   if(n==0):\n",
    "    return 0\n",
    "   return n%10 * 2**c +bin_dec(n//10,c+1)\n",
    "\n",
    "dec_bin(6,0)\n",
    "bin_dec(110,0)\n",
    "   \n"
   ]
  }
 ],
 "metadata": {
  "kernelspec": {
   "display_name": ".venv",
   "language": "python",
   "name": "python3"
  },
  "language_info": {
   "codemirror_mode": {
    "name": "ipython",
    "version": 3
   },
   "file_extension": ".py",
   "mimetype": "text/x-python",
   "name": "python",
   "nbconvert_exporter": "python",
   "pygments_lexer": "ipython3",
   "version": "3.12.6"
  }
 },
 "nbformat": 4,
 "nbformat_minor": 2
}
