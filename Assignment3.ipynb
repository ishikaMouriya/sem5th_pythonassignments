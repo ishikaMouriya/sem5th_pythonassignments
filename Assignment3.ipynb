{
 "cells": [
  {
   "cell_type": "code",
   "execution_count": 1,
   "metadata": {},
   "outputs": [
    {
     "name": "stdout",
     "output_type": "stream",
     "text": [
      "max: 8 Smax: 6 Tmax: 3\n"
     ]
    }
   ],
   "source": [
    "n=int(input(\"enter a  number\"))\n",
    "Tmax,Smax,max=0,0,0\n",
    "while(n!=0):\n",
    "    el=n%10\n",
    "    if (max<el):\n",
    "        Tmax=Smax\n",
    "        Smax=max\n",
    "        max=el\n",
    "    elif(el>Smax):\n",
    "        Tmax=Smax\n",
    "        Smax=el\n",
    "    elif(el>Tmax):\n",
    "        Tmax=el\n",
    "    else:\n",
    "        pass\n",
    "    n=n//10\n",
    "print(\"max:\",max,\"Smax:\",Smax,\"Tmax:\",Tmax)"
   ]
  },
  {
   "cell_type": "code",
   "execution_count": 5,
   "metadata": {},
   "outputs": [
    {
     "name": "stdout",
     "output_type": "stream",
     "text": [
      "divisible by three and five: 105\n",
      "divisible by three and five: 110\n",
      "divisible by three and five: 115\n",
      "divisible by three and five: 120\n",
      "divisible by three and five: 125\n"
     ]
    }
   ],
   "source": [
    "#q2\n",
    "def divans(a):\n",
    "    if(a %3 ==0 ) and  (a%5 == 0):\n",
    "        return True\n",
    "    return False\n",
    "\n",
    "\n",
    "\n",
    "for i in range(101,130):\n",
    "    if(divfive(i)):\n",
    "     print(\"divisible by three and five:\",i)"
   ]
  },
  {
   "cell_type": "code",
   "execution_count": 8,
   "metadata": {},
   "outputs": [
    {
     "name": "stdout",
     "output_type": "stream",
     "text": [
      "the sum of squares if even numbers between 1-50 is: 20\n"
     ]
    }
   ],
   "source": [
    "#q3\n",
    "def addsquares(i):\n",
    "    if i==5:\n",
    "        return 0\n",
    "    if(i%2 ==0):\n",
    "        return i**2+addsquares(i+1)\n",
    "    return addsquares(i+1)\n",
    "\n",
    "print(\"the sum of squares if even numbers between 1-50 is:\", addsquares(1))\n"
   ]
  },
  {
   "cell_type": "code",
   "execution_count": 9,
   "metadata": {},
   "outputs": [
    {
     "name": "stdout",
     "output_type": "stream",
     "text": [
      "ahsi\n"
     ]
    }
   ],
   "source": [
    "#q4\n",
    "def reverse(a):\n",
    "    return a[::-1]\n",
    "\n",
    "print(reverse(\"isha\"))\n",
    "\n"
   ]
  },
  {
   "cell_type": "code",
   "execution_count": 11,
   "metadata": {},
   "outputs": [
    {
     "name": "stdout",
     "output_type": "stream",
     "text": [
      "ahsi\n"
     ]
    }
   ],
   "source": [
    "#or q4\n",
    "def reverse(a):\n",
    "    if(a==\"\"):\n",
    "     return \"\"\n",
    "    return reverse(a[1:])+a[0]\n",
    "\n",
    "print(reverse(\"isha\"))"
   ]
  },
  {
   "cell_type": "code",
   "execution_count": 13,
   "metadata": {},
   "outputs": [
    {
     "name": "stdout",
     "output_type": "stream",
     "text": [
      "5\n"
     ]
    }
   ],
   "source": [
    "#q5\n",
    "def digit_no(a):\n",
    "    return len(str(a))\n",
    "\n",
    "print(digit_no(34533))"
   ]
  },
  {
   "cell_type": "code",
   "execution_count": 16,
   "metadata": {},
   "outputs": [
    {
     "name": "stdout",
     "output_type": "stream",
     "text": [
      "True : madam\n"
     ]
    }
   ],
   "source": [
    "#q6\n",
    "def reverse(a):\n",
    "    return a[::-1]\n",
    "\n",
    "a=input(\"enter a string:\")\n",
    "print(reverse(a) == a,\":\",a)"
   ]
  },
  {
   "cell_type": "code",
   "execution_count": 20,
   "metadata": {},
   "outputs": [
    {
     "name": "stdout",
     "output_type": "stream",
     "text": [
      "the character is vowel: A\n"
     ]
    }
   ],
   "source": [
    "#q7\n",
    "def vowel(a):\n",
    "    a=a.lower()\n",
    "    \n",
    "    if(a ==\"a\" or a==\"e\" or a ==\"i\" or a==\"i\" or a==\"o\" or a==\"u\"):\n",
    "        return True\n",
    "    return False\n",
    "\n",
    "n=input(\"enter a letter\")\n",
    "if vowel(n):\n",
    "    print(\"the character is vowel:\",n)\n",
    "else:\n",
    "    print(\"the character is consonent:\",n)\n",
    "    \n"
   ]
  },
  {
   "cell_type": "code",
   "execution_count": 26,
   "metadata": {},
   "outputs": [
    {
     "name": "stdout",
     "output_type": "stream",
     "text": [
      "30\n"
     ]
    }
   ],
   "source": [
    "#q8\n",
    "def days_in_mon(a):\n",
    "    a=a.lower()\n",
    "    match(a):\n",
    "        case \"january\" | \"march\" | \"may\" | \"june\" | \"july\" | \"august\" | \"october\" | \"december\" :\n",
    "            return \"31\"\n",
    "        case \"february\":\n",
    "            return \"28/29\"\n",
    "        case _:\n",
    "            return \"30\"\n",
    "        \n",
    "n=input(\"enter the month name\")        \n",
    "print(days_in_mon(n))\n"
   ]
  },
  {
   "cell_type": "code",
   "execution_count": 31,
   "metadata": {},
   "outputs": [
    {
     "data": {
      "text/plain": [
       "6"
      ]
     },
     "execution_count": 31,
     "metadata": {},
     "output_type": "execute_result"
    }
   ],
   "source": [
    "#q9\n",
    "def dec_bin(n,c):\n",
    "    if(n==0):\n",
    "     return 0\n",
    "    else:\n",
    "       return (n%2)* 10**c +dec_bin(n//2,c+1)\n",
    "    #(a%2,end=\"\")\n",
    "\n",
    "\n",
    "    \n",
    "\n",
    "def bin_dec(n,c):\n",
    "   if(n==0):\n",
    "    return 0\n",
    "   return n%10 * 2**c +bin_dec(n//10,c+1)\n",
    "\n",
    "dec_bin(6,0)\n",
    "bin_dec(110,0)\n",
    "   \n"
   ]
  },
  {
   "cell_type": "code",
   "execution_count": null,
   "metadata": {},
   "outputs": [],
   "source": [
    "#q10\n",
    "from itertools import permutations\n",
    "\n",
    "def unique_permutations(string):\n",
    "    # Generate all permutations and store them in a set to ensure uniqueness\n",
    "    unique_perms = set(''.join(p) for p in permutations(string))\n",
    "    return list(unique_perms)  # Convert the set back to a list\n",
    "\n",
    "# Example usage\n",
    "string = \"AAB\"\n",
    "result = unique_permutations(string)\n",
    "print(result)\n",
    "'''The expression ''.join(p) for p in permutations(string) is a generator expression that creates strings from tuples generated by permutations(string).\n",
    "\n",
    "Here's how it works:\n",
    "\n",
    "permutations(string):\n",
    "\n",
    "The itertools.permutations function generates all possible orderings (permutations) of the characters in string.\n",
    "Each permutation is a tuple of characters. For example, if string = \"ABC\", then permutations(string) would produce:\n",
    "python\n",
    "Copy code\n",
    "[('A', 'B', 'C'), ('A', 'C', 'B'), ('B', 'A', 'C'), ('B', 'C', 'A'), ('C', 'A', 'B'), ('C', 'B', 'A')]\n",
    "''.join(p):\n",
    "\n",
    "For each tuple p from permutations(string), ''.join(p) combines the characters in p into a single string.\n",
    "For example, ''.join(('A', 'B', 'C')) results in \"ABC\".\n",
    "for p in permutations(string):\n",
    "\n",
    "This part iterates over each tuple p generated by permutations(string).\n",
    "Putting it all together:\n",
    "\n",
    "python\n",
    "Copy code\n",
    "(''.join(p) for p in permutations(string))\n",
    "produces a generator that yields each permutation of string as a single, concatenated string, like \"ABC\", \"ACB\", etc.\n",
    "\n",
    "Example\n",
    "python\n",
    "Copy code\n",
    "from itertools import permutations\n",
    "\n",
    "string = \"ABC\"\n",
    "result = (''.join(p) for p in permutations(string))\n",
    "print(list(result))\n",
    "Output:\n",
    "\n",
    "css\n",
    "Copy code\n",
    "['ABC', 'ACB', 'BAC', 'BCA', 'CAB', 'CBA']\n",
    "Each item in the output list is a unique ordering of characters in the input string.\n",
    "\n",
    "def unique_permutations(string):\n",
    "    # Base case: if the string is empty, return an empty set\n",
    "    if len(string) == 0:\n",
    "        return set([\"\"])\n",
    "\n",
    "    # Take the first character and get permutations of the rest\n",
    "    first_char = string[0]\n",
    "    rest_permutations = unique_permutations(string[1:])\n",
    "\n",
    "    # Generate new permutations by inserting the first character\n",
    "    # into each possible position in each of the rest permutations\n",
    "    unique_perms = set()\n",
    "    for perm in rest_permutations:\n",
    "        for i in range(len(perm) + 1):\n",
    "            new_perm = perm[:i] + first_char + perm[i:]\n",
    "            unique_perms.add(new_perm)\n",
    "\n",
    "    return unique_perms\n",
    "\n",
    "# Example usage\n",
    "string = \"AAB\"\n",
    "result = unique_permutations(string)\n",
    "print(result)\n",
    "'''"
   ]
  },
  {
   "cell_type": "code",
   "execution_count": 38,
   "metadata": {},
   "outputs": [
    {
     "name": "stdout",
     "output_type": "stream",
     "text": [
      "True\n"
     ]
    }
   ],
   "source": [
    "#q11\n",
    "def Rpallin(s,i):\n",
    "    if(i==len(s)):\n",
    "     return True\n",
    "    else:\n",
    "       c=0\n",
    "       for k in range(0,len(s)):\n",
    "        #print(s[k],\" \",s[i])\n",
    "        if(s[k]==s[i]):\n",
    "         c=c+1\n",
    "       #print(c)\n",
    "    return c==2 and Rpallin(s,i+1)\n",
    "\n",
    "str=input(\"enter a string\")\n",
    "if(len(str)%2==0):\n",
    " print(Rpallin(str,0))\n",
    "else:\n",
    "  print(\"False\")\n",
    "\n",
    "#i/p:-ishish\n",
    "          \n",
    "\n",
    "\n"
   ]
  },
  {
   "cell_type": "code",
   "execution_count": 15,
   "metadata": {},
   "outputs": [
    {
     "name": "stdout",
     "output_type": "stream",
     "text": [
      "not armstrong: 123\n"
     ]
    }
   ],
   "source": [
    "#q13\n",
    "def count(n):\n",
    "    if n==0:\n",
    "     return 0\n",
    "    return 1+count(n//10)\n",
    "\n",
    "def armstrong(n,c):\n",
    "  if(n==0):\n",
    "   return 0\n",
    "  else:\n",
    "   return (n%10)**c+armstrong(n//10,c)\n",
    "\n",
    "n=int(input(\"enter a number\"))\n",
    "if(n==armstrong(n,count(n))):\n",
    "  print(\"yes armstrong:\",n)\n",
    "else:\n",
    "  print(\"not armstrong:\",n)\n",
    "  "
   ]
  },
  {
   "cell_type": "code",
   "execution_count": null,
   "metadata": {},
   "outputs": [
    {
     "name": "stdout",
     "output_type": "stream",
     "text": [
      "2\n"
     ]
    }
   ],
   "source": [
    "#q15\n",
    "def Fibo(a,b,pos):\n",
    "    if pos==0:\n",
    "        return b\n",
    "    else:\n",
    "       return Fibo(b,a+b,pos-1)\n",
    "\n",
    "pos=int(input(\"enter the position\"))\n",
    "print(Fibo(0,1,pos-2))\n",
    "#i/p:4   "
   ]
  },
  {
   "cell_type": "code",
   "execution_count": null,
   "metadata": {},
   "outputs": [
    {
     "name": "stdout",
     "output_type": "stream",
     "text": [
      "gd\n"
     ]
    }
   ],
   "source": [
    "#q17\n",
    "def rem_vowels(s,slength):#slength=length-1\n",
    "  if(slength==-1):\n",
    "   return \"\"\n",
    "  else:\n",
    "    if s[slength] not in 'aeiou':\n",
    "      return rem_vowels(s[0:slength],slength-1)+(s[slength])\n",
    "    else:\n",
    "      return rem_vowels(s[0:slength],slength-1)\n",
    "    \n",
    "str=input(\"enter a string\")\n",
    "print(rem_vowels(str.lower(),len(str)-1))\n",
    "#i/p:-god      "
   ]
  },
  {
   "cell_type": "code",
   "execution_count": 33,
   "metadata": {},
   "outputs": [
    {
     "name": "stdout",
     "output_type": "stream",
     "text": [
      "i am lord voldemor\n",
      "i am lrd voldemor\n",
      "i a lrd voldemor\n",
      "ia lrd voldemor\n",
      "ia lrd voldeor\n",
      "i lrd voldeor\n",
      "i ld voldeor\n",
      "i ld oldeor\n",
      "i ld ldeor\n",
      "i d ldeor\n",
      "i d lder\n",
      "id lder\n",
      "id lde\n",
      "d lde\n",
      " lde\n",
      " le\n",
      " e\n",
      "anagram: True\n"
     ]
    }
   ],
   "source": [
    "#q18\n",
    "def anagram(s1,s2,i):#if s2 is anagram\n",
    "    if s1[i] not in s2:\n",
    "        return False\n",
    "    if(i==len(s1)-1 or s2==\"\"):\n",
    "        return True\n",
    "    else:\n",
    "        p=s2.find(s1[i])#position/index of s1[i] in s2\n",
    "        if(p<len(s2)-1):\n",
    "         s2=s2[0:p]+s2[p+1:]\n",
    "        elif(p==len(s2)-1):\n",
    "           s2=s2[0:p]\n",
    "        else:\n",
    "           s2=s2[1:]\n",
    "        print(s2)\n",
    "        return anagram(s1,s2,i+1)\n",
    "    \n",
    "\n",
    "ss1=input(\"enter ss1\")\n",
    "ss2=input(\"enter ss2\")\n",
    "print(\"anagram:\",anagram(ss1,ss2,0))\n",
    "\n",
    "\n"
   ]
  },
  {
   "cell_type": "code",
   "execution_count": 37,
   "metadata": {},
   "outputs": [
    {
     "name": "stdout",
     "output_type": "stream",
     "text": [
      "hcf of 3 , 6 : 3\n"
     ]
    }
   ],
   "source": [
    "#q19\n",
    "a=int(input(\"enter 1st numbers\"))\n",
    "b=int(input(\"enter 2nd number\"))\n",
    "i=1\n",
    "while(i<=min(a,b)):\n",
    "    if(a%i==0) and b%i==0:\n",
    "        hcf=i\n",
    "    i=i+1\n",
    "\n",
    "print(\"hcf of\",a,\",\",b,\":\",hcf)"
   ]
  },
  {
   "cell_type": "code",
   "execution_count": null,
   "metadata": {},
   "outputs": [
    {
     "name": "stdout",
     "output_type": "stream",
     "text": [
      "1,2,3,5,7,11,13,17,19,23,29,31,37,41,43,47,53,59,61,67,71,73,79,83,89,97,"
     ]
    }
   ],
   "source": [
    "#q20\n",
    "def prime(a):\n",
    "    for i in range(2,a):\n",
    "        if(a%i==0):\n",
    "            return False\n",
    "    return True\n",
    "\n",
    "def printPrime(a,b):\n",
    "    for i in range(a,b):\n",
    "        if prime(i)==True:\n",
    "            print(i,end=\",\")\n",
    "\n",
    "a=int(input(\"enter start limit\"))\n",
    "b=int(input(\"enter end limit\"))\n",
    "printPrime(a,b)\n",
    "#i/p:-a=1;b=100"
   ]
  },
  {
   "cell_type": "code",
   "execution_count": 3,
   "metadata": {},
   "outputs": [
    {
     "name": "stdout",
     "output_type": "stream",
     "text": [
      "fact: 120\n"
     ]
    }
   ],
   "source": [
    "#q21\n",
    "def fact(a):\n",
    "    if a==0:\n",
    "        return 1\n",
    "    else:\n",
    "        return a*fact(a-1)\n",
    "    \n",
    "a=int(input(\"enter a number\"))\n",
    "print(\"fact:\",fact(a))"
   ]
  },
  {
   "cell_type": "code",
   "execution_count": 4,
   "metadata": {},
   "outputs": [
    {
     "name": "stdout",
     "output_type": "stream",
     "text": [
      "First 10 terms of the AP: [2, 5, 8, 11, 14, 17, 20, 23, 26, 29]\n"
     ]
    }
   ],
   "source": [
    "def print_ap_terms(first_term, common_difference):\n",
    "    terms = [first_term + i * common_difference for i in range(10)]\n",
    "    print(\"First 10 terms of the AP:\", terms)\n",
    "\n",
    "\n",
    "print_ap_terms(2, 3)  \n",
    "# i/p;-Starting with 2, common difference of 3"
   ]
  },
  {
   "cell_type": "code",
   "execution_count": 16,
   "metadata": {},
   "outputs": [
    {
     "name": "stdout",
     "output_type": "stream",
     "text": [
      "[0, 3, 5]\n"
     ]
    }
   ],
   "source": [
    "#q23\n",
    "def vowels(s):\n",
    "    vow=[i for i in range(len(s)) if (s[i]=='a' or s[i]=='e' or s[i]=='i' or s[i]=='o' or s[i]=='u')]\n",
    "    return vow\n",
    "\n",
    "s=input(\"enter a string\")\n",
    "#for k in vowels(s):\n",
    " #   print(k,end=\" \")\n",
    "print(vowels(s.lower()))\n",
    "#i/p:-ishika"
   ]
  },
  {
   "cell_type": "code",
   "execution_count": null,
   "metadata": {},
   "outputs": [
    {
     "name": "stdout",
     "output_type": "stream",
     "text": [
      "cat\n"
     ]
    }
   ],
   "source": [
    "#q24\n",
    "def removepunc(s):\n",
    "    ans=\"\"\n",
    "    for k in s:\n",
    "        if(ord(k)>=97 and ord(k)<=122 ):\n",
    "            ans=ans+k\n",
    "    return ans\n",
    "\n",
    "s=input(\"enter a string\")\n",
    "print(removepunc(s))\n",
    "\n",
    "#i/p:-c;a*t"
   ]
  },
  {
   "cell_type": "code",
   "execution_count": 25,
   "metadata": {},
   "outputs": [
    {
     "name": "stdout",
     "output_type": "stream",
     "text": [
      "coprime: 15 , 8\n"
     ]
    }
   ],
   "source": [
    "#q25\n",
    "#co-prime:hcf is 1 or check if both nos are prime\n",
    "def co_prime(i,a,b,hcf):\n",
    "    if(i==min(a,b)+1):\n",
    "     return hcf\n",
    "    else:\n",
    "     if(a%i==0)and(b%i==0):\n",
    "       hcf=i\n",
    "     return co_prime(i+1,a,b,hcf) \n",
    "    \n",
    "a=int(input(\"enter a number\"))\n",
    "b=int(input(\"enter a number\"))\n",
    "if(co_prime(1,a,b,0)==1):\n",
    " print(\"coprime:\",a,\",\",b)\n",
    "else:\n",
    "  print(\"not co prime:\",a,\",\",b)\n",
    "\n",
    "#i/p:-15,8"
   ]
  },
  {
   "cell_type": "code",
   "execution_count": 32,
   "metadata": {},
   "outputs": [
    {
     "name": "stdout",
     "output_type": "stream",
     "text": [
      "*sh*k*\n"
     ]
    }
   ],
   "source": [
    "#q26\n",
    "def repvol(s,k):\n",
    "    if(k==-1):\n",
    "        return \"\"\n",
    "    else:\n",
    "        if (s[k]=='a' or s[k]=='e' or s[k]=='i' or s[k]=='o' or s[k]=='u'):\n",
    "            return repvol(s,k-1)+'*'\n",
    "        else:\n",
    "            return repvol(s,k-1)+s[k]\n",
    "        \n",
    "s=input(\"enter a string\")\n",
    "print(repvol(s.lower(),len(s)-1))\n",
    "\n",
    "#i/p:-ishika or ISHIKA"
   ]
  },
  {
   "cell_type": "code",
   "execution_count": null,
   "metadata": {},
   "outputs": [
    {
     "name": "stdout",
     "output_type": "stream",
     "text": [
      " one two three\n"
     ]
    }
   ],
   "source": [
    "#q27\n",
    "def towords(k):\n",
    "  match k:\n",
    "    case 0:\n",
    "      return \"zero\"\n",
    "    case 1:\n",
    "      return \"one\"\n",
    "    case 2:\n",
    "      return \"two\"\n",
    "    case 3:\n",
    "      return \"three\"\n",
    "    case 4:\n",
    "      return \"four\"\n",
    "    case 5:\n",
    "      return \"five\"\n",
    "    case 6:\n",
    "      return 'six'\n",
    "    case 7:\n",
    "      return 'seven'\n",
    "    case 8:\n",
    "      return 'eight'\n",
    "    case 9:\n",
    "      return 'nine'\n",
    "\n",
    "def answer(n):\n",
    "  if(n==0):\n",
    "    return \"\"\n",
    "  else:\n",
    "    return answer(n//10)+\" \"+towords(n%10)\n",
    "  \n",
    "n=int(input(\"enter a number\"))\n",
    "print(answer(n))\n",
    "  \n",
    "#i/p:-123"
   ]
  },
  {
   "cell_type": "code",
   "execution_count": 35,
   "metadata": {},
   "outputs": [
    {
     "name": "stdout",
     "output_type": "stream",
     "text": [
      "pythonaabc -> qzuipobbcd\n"
     ]
    }
   ],
   "source": [
    "#q28\n",
    "def one_ahead(s):\n",
    "    k=\"\"\n",
    "    for i in s:\n",
    "        if(i=='z'):\n",
    "            k=k+'a'\n",
    "        else:\n",
    "            k=k+chr(ord(i)+1)\n",
    "    return k\n",
    "\n",
    "s=input(\"enter a string\")\n",
    "print(s,\"->\",one_ahead(s))\n"
   ]
  },
  {
   "cell_type": "code",
   "execution_count": null,
   "metadata": {},
   "outputs": [
    {
     "name": "stdout",
     "output_type": "stream",
     "text": [
      "yes perfect: 6\n"
     ]
    }
   ],
   "source": [
    "#q29\n",
    "def perfect(n,i):\n",
    "    if(i==n):\n",
    "     return 0\n",
    "    else:\n",
    "     if(n%i==0):\n",
    "      return i+perfect(n,i+1)\n",
    "     else:\n",
    "       return perfect(n,i+1) \n",
    " \n",
    "n=int(input(\"enter a number\"))\n",
    "if(perfect(n,1) == n):\n",
    "  print(\"yes perfect:\",n)\n",
    "else:\n",
    "  print(\"not perfect:\",n)"
   ]
  },
  {
   "cell_type": "code",
   "execution_count": 43,
   "metadata": {},
   "outputs": [
    {
     "name": "stdout",
     "output_type": "stream",
     "text": [
      "product of  5 : 120\n"
     ]
    }
   ],
   "source": [
    "#q30\n",
    "def product(a):\n",
    "    if(a==0):\n",
    "        return 1\n",
    "    else:\n",
    "        return a*product(a-1)\n",
    "\n",
    "n=int(input(\"enter a number\"))\n",
    "print(\"product of \",n,\":\",product(n))"
   ]
  }
 ],
 "metadata": {
  "kernelspec": {
   "display_name": ".venv",
   "language": "python",
   "name": "python3"
  },
  "language_info": {
   "codemirror_mode": {
    "name": "ipython",
    "version": 3
   },
   "file_extension": ".py",
   "mimetype": "text/x-python",
   "name": "python",
   "nbconvert_exporter": "python",
   "pygments_lexer": "ipython3",
   "version": "3.12.6"
  }
 },
 "nbformat": 4,
 "nbformat_minor": 2
}
