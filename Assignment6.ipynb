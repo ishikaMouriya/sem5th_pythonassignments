{
 "cells": [
  {
   "cell_type": "code",
   "execution_count": 6,
   "metadata": {},
   "outputs": [
    {
     "name": "stdout",
     "output_type": "stream",
     "text": [
      "[[0. 0. 0.]\n",
      " [0. 0. 0.]]\n",
      "<function shape at 0x000002942C0AE8E0>\n",
      "(2, 3)\n"
     ]
    }
   ],
   "source": [
    "import  numpy as np\n",
    "n=np.zeros((2,3))\n",
    "print(n)\n",
    "k=np.shape\n",
    "print(k)\n",
    "print(n.shape\n",
    ")\n"
   ]
  },
  {
   "cell_type": "code",
   "execution_count": 12,
   "metadata": {},
   "outputs": [
    {
     "name": "stdout",
     "output_type": "stream",
     "text": [
      "[[1. 1. 1.]\n",
      " [1. 1. 1.]]\n",
      "[[0. 0. 0.]\n",
      " [0. 0. 0.]\n",
      " [0. 0. 0.]]\n",
      "[[7 7 7 7 7]\n",
      " [7 7 7 7 7]]\n"
     ]
    }
   ],
   "source": [
    "#q1\n",
    "n=np.ones((2,3))\n",
    "print(n)\n",
    "print(np.zeros((3,3)))\n",
    "print(np.full((2,5),7))"
   ]
  },
  {
   "cell_type": "code",
   "execution_count": 14,
   "metadata": {},
   "outputs": [
    {
     "name": "stdout",
     "output_type": "stream",
     "text": [
      "[[0 1]\n",
      " [2 3]]\n",
      "[[0 3]\n",
      " [6 9]]\n",
      "[[ 7  8]\n",
      " [ 9 10]]\n",
      "[[0 2]\n",
      " [4 6]]\n"
     ]
    }
   ],
   "source": [
    "#q2\n",
    "k=np.reshape(np.arange(0,4),(2,2))\n",
    "print(k)\n",
    "print(k*3)\n",
    "print(k+7)\n",
    "print(k*2)"
   ]
  },
  {
   "cell_type": "code",
   "execution_count": 53,
   "metadata": {},
   "outputs": [
    {
     "name": "stdout",
     "output_type": "stream",
     "text": [
      "[[ 2  4  6]\n",
      " [ 8 10 12]\n",
      " [14 16 18]]\n",
      "[[9 8 7]\n",
      " [6 5 4]\n",
      " [3 2 1]]\n"
     ]
    }
   ],
   "source": [
    "n=np.reshape(np.arange(2,19,2),(3,3))\n",
    "print(n)\n",
    "k=np.reshape(np.arange(9,0,-1),(3,3))\n",
    "print(k)"
   ]
  },
  {
   "cell_type": "code",
   "execution_count": 58,
   "metadata": {},
   "outputs": [
    {
     "name": "stdout",
     "output_type": "stream",
     "text": [
      "[[ 1  2  3  4]\n",
      " [ 5  6  7  8]\n",
      " [ 9 10 11 12]\n",
      " [13 14 15 16]\n",
      " [17 18 19 20]\n",
      " [21 22 23 24]]\n",
      "[[1 2 3 4]\n",
      " [5 6 7 8]]\n",
      "(6, 4)\n",
      "[[17 18 19 20]\n",
      " [21 22 23 24]\n",
      " [ 9 10 11 12]\n",
      " [13 14 15 16]\n",
      " [ 1  2  3  4]\n",
      " [ 5  6  7  8]]\n"
     ]
    }
   ],
   "source": [
    "#q4\n",
    "n=np.reshape(np.arange(1,25,1),(6,-1))\n",
    "print(n)\n",
    "rf=n[0:2].copy() # n[0:2,:].copy();creating deepcopy of both else change swill be reflected\n",
    "rl=n[4:6].copy()\n",
    "print(rf)\n",
    "print(n.shape)\n",
    "n[0:2]=n[4:6]\n",
    "n[4:6]=rf\n",
    "print(n)\n",
    "\n",
    "\n"
   ]
  },
  {
   "cell_type": "code",
   "execution_count": 61,
   "metadata": {},
   "outputs": [
    {
     "name": "stdout",
     "output_type": "stream",
     "text": [
      "[[ 2  3  5  7 11]\n",
      " [13 17 19 23 29]]\n"
     ]
    }
   ],
   "source": [
    "#q5\n",
    "n1=np.array([2,3,5,7,11])\n",
    "n2=np.array([13,17,19,23,29])\n",
    "k=np.vstack((n1,n2))\n",
    "print(k)"
   ]
  },
  {
   "cell_type": "code",
   "execution_count": 71,
   "metadata": {},
   "outputs": [
    {
     "name": "stdout",
     "output_type": "stream",
     "text": [
      "[[ 1  2  4]\n",
      " [ 8 16 32]]\n",
      "\n",
      "k: [ 1  2  4  8 16 32]\n",
      "\n",
      "n: [[ 1  2  4]\n",
      " [ 8 16 32]]\n",
      "\n",
      "ravel: [ 1  2  4  8 16 32]\n",
      "\n",
      "n: [[ 1  2  4]\n",
      " [ 8 16 32]]\n"
     ]
    }
   ],
   "source": [
    "#q6\n",
    "n=np.reshape(np.array([2**i for i in range(0,6)]),(2,3)) #iterable object list via list comprehension\n",
    "print(n)\n",
    "k1=n.flatten()#deepcopy\n",
    "print('\\nk:',k1)\n",
    "print('\\nn:',n)\n",
    "print('\\nravel:',n.ravel())#shallowcopy\n",
    "print('\\nn:',n)"
   ]
  },
  {
   "cell_type": "code",
   "execution_count": 80,
   "metadata": {},
   "outputs": [
    {
     "name": "stdout",
     "output_type": "stream",
     "text": [
      "[0 1 2 3 4 5 6 7 8 9]\n",
      "[5 5 3 2 1 7 4 6 2 5]\n",
      "Most Frequent Values: [5]\n",
      "Frequency: 7\n"
     ]
    }
   ],
   "source": [
    "import numpy as np\n",
    "\n",
    "# The original array\n",
    "arr = np.array([6, 9, 5, 1, 7, 5, 1, 0, 1, 5, 5, 0, 8, 9, 0, 7, 0, 7, 6, 5, 1, 1, 9, 5, 3, 8, 7, 9, 6, 3, 4, 5, 9, 7, 2, 7, 0, 2, 2, 6])\n",
    "\n",
    "# Find unique elements and their counts\n",
    "unique, counts = np.unique(arr, return_counts=True)\n",
    "print(unique)\n",
    "print(counts)\n",
    "# Get the maximum count\n",
    "max_count = np.max(counts)\n",
    "\n",
    "# Find the elements with the maximum count\n",
    "most_frequent = unique[counts == max_count]\n",
    "\n",
    "print(\"Most Frequent Values:\", most_frequent)\n",
    "print(\"Frequency:\", max_count)"
   ]
  },
  {
   "cell_type": "code",
   "execution_count": 85,
   "metadata": {},
   "outputs": [
    {
     "name": "stdout",
     "output_type": "stream",
     "text": [
      "[1.1 2.2 3.3 4.4 5.5 6.6] \n",
      "\n",
      "[[1 2 3]\n",
      " [4 5 6]]\n"
     ]
    }
   ],
   "source": [
    "#q8\n",
    "#n=np.array([1.1,2.2,3.3,4.4,5.5,6.6])\n",
    "n=np.linspace(1.1, 6.6, num=6, endpoint=True, retstep=False, dtype=float)\n",
    "print(n,'\\n')\n",
    "n=n.reshape((2,3))\n",
    "k=n.astype(int)\n",
    "print(k)"
   ]
  },
  {
   "cell_type": "code",
   "execution_count": null,
   "metadata": {},
   "outputs": [],
   "source": [
    "'''In NumPy, linspace is a function that generates an array of evenly spaced numbers over a specified interval. It is particularly useful when you want a specific number of points between a start and stop value.\n",
    "\n",
    "Syntax\n",
    "python\n",
    "Copy code\n",
    "numpy.linspace(start, stop, num=50, endpoint=True, retstep=False, dtype=None)\n",
    "Parameters\n",
    "start: The starting value of the sequence.\n",
    "stop: The ending value of the sequence.\n",
    "num: (Optional) Number of evenly spaced samples to generate. Default is 50.\n",
    "endpoint: (Optional) If True (default), the stop value is included in the array. If False, it is excluded.\n",
    "retstep: (Optional) If True, returns the step size in addition to the array.\n",
    "dtype: (Optional) Specifies the data type of the resulting array.\n",
    "Examples\n",
    "1. Basic Usage\n",
    "python\n",
    "Copy code\n",
    "import numpy as np\n",
    "\n",
    "# Generate 5 evenly spaced numbers between 0 and 10\n",
    "arr = np.linspace(0, 10, 5)\n",
    "print(arr)\n",
    "Output:\n",
    "\n",
    "css\n",
    "Copy code\n",
    "[ 0.   2.5  5.   7.5 10. ]\n",
    "2. Excluding the Endpoint\n",
    "python\n",
    "Copy code\n",
    "arr = np.linspace(0, 10, 5, endpoint=False)\n",
    "print(arr)\n",
    "Output:\n",
    "\n",
    "csharp\n",
    "Copy code\n",
    "[0.  2.  4.  6.  8.]\n",
    "3. Returning the Step Size\n",
    "python\n",
    "Copy code\n",
    "arr, step = np.linspace(0, 10, 5, retstep=True)\n",
    "print(\"Array:\", arr)\n",
    "print(\"Step size:\", step)\n",
    "Output:\n",
    "\n",
    "vbnet\n",
    "Copy code\n",
    "Array: [ 0.   2.5  5.   7.5 10. ]\n",
    "Step size: 2.5\n",
    "Key Points\n",
    "Use Case: When you need a specific number of points between two values, rather than a specific step size (as with np.arange).\n",
    "Endpoint Control: You can include or exclude the stop value using endpoint.\n",
    "Return Step Size: You can get the spacing between points by enabling retstep.\n",
    "Comparison with arange\n",
    "arange: Generates values with a fixed step size.\n",
    "linspace: Generates a fixed number of values between two bounds.\n",
    "Example:\n",
    "python\n",
    "Copy code\n",
    "np.arange(0, 10, 2)  # Step size is 2\n",
    "# Output: [0 2 4 6 8]\n",
    "\n",
    "np.linspace(0, 10, 5)  # 5 evenly spaced numbers\n",
    "# Output: [ 0.   2.5  5.   7.5 10. ]\n",
    "If you have a specific use case in mind, feel free to ask!\n",
    "'''"
   ]
  },
  {
   "cell_type": "code",
   "execution_count": 86,
   "metadata": {},
   "outputs": [
    {
     "name": "stdout",
     "output_type": "stream",
     "text": [
      "   1   23  456\n",
      "7890   12   34\n",
      " 567  890 1234\n"
     ]
    }
   ],
   "source": [
    "#q9\n",
    "import numpy as np\n",
    "\n",
    "def format_2d_array(arr):\n",
    "    # Convert input to NumPy array (if it's not already)\n",
    "    arr = np.array(arr)\n",
    "    \n",
    "    # Find the maximum element in the array\n",
    "    max_element = arr.max()\n",
    "    \n",
    "    # Determine the width of the largest element\n",
    "    width = len(str(max_element))\n",
    "    \n",
    "    # Format the array\n",
    "    formatted_rows = []\n",
    "    for row in arr:\n",
    "        # Format each element in the row to be right-aligned\n",
    "        formatted_row = \" \".join(f\"{elem:>{width}}\" for elem in row)\n",
    "        formatted_rows.append(formatted_row)\n",
    "    \n",
    "    # Join all rows with newline characters\n",
    "    return \"\\n\".join(formatted_rows)\n",
    "\n",
    "# Example usage\n",
    "array = np.array([\n",
    "    [1, 23, 456],\n",
    "    [7890, 12, 34],\n",
    "    [567, 890, 1234]\n",
    "])\n",
    "\n",
    "formatted_string = format_2d_array(array)\n",
    "print(formatted_string)\n"
   ]
  },
  {
   "cell_type": "code",
   "execution_count": 97,
   "metadata": {},
   "outputs": [
    {
     "name": "stdout",
     "output_type": "stream",
     "text": [
      "[[ 1  2  3  4  5]\n",
      " [ 6  7  8  9 10]\n",
      " [11 12 13 14 15]] \n",
      "\n",
      "[11 12 13 14 15]\n",
      "[ 5 10 15]\n",
      "[[ 1  2  3  4  5]\n",
      " [ 6  7  8  9 10]]\n",
      "[[ 3  4]\n",
      " [ 8  9]\n",
      " [13 14]]\n",
      "10\n",
      "[1 6] \t [3 8] \t [ 5 10]\n",
      "[[ 1  3  5]\n",
      " [ 6  8 10]]\n"
     ]
    }
   ],
   "source": [
    "n=np.reshape(np.arange(1,16),(3,5))\n",
    "print(n,'\\n')\n",
    "print(n[2])\n",
    "print(n[:,4])\n",
    "print(n[0:2,:])\n",
    "print(n[:,2:4])\n",
    "print(n[1,4])\n",
    "print(n[0:2,0],'\\t',n[0:2,2],'\\t',n[0:2,4])\n",
    "#or\n",
    "print(n[0:2,0:5:2])\n",
    "\n",
    "\n"
   ]
  },
  {
   "cell_type": "code",
   "execution_count": 99,
   "metadata": {},
   "outputs": [
    {
     "name": "stdout",
     "output_type": "stream",
     "text": [
      "[[0 1]\n",
      " [2 3]\n",
      " [4 5]\n",
      " [6 7]]\n",
      "[[0 1 4 5]\n",
      " [2 3 6 7]]\n",
      "[[0 1 4 5]\n",
      " [2 3 6 7]\n",
      " [0 1 4 5]\n",
      " [2 3 6 7]]\n",
      "[[0 1 4 5 0 1 4 5]\n",
      " [2 3 6 7 2 3 6 7]\n",
      " [0 1 4 5 0 1 4 5]\n",
      " [2 3 6 7 2 3 6 7]]\n"
     ]
    }
   ],
   "source": [
    "#q11\n",
    "array1=np.array([[0,1],[2,3]])\n",
    "array2=np.array([[4,5],[6,7]])\n",
    "array3=np.vstack((array1,array2))\n",
    "print(array3)\n",
    "array4=np.hstack((array1,array2))\n",
    "print(array4)\n",
    "array5=np.vstack((array4,array4))\n",
    "print(array5)\n",
    "array6=np.hstack((array5,array5))\n",
    "print(array6)\n"
   ]
  },
  {
   "cell_type": "code",
   "execution_count": 102,
   "metadata": {},
   "outputs": [
    {
     "name": "stdout",
     "output_type": "stream",
     "text": [
      "[[0 1]\n",
      " [2 3]\n",
      " [4 5]\n",
      " [6 7]]\n",
      "[[0 1 4 5]\n",
      " [2 3 6 7]]\n",
      "[[0 1 4 5]\n",
      " [2 3 6 7]\n",
      " [0 1 4 5]\n",
      " [2 3 6 7]]\n",
      "[[0 1 4 5 0 1 4 5]\n",
      " [2 3 6 7 2 3 6 7]\n",
      " [0 1 4 5 0 1 4 5]\n",
      " [2 3 6 7 2 3 6 7]]\n"
     ]
    }
   ],
   "source": [
    "#q12\n",
    "array1=np.array([[0,1],[2,3]])\n",
    "array2=np.array([[4,5],[6,7]])\n",
    "array3=np.concatenate((array1,array2),axis=0)\n",
    "print(array3)\n",
    "array4=np.concatenate((array1,array2),axis=1)\n",
    "print(array4)\n",
    "array5=np.concatenate((array4,array4),axis=0)\n",
    "print(array5)\n",
    "array6=np.concatenate((array5,array5),axis=1)\n",
    "print(array6)\n"
   ]
  },
  {
   "cell_type": "code",
   "execution_count": 104,
   "metadata": {},
   "outputs": [
    {
     "name": "stdout",
     "output_type": "stream",
     "text": [
      "[['_' '*' '_' '*' '_' '*' '_' '*' '_' '*']\n",
      " ['_' '*' '_' '*' '_' '*' '_' '*' '_' '*']\n",
      " ['_' '*' '_' '*' '_' '*' '_' '*' '_' '*']\n",
      " ['_' '*' '_' '*' '_' '*' '_' '*' '_' '*']\n",
      " ['_' '*' '_' '*' '_' '*' '_' '*' '_' '*']]\n"
     ]
    }
   ],
   "source": [
    "#Q13\n",
    "#arr = np.array([[1, 2], [3, 4]])\n",
    "#eg:result = np.tile(arr, (2, 3))\n",
    "'''[[1 2 1 2 1 2]\n",
    " [3 4 3 4 3 4]\n",
    " [1 2 1 2 1 2]\n",
    " [3 4 3 4 3 4]]'''\n",
    "\n",
    "k=np.array(['_','*'])\n",
    "res=np.tile(k,(5,5))\n",
    "print(res)"
   ]
  },
  {
   "cell_type": "code",
   "execution_count": 107,
   "metadata": {},
   "outputs": [
    {
     "name": "stdout",
     "output_type": "stream",
     "text": [
      "Array:\n",
      " [[72 46 11 62 39]\n",
      " [39 13 43 26 38]\n",
      " [41 50 11 11 53]\n",
      " [ 6 13 67 94 11]\n",
      " [57 25 84 94 21]]\n",
      "Counts:\n",
      " [0 0 0 0 0 0 1 0 0 0 0 4 0 2 0 0 0 0 0 0 0 1 0 0 0 1 1 0 0 0 0 0 0 0 0 0 0\n",
      " 0 1 2 0 1 0 1 0 0 1 0 0 0 1 0 0 1 0 0 0 1 0 0 0 0 1 0 0 0 0 1 0 0 0 0 1 0\n",
      " 0 0 0 0 0 0 0 0 0 0 1 0 0 0 0 0 0 0 0 0 2]\n"
     ]
    }
   ],
   "source": [
    "#q14\n",
    "random_array = np.random.randint(0, 100, size=(5, 5))\n",
    "print(\"Array:\\n\", random_array)\n",
    "counts = np.bincount(random_array.flatten())\n",
    "print(\"Counts:\\n\",counts)"
   ]
  },
  {
   "cell_type": "code",
   "execution_count": 108,
   "metadata": {},
   "outputs": [
    {
     "name": "stdout",
     "output_type": "stream",
     "text": [
      "Median of arr1:\n",
      " 5.0\n",
      "Mode of arr1:\n",
      " 2\n",
      "Median of arr2:\n",
      " 4.0\n",
      "Mode of arr2:\n",
      " 4\n",
      "Median of arr3:\n",
      " 4.0\n",
      "Mode of arr3:\n",
      " 3\n"
     ]
    }
   ],
   "source": [
    "#q15\n",
    "def median(arr):\n",
    "    return np.median(arr)\n",
    "\n",
    "def mode(arr):\n",
    "    values, counts = np.unique(arr, return_counts=True)\n",
    "    m = counts.argmax()\n",
    "    return values[m]\n",
    "\n",
    "# Test the functions\n",
    "arr1 = np.random.randint(0, 10, size=(5, 5))\n",
    "arr2 = np.random.randint(0, 10, size=(3, 3))\n",
    "arr3 = np.random.randint(0, 10, size=(7, 7))\n",
    "\n",
    "print(\"Median of arr1:\\n\", median(arr1))\n",
    "print(\"Mode of arr1:\\n\", mode(arr1))\n",
    "\n",
    "print(\"Median of arr2:\\n\", median(arr2))\n",
    "print(\"Mode of arr2:\\n\", mode(arr2))\n",
    "\n",
    "print(\"Median of arr3:\\n\", median(arr3))\n",
    "print(\"Mode of arr3:\\n\", mode(arr3))\n"
   ]
  },
  {
   "cell_type": "code",
   "execution_count": 112,
   "metadata": {},
   "outputs": [
    {
     "name": "stdout",
     "output_type": "stream",
     "text": [
      "[[[0.01137081 0.30025362]\n",
      "  [0.81596795 0.84305535]\n",
      "  [0.82134249 0.94711267]\n",
      "  [0.95847274 0.18539995]\n",
      "  [0.2624522  0.39958762]]\n",
      "\n",
      " [[0.3022895  0.68026786]\n",
      "  [0.92153819 0.42308454]\n",
      "  [0.54658232 0.42602875]\n",
      "  [0.7235171  0.37427844]\n",
      "  [0.48955627 0.89898291]]\n",
      "\n",
      " [[0.69424276 0.55815965]\n",
      "  [0.31671026 0.48293443]\n",
      "  [0.75461215 0.2801082 ]\n",
      "  [0.90784017 0.15930246]\n",
      "  [0.79717169 0.35155414]]\n",
      "\n",
      " [[0.65421966 0.91568112]\n",
      "  [0.60906271 0.04577554]\n",
      "  [0.49942907 0.78134823]\n",
      "  [0.20196341 0.40471554]\n",
      "  [0.18811977 0.86630574]]\n",
      "\n",
      " [[0.14322111 0.11195452]\n",
      "  [0.53334457 0.06587777]\n",
      "  [0.83806816 0.61807662]\n",
      "  [0.62043974 0.01297679]\n",
      "  [0.47796691 0.21471653]]]\n"
     ]
    }
   ],
   "source": [
    "#q16\n",
    "array = np.random.rand(9, 9, 2)\n",
    "sub_array = array[:5, :5, :]\n",
    "print(sub_array)\n"
   ]
  },
  {
   "cell_type": "code",
   "execution_count": 110,
   "metadata": {},
   "outputs": [
    {
     "name": "stdout",
     "output_type": "stream",
     "text": [
      "[[0.14954512 0.48912987 0.14490572 0.40314667]\n",
      " [0.6333052  0.62139194 0.15413057 0.76065551]\n",
      " [0.79807352 0.92754436 0.25163666 0.87766962]\n",
      " [0.99252104 0.96686982 0.60266916 0.97770394]]\n"
     ]
    }
   ],
   "source": [
    "#qq17\n",
    "array = np.random.rand(4, 4)\n",
    "sorted_array = np.sort(array, axis=0)\n",
    "print(sorted_array)\n"
   ]
  },
  {
   "cell_type": "code",
   "execution_count": 113,
   "metadata": {},
   "outputs": [
    {
     "name": "stdout",
     "output_type": "stream",
     "text": [
      "0    1\n",
      "1    2\n",
      "2    3\n",
      "3    4\n",
      "Name: Column1, dtype: int64\n"
     ]
    }
   ],
   "source": [
    "#q18\n",
    "import pandas as pd\n",
    "\n",
    "data = {\n",
    "    'Column1': [1, 2, 3, 4],\n",
    "    'Column2': [5, 6, 7, 8]\n",
    "}\n",
    "df = pd.DataFrame(data)\n",
    "series = df['Column1']\n",
    "print(series)\n"
   ]
  },
  {
   "cell_type": "code",
   "execution_count": 114,
   "metadata": {},
   "outputs": [
    {
     "name": "stdout",
     "output_type": "stream",
     "text": [
      "0    1\n",
      "1    2\n",
      "4    2\n",
      "dtype: int64\n"
     ]
    }
   ],
   "source": [
    "#q19\n",
    "import pandas as pd\n",
    "\n",
    "# Convert lists to Series\n",
    "s1 = pd.Series([1, 2, 3, 4, 2])\n",
    "s2 = pd.Series([3, 4, 5, 6])\n",
    "\n",
    "# Find elements in s1 not in s2\n",
    "result = s1[~s1.isin(s2)]\n",
    "print(result)\n"
   ]
  },
  {
   "cell_type": "code",
   "execution_count": 117,
   "metadata": {},
   "outputs": [
    {
     "name": "stdout",
     "output_type": "stream",
     "text": [
      "Index of smallest value: 11\n",
      "Index of largest value: 4\n"
     ]
    }
   ],
   "source": [
    "#q20\n",
    "# Given series\n",
    "s = pd.Series([1, 1, 3, 7, 88, 12, 88, 23, 3, 1, 9, 0])\n",
    "\n",
    "# Find index of first occurrence of smallest and largest value\n",
    "min_index = s.idxmin()\n",
    "max_index = s.idxmax()\n",
    "print(f\"Index of smallest value: {min_index}\")\n",
    "print(f\"Index of largest value: {max_index}\")\n"
   ]
  },
  {
   "cell_type": "code",
   "execution_count": 116,
   "metadata": {},
   "outputs": [
    {
     "name": "stdout",
     "output_type": "stream",
     "text": [
      "Series with vowels: 1     Apple\n",
      "2    Orange\n",
      "4    Banana\n",
      "dtype: object\n",
      "Series starting with a vowel: 1     Apple\n",
      "2    Orange\n",
      "dtype: object\n"
     ]
    }
   ],
   "source": [
    "#q21\n",
    "# Given list\n",
    "L = ['Cry', 'Apple', 'Orange', 'Sky', 'Banana']\n",
    "\n",
    "# Convert list to Series\n",
    "s = pd.Series(L)\n",
    "\n",
    "# Elements with a vowel\n",
    "vowel_series = s[s.str.contains(r'[aeiouAEIOU]')]\n",
    "print(\"Series with vowels:\", vowel_series)\n",
    "\n",
    "# Elements starting with a vowel\n",
    "start_vowel_series = s[s.str.match(r'^[aeiouAEIOU]')]\n",
    "print(\"Series starting with a vowel:\", start_vowel_series)\n"
   ]
  },
  {
   "cell_type": "code",
   "execution_count": 118,
   "metadata": {},
   "outputs": [
    {
     "name": "stdout",
     "output_type": "stream",
     "text": [
      "0     7\n",
      "1    11\n",
      "2    13\n",
      "3    17\n",
      "dtype: int64\n",
      "0    100.0\n",
      "1    100.0\n",
      "2    100.0\n",
      "3    100.0\n",
      "4    100.0\n",
      "dtype: float64\n",
      "count    20.000000\n",
      "mean     41.150000\n",
      "std      25.452277\n",
      "min       9.000000\n",
      "25%      21.000000\n",
      "50%      30.500000\n",
      "75%      62.250000\n",
      "max      89.000000\n",
      "dtype: float64\n",
      "Julie       98.6\n",
      "Charlie     98.9\n",
      "Sam        100.2\n",
      "Andrea      97.9\n",
      "dtype: float64\n",
      "Julie       98.6\n",
      "Charlie     98.9\n",
      "Sam        100.2\n",
      "Andrea      97.9\n",
      "dtype: float64\n"
     ]
    }
   ],
   "source": [
    "#q22\n",
    "#a\n",
    "series_a = pd.Series([7, 11, 13, 17])\n",
    "print(series_a)\n",
    "#b\n",
    "series_b = pd.Series([100.0] * 5)\n",
    "print(series_b)\n",
    "#c\n",
    "import numpy as np\n",
    "\n",
    "series_c = pd.Series(np.random.randint(0, 100, size=20))\n",
    "print(series_c.describe())\n",
    "#d\n",
    "temperatures = pd.Series([98.6, 98.9, 100.2, 97.9], index=['Julie', 'Charlie', 'Sam', 'Andrea'])\n",
    "print(temperatures)\n",
    " #e\n",
    "temp_dict = {'Julie': 98.6, 'Charlie': 98.9, 'Sam': 100.2, 'Andrea': 97.9}\n",
    "series_d = pd.Series(temp_dict)\n",
    "print(series_d)\n",
    "\n"
   ]
  },
  {
   "cell_type": "code",
   "execution_count": null,
   "metadata": {},
   "outputs": [
    {
     "name": "stdout",
     "output_type": "stream",
     "text": [
      "   Maxine  James  Amanda\n",
      "0    96.5   99.1    97.8\n",
      "1    98.2   98.3    98.1\n",
      "2    97.8   98.7    98.5\n",
      "\n",
      "           Maxine  James  Amanda\n",
      "Morning      96.5   99.1    97.8\n",
      "Afternoon    98.2   98.3    98.1\n",
      "Evening      97.8   98.7    98.5\n",
      "\n",
      "Morning      96.5\n",
      "Afternoon    98.2\n",
      "Evening      97.8\n",
      "Name: Maxine, dtype: float64\n",
      "98.6\n",
      "Julie      98.6\n",
      "Charlie    98.9\n",
      "dtype: float64\n"
     ]
    },
    {
     "ename": "KeyError",
     "evalue": "\"None of [Index(['Amanda', 'Maxine'], dtype='object')] are in the [index]\"",
     "output_type": "error",
     "traceback": [
      "\u001b[1;31m---------------------------------------------------------------------------\u001b[0m",
      "\u001b[1;31mKeyError\u001b[0m                                  Traceback (most recent call last)",
      "Cell \u001b[1;32mIn[122], line 30\u001b[0m\n\u001b[0;32m     27\u001b[0m \u001b[38;5;28mprint\u001b[39m(morning_evening_temps)\n\u001b[0;32m     29\u001b[0m \u001b[38;5;66;03m#f\u001b[39;00m\n\u001b[1;32m---> 30\u001b[0m amanda_maxine_temps \u001b[38;5;241m=\u001b[39m \u001b[43mtemperatures\u001b[49m\u001b[43m[\u001b[49m\u001b[43m[\u001b[49m\u001b[38;5;124;43m'\u001b[39;49m\u001b[38;5;124;43mAmanda\u001b[39;49m\u001b[38;5;124;43m'\u001b[39;49m\u001b[43m,\u001b[49m\u001b[43m \u001b[49m\u001b[38;5;124;43m'\u001b[39;49m\u001b[38;5;124;43mMaxine\u001b[39;49m\u001b[38;5;124;43m'\u001b[39;49m\u001b[43m]\u001b[49m\u001b[43m]\u001b[49m\n\u001b[0;32m     31\u001b[0m \u001b[38;5;28mprint\u001b[39m(amanda_maxine_temps)\n\u001b[0;32m     33\u001b[0m \u001b[38;5;66;03m#g\u001b[39;00m\n",
      "File \u001b[1;32mc:\\Users\\mouri\\OneDrive\\Desktop\\python_assignments\\.venv\\Lib\\site-packages\\pandas\\core\\series.py:1153\u001b[0m, in \u001b[0;36mSeries.__getitem__\u001b[1;34m(self, key)\u001b[0m\n\u001b[0;32m   1150\u001b[0m     key \u001b[38;5;241m=\u001b[39m np\u001b[38;5;241m.\u001b[39masarray(key, dtype\u001b[38;5;241m=\u001b[39m\u001b[38;5;28mbool\u001b[39m)\n\u001b[0;32m   1151\u001b[0m     \u001b[38;5;28;01mreturn\u001b[39;00m \u001b[38;5;28mself\u001b[39m\u001b[38;5;241m.\u001b[39m_get_rows_with_mask(key)\n\u001b[1;32m-> 1153\u001b[0m \u001b[38;5;28;01mreturn\u001b[39;00m \u001b[38;5;28;43mself\u001b[39;49m\u001b[38;5;241;43m.\u001b[39;49m\u001b[43m_get_with\u001b[49m\u001b[43m(\u001b[49m\u001b[43mkey\u001b[49m\u001b[43m)\u001b[49m\n",
      "File \u001b[1;32mc:\\Users\\mouri\\OneDrive\\Desktop\\python_assignments\\.venv\\Lib\\site-packages\\pandas\\core\\series.py:1194\u001b[0m, in \u001b[0;36mSeries._get_with\u001b[1;34m(self, key)\u001b[0m\n\u001b[0;32m   1191\u001b[0m         \u001b[38;5;28;01mreturn\u001b[39;00m \u001b[38;5;28mself\u001b[39m\u001b[38;5;241m.\u001b[39miloc[key]\n\u001b[0;32m   1193\u001b[0m \u001b[38;5;66;03m# handle the dup indexing case GH#4246\u001b[39;00m\n\u001b[1;32m-> 1194\u001b[0m \u001b[38;5;28;01mreturn\u001b[39;00m \u001b[38;5;28;43mself\u001b[39;49m\u001b[38;5;241;43m.\u001b[39;49m\u001b[43mloc\u001b[49m\u001b[43m[\u001b[49m\u001b[43mkey\u001b[49m\u001b[43m]\u001b[49m\n",
      "File \u001b[1;32mc:\\Users\\mouri\\OneDrive\\Desktop\\python_assignments\\.venv\\Lib\\site-packages\\pandas\\core\\indexing.py:1191\u001b[0m, in \u001b[0;36m_LocationIndexer.__getitem__\u001b[1;34m(self, key)\u001b[0m\n\u001b[0;32m   1189\u001b[0m maybe_callable \u001b[38;5;241m=\u001b[39m com\u001b[38;5;241m.\u001b[39mapply_if_callable(key, \u001b[38;5;28mself\u001b[39m\u001b[38;5;241m.\u001b[39mobj)\n\u001b[0;32m   1190\u001b[0m maybe_callable \u001b[38;5;241m=\u001b[39m \u001b[38;5;28mself\u001b[39m\u001b[38;5;241m.\u001b[39m_check_deprecated_callable_usage(key, maybe_callable)\n\u001b[1;32m-> 1191\u001b[0m \u001b[38;5;28;01mreturn\u001b[39;00m \u001b[38;5;28;43mself\u001b[39;49m\u001b[38;5;241;43m.\u001b[39;49m\u001b[43m_getitem_axis\u001b[49m\u001b[43m(\u001b[49m\u001b[43mmaybe_callable\u001b[49m\u001b[43m,\u001b[49m\u001b[43m \u001b[49m\u001b[43maxis\u001b[49m\u001b[38;5;241;43m=\u001b[39;49m\u001b[43maxis\u001b[49m\u001b[43m)\u001b[49m\n",
      "File \u001b[1;32mc:\\Users\\mouri\\OneDrive\\Desktop\\python_assignments\\.venv\\Lib\\site-packages\\pandas\\core\\indexing.py:1420\u001b[0m, in \u001b[0;36m_LocIndexer._getitem_axis\u001b[1;34m(self, key, axis)\u001b[0m\n\u001b[0;32m   1417\u001b[0m     \u001b[38;5;28;01mif\u001b[39;00m \u001b[38;5;28mhasattr\u001b[39m(key, \u001b[38;5;124m\"\u001b[39m\u001b[38;5;124mndim\u001b[39m\u001b[38;5;124m\"\u001b[39m) \u001b[38;5;129;01mand\u001b[39;00m key\u001b[38;5;241m.\u001b[39mndim \u001b[38;5;241m>\u001b[39m \u001b[38;5;241m1\u001b[39m:\n\u001b[0;32m   1418\u001b[0m         \u001b[38;5;28;01mraise\u001b[39;00m \u001b[38;5;167;01mValueError\u001b[39;00m(\u001b[38;5;124m\"\u001b[39m\u001b[38;5;124mCannot index with multidimensional key\u001b[39m\u001b[38;5;124m\"\u001b[39m)\n\u001b[1;32m-> 1420\u001b[0m     \u001b[38;5;28;01mreturn\u001b[39;00m \u001b[38;5;28;43mself\u001b[39;49m\u001b[38;5;241;43m.\u001b[39;49m\u001b[43m_getitem_iterable\u001b[49m\u001b[43m(\u001b[49m\u001b[43mkey\u001b[49m\u001b[43m,\u001b[49m\u001b[43m \u001b[49m\u001b[43maxis\u001b[49m\u001b[38;5;241;43m=\u001b[39;49m\u001b[43maxis\u001b[49m\u001b[43m)\u001b[49m\n\u001b[0;32m   1422\u001b[0m \u001b[38;5;66;03m# nested tuple slicing\u001b[39;00m\n\u001b[0;32m   1423\u001b[0m \u001b[38;5;28;01mif\u001b[39;00m is_nested_tuple(key, labels):\n",
      "File \u001b[1;32mc:\\Users\\mouri\\OneDrive\\Desktop\\python_assignments\\.venv\\Lib\\site-packages\\pandas\\core\\indexing.py:1360\u001b[0m, in \u001b[0;36m_LocIndexer._getitem_iterable\u001b[1;34m(self, key, axis)\u001b[0m\n\u001b[0;32m   1357\u001b[0m \u001b[38;5;28mself\u001b[39m\u001b[38;5;241m.\u001b[39m_validate_key(key, axis)\n\u001b[0;32m   1359\u001b[0m \u001b[38;5;66;03m# A collection of keys\u001b[39;00m\n\u001b[1;32m-> 1360\u001b[0m keyarr, indexer \u001b[38;5;241m=\u001b[39m \u001b[38;5;28;43mself\u001b[39;49m\u001b[38;5;241;43m.\u001b[39;49m\u001b[43m_get_listlike_indexer\u001b[49m\u001b[43m(\u001b[49m\u001b[43mkey\u001b[49m\u001b[43m,\u001b[49m\u001b[43m \u001b[49m\u001b[43maxis\u001b[49m\u001b[43m)\u001b[49m\n\u001b[0;32m   1361\u001b[0m \u001b[38;5;28;01mreturn\u001b[39;00m \u001b[38;5;28mself\u001b[39m\u001b[38;5;241m.\u001b[39mobj\u001b[38;5;241m.\u001b[39m_reindex_with_indexers(\n\u001b[0;32m   1362\u001b[0m     {axis: [keyarr, indexer]}, copy\u001b[38;5;241m=\u001b[39m\u001b[38;5;28;01mTrue\u001b[39;00m, allow_dups\u001b[38;5;241m=\u001b[39m\u001b[38;5;28;01mTrue\u001b[39;00m\n\u001b[0;32m   1363\u001b[0m )\n",
      "File \u001b[1;32mc:\\Users\\mouri\\OneDrive\\Desktop\\python_assignments\\.venv\\Lib\\site-packages\\pandas\\core\\indexing.py:1558\u001b[0m, in \u001b[0;36m_LocIndexer._get_listlike_indexer\u001b[1;34m(self, key, axis)\u001b[0m\n\u001b[0;32m   1555\u001b[0m ax \u001b[38;5;241m=\u001b[39m \u001b[38;5;28mself\u001b[39m\u001b[38;5;241m.\u001b[39mobj\u001b[38;5;241m.\u001b[39m_get_axis(axis)\n\u001b[0;32m   1556\u001b[0m axis_name \u001b[38;5;241m=\u001b[39m \u001b[38;5;28mself\u001b[39m\u001b[38;5;241m.\u001b[39mobj\u001b[38;5;241m.\u001b[39m_get_axis_name(axis)\n\u001b[1;32m-> 1558\u001b[0m keyarr, indexer \u001b[38;5;241m=\u001b[39m \u001b[43max\u001b[49m\u001b[38;5;241;43m.\u001b[39;49m\u001b[43m_get_indexer_strict\u001b[49m\u001b[43m(\u001b[49m\u001b[43mkey\u001b[49m\u001b[43m,\u001b[49m\u001b[43m \u001b[49m\u001b[43maxis_name\u001b[49m\u001b[43m)\u001b[49m\n\u001b[0;32m   1560\u001b[0m \u001b[38;5;28;01mreturn\u001b[39;00m keyarr, indexer\n",
      "File \u001b[1;32mc:\\Users\\mouri\\OneDrive\\Desktop\\python_assignments\\.venv\\Lib\\site-packages\\pandas\\core\\indexes\\base.py:6200\u001b[0m, in \u001b[0;36mIndex._get_indexer_strict\u001b[1;34m(self, key, axis_name)\u001b[0m\n\u001b[0;32m   6197\u001b[0m \u001b[38;5;28;01melse\u001b[39;00m:\n\u001b[0;32m   6198\u001b[0m     keyarr, indexer, new_indexer \u001b[38;5;241m=\u001b[39m \u001b[38;5;28mself\u001b[39m\u001b[38;5;241m.\u001b[39m_reindex_non_unique(keyarr)\n\u001b[1;32m-> 6200\u001b[0m \u001b[38;5;28;43mself\u001b[39;49m\u001b[38;5;241;43m.\u001b[39;49m\u001b[43m_raise_if_missing\u001b[49m\u001b[43m(\u001b[49m\u001b[43mkeyarr\u001b[49m\u001b[43m,\u001b[49m\u001b[43m \u001b[49m\u001b[43mindexer\u001b[49m\u001b[43m,\u001b[49m\u001b[43m \u001b[49m\u001b[43maxis_name\u001b[49m\u001b[43m)\u001b[49m\n\u001b[0;32m   6202\u001b[0m keyarr \u001b[38;5;241m=\u001b[39m \u001b[38;5;28mself\u001b[39m\u001b[38;5;241m.\u001b[39mtake(indexer)\n\u001b[0;32m   6203\u001b[0m \u001b[38;5;28;01mif\u001b[39;00m \u001b[38;5;28misinstance\u001b[39m(key, Index):\n\u001b[0;32m   6204\u001b[0m     \u001b[38;5;66;03m# GH 42790 - Preserve name from an Index\u001b[39;00m\n",
      "File \u001b[1;32mc:\\Users\\mouri\\OneDrive\\Desktop\\python_assignments\\.venv\\Lib\\site-packages\\pandas\\core\\indexes\\base.py:6249\u001b[0m, in \u001b[0;36mIndex._raise_if_missing\u001b[1;34m(self, key, indexer, axis_name)\u001b[0m\n\u001b[0;32m   6247\u001b[0m \u001b[38;5;28;01mif\u001b[39;00m nmissing:\n\u001b[0;32m   6248\u001b[0m     \u001b[38;5;28;01mif\u001b[39;00m nmissing \u001b[38;5;241m==\u001b[39m \u001b[38;5;28mlen\u001b[39m(indexer):\n\u001b[1;32m-> 6249\u001b[0m         \u001b[38;5;28;01mraise\u001b[39;00m \u001b[38;5;167;01mKeyError\u001b[39;00m(\u001b[38;5;124mf\u001b[39m\u001b[38;5;124m\"\u001b[39m\u001b[38;5;124mNone of [\u001b[39m\u001b[38;5;132;01m{\u001b[39;00mkey\u001b[38;5;132;01m}\u001b[39;00m\u001b[38;5;124m] are in the [\u001b[39m\u001b[38;5;132;01m{\u001b[39;00maxis_name\u001b[38;5;132;01m}\u001b[39;00m\u001b[38;5;124m]\u001b[39m\u001b[38;5;124m\"\u001b[39m)\n\u001b[0;32m   6251\u001b[0m     not_found \u001b[38;5;241m=\u001b[39m \u001b[38;5;28mlist\u001b[39m(ensure_index(key)[missing_mask\u001b[38;5;241m.\u001b[39mnonzero()[\u001b[38;5;241m0\u001b[39m]]\u001b[38;5;241m.\u001b[39munique())\n\u001b[0;32m   6252\u001b[0m     \u001b[38;5;28;01mraise\u001b[39;00m \u001b[38;5;167;01mKeyError\u001b[39;00m(\u001b[38;5;124mf\u001b[39m\u001b[38;5;124m\"\u001b[39m\u001b[38;5;132;01m{\u001b[39;00mnot_found\u001b[38;5;132;01m}\u001b[39;00m\u001b[38;5;124m not in index\u001b[39m\u001b[38;5;124m\"\u001b[39m)\n",
      "\u001b[1;31mKeyError\u001b[0m: \"None of [Index(['Amanda', 'Maxine'], dtype='object')] are in the [index]\""
     ]
    }
   ],
   "source": [
    "#Q23\n",
    "\n",
    "#a\n",
    "temp_dict = {\n",
    "    'Maxine': [96.5, 98.2, 97.8],\n",
    "    'James': [99.1, 98.3, 98.7],\n",
    "    'Amanda': [97.8, 98.1, 98.5]\n",
    "}\n",
    "temperatures_df = pd.DataFrame(temp_dict)\n",
    "print(temperatures_df)\n",
    "print()\n",
    "\n",
    "#b\n",
    "temperatures_df = pd.DataFrame(temp_dict, index=['Morning', 'Afternoon', 'Evening'])\n",
    "print(temperatures_df)\n",
    "print()\n",
    "\n",
    "#c\n",
    "maxine_temps = temperatures_df['Maxine']\n",
    "print(maxine_temps)\n",
    "#d\n",
    "morning_temps = temperatures.iloc[0]\n",
    "print(morning_temps)\n",
    "\n",
    "#e\n",
    "morning_evening_temps = temperatures[0: 2]\n",
    "print(morning_evening_temps)\n",
    "\n",
    "#f\n",
    "amanda_maxine_temps = temperatures[['Amanda', 'Maxine']]\n",
    "print(amanda_maxine_temps)\n",
    "\n",
    "#g\n",
    "specific_temps = temperatures.loc[['Morning', 'Afternoon'], ['Amanda', 'Maxine']]\n",
    "print(specific_temps)\n",
    "\n",
    "#h\n",
    "temp_stats = temperatures.describe()\n",
    "print(temp_stats)\n",
    "  \n",
    "\n",
    "#i\n",
    "transposed_temps = temperatures.T\n",
    "print(transposed_temps)\n",
    "\n",
    "#j\n",
    "sorted_temps = temperatures[sorted(temperatures.columns)]\n",
    "print(sorted_temps)\n"
   ]
  },
  {
   "cell_type": "code",
   "execution_count": null,
   "metadata": {},
   "outputs": [],
   "source": []
  }
 ],
 "metadata": {
  "kernelspec": {
   "display_name": ".venv",
   "language": "python",
   "name": "python3"
  },
  "language_info": {
   "codemirror_mode": {
    "name": "ipython",
    "version": 3
   },
   "file_extension": ".py",
   "mimetype": "text/x-python",
   "name": "python",
   "nbconvert_exporter": "python",
   "pygments_lexer": "ipython3",
   "version": "3.12.6"
  }
 },
 "nbformat": 4,
 "nbformat_minor": 2
}
